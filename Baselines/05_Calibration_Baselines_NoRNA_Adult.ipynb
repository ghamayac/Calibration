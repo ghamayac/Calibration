{
  "cells": [
    {
      "cell_type": "markdown",
      "metadata": {
        "id": "8oS2qCGmk1ME"
      },
      "source": [
        "# Purpose of this code"
      ]
    },
    {
      "cell_type": "code",
      "execution_count": null,
      "metadata": {
        "colab": {
          "base_uri": "https://localhost:8080/"
        },
        "id": "VZXAfir4IjrH",
        "outputId": "6ee66ff7-a028-40c8-ddb1-773ec0e68990"
      },
      "outputs": [
        {
          "output_type": "stream",
          "name": "stdout",
          "text": [
            "Looking in indexes: https://pypi.org/simple, https://us-python.pkg.dev/colab-wheels/public/simple/\n",
            "Collecting git+https://github.com/uu-sml/calibration.git\n",
            "  Cloning https://github.com/uu-sml/calibration.git to /tmp/pip-req-build-qa5e7qus\n",
            "  Running command git clone -q https://github.com/uu-sml/calibration.git /tmp/pip-req-build-qa5e7qus\n",
            "Collecting anytree\n",
            "  Downloading anytree-2.8.0-py2.py3-none-any.whl (41 kB)\n",
            "\u001b[K     |████████████████████████████████| 41 kB 134 kB/s \n",
            "\u001b[?25hRequirement already satisfied: numpy in /usr/local/lib/python3.8/dist-packages (from calibration==0.0.1) (1.21.6)\n",
            "Requirement already satisfied: six>=1.9.0 in /usr/local/lib/python3.8/dist-packages (from anytree->calibration==0.0.1) (1.15.0)\n",
            "Building wheels for collected packages: calibration\n",
            "  Building wheel for calibration (setup.py) ... \u001b[?25l\u001b[?25hdone\n",
            "  Created wheel for calibration: filename=calibration-0.0.1-py3-none-any.whl size=16891 sha256=37fd5df6fb7511b4a2538599ef9c8a19eb7bf1d35f1c282aa19546a887049b11\n",
            "  Stored in directory: /tmp/pip-ephem-wheel-cache-fn_c3oo8/wheels/ea/67/e0/9f3de41456f07fb81268b88a9adad2069f4fc3b7dcab126433\n",
            "Successfully built calibration\n",
            "Installing collected packages: anytree, calibration\n",
            "Successfully installed anytree-2.8.0 calibration-0.0.1\n"
          ]
        }
      ],
      "source": [
        "## Install calibration package\n",
        "!pip install git+https://github.com/uu-sml/calibration.git"
      ]
    },
    {
      "cell_type": "code",
      "execution_count": null,
      "metadata": {
        "id": "JbCuxYRbCqcO"
      },
      "outputs": [],
      "source": [
        "import pandas as pd\n",
        "import numpy as np\n",
        "import matplotlib.pyplot as plt\n",
        "from matplotlib.ticker import FormatStrFormatter\n",
        "import seaborn as sns\n",
        "import os\n",
        "import shutil\n",
        "import time\n",
        "\n",
        "from sklearn import metrics\n",
        "from sklearn import calibration\n",
        "from scipy import stats as sp_stats\n",
        "\n",
        "from sklearn.datasets import load_breast_cancer\n",
        "from sklearn.preprocessing import MinMaxScaler, OneHotEncoder, StandardScaler\n",
        "from sklearn import model_selection\n",
        "from sklearn.model_selection import train_test_split\n",
        "\n",
        "from sklearn.neural_network import MLPClassifier\n",
        "from sklearn.linear_model import LogisticRegression\n",
        "from sklearn.ensemble import RandomForestClassifier\n",
        "from sklearn.neighbors import KNeighborsClassifier \n",
        "from sklearn.tree import DecisionTreeClassifier\n",
        "from sklearn import svm\n",
        "from sklearn.naive_bayes import GaussianNB"
      ]
    },
    {
      "cell_type": "markdown",
      "metadata": {
        "id": "wHcPDztJ2sRk"
      },
      "source": [
        "El paquete de _calibration_ tal cual como viene de github, no trae la carpeta de _utils_ donde están las distancias que se pueden utilizar. Adicionalmente, la inicialización del paquete no contiene nada, por lo cual se debe solucionar este problema con los siguientes."
      ]
    },
    {
      "cell_type": "code",
      "execution_count": null,
      "metadata": {
        "colab": {
          "base_uri": "https://localhost:8080/"
        },
        "id": "1D2RNlAekzBP",
        "outputId": "95b44524-de36-4903-fca8-28dd2c639882"
      },
      "outputs": [
        {
          "output_type": "stream",
          "name": "stdout",
          "text": [
            "Mounted at /content/drive\n"
          ]
        }
      ],
      "source": [
        "from google.colab import drive\n",
        "drive.mount(\"/content/drive\")"
      ]
    },
    {
      "cell_type": "code",
      "execution_count": null,
      "metadata": {
        "colab": {
          "base_uri": "https://localhost:8080/",
          "height": 36
        },
        "id": "I5QzeAFa2llE",
        "outputId": "cc1ba8ff-7fb8-4eaf-842e-2a9b164da3a9"
      },
      "outputs": [
        {
          "output_type": "execute_result",
          "data": {
            "text/plain": [
              "'/usr/local/lib/python3.8/dist-packages/calibration/utils/__init__.py'"
            ],
            "application/vnd.google.colaboratory.intrinsic+json": {
              "type": "string"
            }
          },
          "metadata": {},
          "execution_count": 4
        }
      ],
      "source": [
        "## Path in where files to fix clone of calibration module are\n",
        "path_in = \"/content/drive/MyDrive/Trabajo de Grado Maestría/Librería Calibration/\"\n",
        "\n",
        "## Path out where files to fix clone of calibration module have to be\n",
        "path_out = \"/usr/local/lib/python3.8/dist-packages/calibration/\"\n",
        "\n",
        "## Create folder \n",
        "if not os.path.isdir(path_out + \"utils\"):\n",
        "  os.mkdir(path_out + \"utils\")\n",
        "\n",
        "## Copy files\n",
        "shutil.copyfile(path_in + \"distances.py\", path_out + \"utils/distances.py\")\n",
        "shutil.copyfile(path_in + \"__init__.py\", path_out + \"utils/__init__.py\")"
      ]
    },
    {
      "cell_type": "code",
      "execution_count": null,
      "metadata": {
        "id": "eZ5vNsWzIn_O"
      },
      "outputs": [],
      "source": [
        "## Calibration functions\n",
        "import calibration.stats as cali_stats\n",
        "import calibration.utils as cali_utils\n",
        "import calibration.binning as cali_binning\n",
        "import calibration.sample as cali_sample\n",
        "import calibration.lenses as cali_lenses"
      ]
    },
    {
      "cell_type": "markdown",
      "metadata": {
        "id": "a4S-eMFZ2FoG"
      },
      "source": [
        "## Other functions"
      ]
    },
    {
      "cell_type": "code",
      "execution_count": null,
      "metadata": {
        "id": "QZ6RK-pP2Hd3"
      },
      "outputs": [],
      "source": [
        "#===========================================================#\n",
        "#     Function to obtain probabilities from SVM model       #\n",
        "#===========================================================#\n",
        "def proba_svm(X, model):\n",
        "  # pred = model.decision_function(X)\n",
        "  # pred = (pred - pred.min())/(pred.max() - pred.min())\n",
        "  # pred = np.concatenate((1-pred.reshape(-1,1), pred.reshape(-1,1)), axis = 1)\n",
        "\n",
        "  pred = 1/(1 + np.exp(-model.decision_function(X)))\n",
        "  pred = np.concatenate((1-pred.reshape(-1,1), pred.reshape(-1,1)), axis = 1)\n",
        "  return pred"
      ]
    },
    {
      "cell_type": "markdown",
      "metadata": {
        "id": "f1EpJZ9fjckP"
      },
      "source": [
        "## Cleansing functions"
      ]
    },
    {
      "cell_type": "code",
      "execution_count": null,
      "metadata": {
        "id": "6AvJvq6JjcIm"
      },
      "outputs": [],
      "source": [
        "# One hot categorical variables\n",
        "def getCatVariables(nom_cat):\n",
        "  \"\"\"\n",
        "  Function to get one hot encoding for categorical variables based on the names\n",
        "  in the dataframe.\n",
        "\n",
        "  Return numpy array  \n",
        "  \"\"\" \n",
        "  c = 0\n",
        "  if len(nom_cat) > 0:\n",
        "    for i in nom_cat:\n",
        "      if c == 0:\n",
        "        X_cat = pd.get_dummies(df[i]).values\n",
        "        c += 1\n",
        "      else:        \n",
        "        X_cat = np.concatenate((X_cat, pd.get_dummies(df[i]).values) , axis = 1)\n",
        "        c += 1\n",
        "  else:\n",
        "    X_cat = None\n",
        "  return X_cat\n",
        "\n",
        "# Combine numerical variables\n",
        "def getNumVariables(nom_num):\n",
        "  \"\"\"\n",
        "  Function to get the numerical variables based on the names in the dataframe.\n",
        "\n",
        "  Return numpy array  \n",
        "  \"\"\" \n",
        "  c = 0\n",
        "  if len(nom_num) > 0:\n",
        "    for i in nom_num:\n",
        "      if c == 0:\n",
        "        X_num = pd.to_numeric(df[i]).to_numpy().reshape(-1,1)\n",
        "        c += 1\n",
        "      else:\n",
        "        X_num = np.concatenate((X_num, pd.to_numeric(df[i]).to_numpy().reshape(-1,1)), axis = 1)\n",
        "        c += 1\n",
        "  else:\n",
        "    X_num = None\n",
        "\n",
        "  return X_num"
      ]
    },
    {
      "cell_type": "markdown",
      "metadata": {
        "id": "vn62-tJhajLS"
      },
      "source": [
        "## Calibration functions"
      ]
    },
    {
      "cell_type": "code",
      "execution_count": null,
      "metadata": {
        "id": "VHxEfigoCI6d"
      },
      "outputs": [],
      "source": [
        "#===================================#\n",
        "#     Class-wise ECE for tensors    #    \n",
        "#===================================#\n",
        "def cwECE_tf(y_true, y_pred):\n",
        "  n_bins = 15\n",
        "  \n",
        "  ## Bins partitions\n",
        "  bin_boundaries = np.linspace(0, 1, n_bins + 1)\n",
        "  bin_lowers = bin_boundaries[:-1]\n",
        "  bin_uppers = bin_boundaries[1:]\n",
        "\n",
        "  ## List to store the ECE for each class\n",
        "  ece_list = 0.0\n",
        "\n",
        "  ## Calculate ECE for each class\n",
        "  for k in range(y_pred.shape[1]):\n",
        "    ## Store probs and observations\n",
        "    confidences = y_pred[:,k]\n",
        "    accuracies = y_pred[:,k] == 1\n",
        "\n",
        "    ece = 0.0\n",
        "    # ## Iterate over each bin Bij\n",
        "    for bin_lower, bin_upper in zip(bin_lowers, bin_uppers):\n",
        "      bin_lower = np.where(bin_lower == 0, -0.000000001, bin_lower).tolist()\n",
        "      in_bin = (confidences > bin_lower) & (confidences <= bin_upper)\n",
        "      prop_in_bin = tf.reduce_mean(tf.cast(in_bin, tf.float32))\n",
        "\n",
        "      if prop_in_bin > 0:\n",
        "          accuracy_in_bin = tf.reduce_mean(tf.cast(accuracies[in_bin], tf.float32))\n",
        "          avg_confidence_in_bin = tf.reduce_mean(tf.cast(confidences[in_bin], tf.float32))\n",
        "          ece += tf.math.abs(avg_confidence_in_bin - accuracy_in_bin) * prop_in_bin\n",
        "    ## Store values \n",
        "    ece_list += ece\n",
        "\n",
        "  ece_list = ece_list/y_pred.shape[1]\n",
        "\n",
        "  return ece_list\n",
        "\n",
        "#========================================#\n",
        "#   Maximum confidence ECE for tensors   #\n",
        "#========================================#\n",
        "def maxECE_tf(y_true, y_pred):\n",
        "  n_bins = 15\n",
        "\n",
        "  ## Bins partitions\n",
        "  bin_boundaries = np.linspace(0, 1, n_bins + 1)\n",
        "  bin_lowers = bin_boundaries[:-1]\n",
        "  bin_uppers = bin_boundaries[1:]\n",
        "\n",
        "  ## Confidence and predictions\n",
        "  confidences = tf.math.reduce_max(y_pred, axis = 1)\n",
        "  predictions = tf.math.argmax(y_pred, axis = 1)\n",
        "  accuracies = predictions == tf.math.argmax(y_true, axis = 1)\n",
        "\n",
        "  ## Confidence and predictions in each bin\n",
        "  ece = 0.0\n",
        "  for bin_lower, bin_upper in zip(bin_lowers, bin_uppers):\n",
        "    bin_lower = np.where(bin_lower == 0, -0.000000001, bin_lower).tolist()\n",
        "    in_bin = (confidences > bin_lower) & (confidences <= bin_upper)\n",
        "    prop_in_bin = tf.reduce_mean(tf.cast(in_bin, tf.float32))\n",
        "\n",
        "    if prop_in_bin > 0:\n",
        "        accuracy_in_bin = tf.reduce_mean(tf.cast(accuracies[in_bin], tf.float32))\n",
        "        avg_confidence_in_bin = tf.reduce_mean(tf.cast(confidences[in_bin], tf.float32))\n",
        "        ece += tf.math.abs(avg_confidence_in_bin - accuracy_in_bin) * prop_in_bin\n",
        "      \n",
        "  return ece\n",
        "\n",
        "#================================#\n",
        "#          Class-wise ECE        #\n",
        "#================================#\n",
        "def cwECE(n_bins, probs, obs, metric):\n",
        "  ## Bins partitions\n",
        "  bin_boundaries = np.linspace(0, 1, n_bins + 1)\n",
        "  bin_lowers = bin_boundaries[:-1]\n",
        "  bin_uppers = bin_boundaries[1:]\n",
        "\n",
        "  ## List to store the ECE for each class\n",
        "  ece_list = []\n",
        "\n",
        "  ## Lists to store values to plot the reliability diagram\n",
        "  conf_list = []\n",
        "  acc_list = []\n",
        "  bin_list = []\n",
        "\n",
        "  ## Calculate ECE for each class\n",
        "  for k in range(probs.shape[1]):\n",
        "    \n",
        "    ## Store probs and observations\n",
        "    confidences = probs[:,k]\n",
        "    accuracies = obs[:,k] == 1\n",
        "\n",
        "    ## Lists to store values to plot the reliability diagram\n",
        "    conf = []\n",
        "    acc = []\n",
        "    bin = []\n",
        "\n",
        "    ece = 0\n",
        "    ## Iterate over each bin Bij\n",
        "    for bin_lower, bin_upper in zip(bin_lowers, bin_uppers):       \n",
        "      bin_lower = np.where(bin_lower == 0, -0.000000001, bin_lower).tolist()\n",
        "      in_bin = (confidences > bin_lower)*(confidences <= bin_upper)      \n",
        "      prop_in_bin = np.mean(in_bin)\n",
        "      if prop_in_bin > 0:\n",
        "        accuracy_in_bin = np.mean(accuracies[in_bin])\n",
        "        avg_confidence_in_bin = np.mean(confidences[in_bin])\n",
        "        ece += np.abs(avg_confidence_in_bin - accuracy_in_bin) * prop_in_bin\n",
        "        conf += [avg_confidence_in_bin]\n",
        "        acc += [accuracy_in_bin]\n",
        "        bin += [(bin_lower + bin_upper)/2]        \n",
        "        del in_bin, prop_in_bin, accuracy_in_bin, avg_confidence_in_bin\n",
        "    ## Store values\n",
        "    conf_list += [conf]\n",
        "    acc_list += [acc]\n",
        "    bin_list += [bin]    \n",
        "    ece_list += [ece]\n",
        "    del conf, acc, bin, ece\n",
        "  \n",
        "  if metric is True:\n",
        "    return np.mean(ece_list)\n",
        "  else:\n",
        "    return ece_list, conf_list, acc_list, bin_list\n",
        "\n",
        "#================================#\n",
        "#    Maximum confidence ECE      #\n",
        "#================================#\n",
        "def maxECE(n_bins, probs, obs, metric):\n",
        "  ## Lists to store values to plot the reliability diagram\n",
        "  conf_list = []\n",
        "  acc_list = []\n",
        "  bin_list = []\n",
        "\n",
        "  ## Bins partitions\n",
        "  bin_boundaries = np.linspace(0, 1, n_bins + 1)\n",
        "  bin_lowers = bin_boundaries[:-1]\n",
        "  bin_uppers = bin_boundaries[1:]\n",
        "\n",
        "  ## Confidence and predictions\n",
        "  confidences = probs.max(axis = 1)\n",
        "  predictions = probs.argmax(axis = 1)\n",
        "  accuracies = probs.argmax(axis = 1) == obs.argmax(axis = 1)\n",
        "\n",
        "  ## Confidence and predictions in each bin\n",
        "  ece = 0\n",
        "  for bin_lower, bin_upper in zip(bin_lowers, bin_uppers):\n",
        "    bin_lower = np.where(bin_lower == 0, -0.000000001, bin_lower).tolist()\n",
        "    in_bin = (confidences > bin_lower)*(confidences <= bin_upper)\n",
        "    prop_in_bin = np.mean(in_bin)  \n",
        "\n",
        "    if prop_in_bin > 0:\n",
        "      accuracy_in_bin = np.mean(accuracies[in_bin])\n",
        "      avg_confidence_in_bin = np.mean(confidences[in_bin])\n",
        "      ece += np.abs(avg_confidence_in_bin - accuracy_in_bin) * prop_in_bin\n",
        "      conf_list += [avg_confidence_in_bin]\n",
        "      acc_list += [accuracy_in_bin]\n",
        "      bin_list += [(bin_lower + bin_upper)/2]   \n",
        "\n",
        "  if metric is True:\n",
        "    return ece\n",
        "  else: \n",
        "    return ece, conf_list, acc_list, bin_list\n",
        "\n",
        "#========================#\n",
        "#   Brier multiclass     #\n",
        "#========================#\n",
        "def brier_multi(targets, probs):\n",
        "  \"\"\" \n",
        "  targets: Numpy array of one-hot encoding of observed labels with shape (n, classes)\n",
        "  probs: Numpy array of probs for each class with shape (n, classes)\n",
        "  \"\"\"\n",
        "  return np.mean(np.sum((probs - targets)**2, axis = 1))\n",
        "\n",
        "#================================================#\n",
        "#   Function to calculate calibration metrics    #\n",
        "#================================================#\n",
        "def resume_metrics(X_test, Y_test, T_test, model, nbins, p_value, proba):\n",
        "  \"\"\"\n",
        "  Arguments:\n",
        "    X_test    : Covariates for testing (n,p)\n",
        "    Y_test    : Target variable dimension for testing (n,)\n",
        "    T_test    : One hot encoding of the target variable dimension for testing (n,c)\n",
        "    p_value   : Whether it should be done the resampling to obtain the p-value of ece metrics\n",
        "\n",
        "    model     : Model object that contains .predict function to obtain the probabilities for each class    \n",
        "    nbins     : Number of equally sized bins created\n",
        "    p_value   : Wheter calculate the ECE metrics p-value\n",
        "    proba     : Wheter model object has predict_proba class to obtain probabilities\n",
        "\n",
        "  where: \n",
        "    c: Number of classes\n",
        "    p: number of covariates\n",
        "    n: Number of observations\n",
        "\n",
        "  It returns a tuple with pandas data.frames with results of calibration metrics \n",
        "  \"\"\"\n",
        "  \n",
        "  #==============================================#\n",
        "  #                 Organize data                #\n",
        "  #==============================================#\n",
        "  ## Predictions on test\n",
        "  if proba == \"predict_proba\":\n",
        "    pred_test = model.predict_proba(X_test)\n",
        "  elif proba == \"predict\":\n",
        "    pred_test = model.predict(X_test)\n",
        "  elif proba == \"svm\":    \n",
        "    pred_test = model.decision_function(X_test)\n",
        "    pred_test = (pred_test - pred_test.min())/(pred_test.max() - pred_test.min())\n",
        "    pred_test = np.concatenate((1-pred_test.reshape(-1,1), pred_test.reshape(-1,1)), axis = 1)\n",
        "  else: \n",
        "    return \"Invalid 'proba' argument\"\n",
        "  \n",
        "  ## Most confident probability predictions (Maximum lenses)\n",
        "  pred_test_max, T_test_max = cali_lenses.maximum_lens(probs = pred_test, y = T_test)\n",
        "\n",
        "  #=============================================================================#\n",
        "  #                  Expected Calibration Error                                 #\n",
        "  #=============================================================================#\n",
        "  ## Cambiar nombres\n",
        "  ## ECE + dependent binning + tvdistance\n",
        "  ece_max_uni = cali_stats.ece(probs = pred_test_max, \n",
        "                              y = T_test_max,\n",
        "                              distance = cali_utils.tvdistance, \n",
        "                              binning = cali_binning.DataDependentBinning(min_size = pred_test.shape[0]*0.1, threshold = \"mean\"))\n",
        "\n",
        "  ## ECE + uniform binning + tvdistance\n",
        "  ece_max_dep = cali_stats.ece(probs = pred_test_max, \n",
        "                              y = T_test_max,\n",
        "                              distance = cali_utils.tvdistance, \n",
        "                              binning = cali_binning.UniformBinning(bins = nbins))\n",
        "\n",
        "  ## cwECE + uniform binning\n",
        "  ece_cw_uni = cwECE(n_bins = nbins, probs = pred_test, obs = T_test, metric = True)\n",
        "\n",
        "  #======================================================#\n",
        "  #       Samples under perfect calibration (ECE)        #\n",
        "  #======================================================#\n",
        "\n",
        "  if p_value:\n",
        "    np.random.seed(6164)\n",
        "    ## ECE + dependent binning + tvdistance\n",
        "    # Define Resampling\n",
        "    resample = cali_sample.ResampleStats(\n",
        "        lambda x: cali_stats.ece(probs = x, y = None, distance = cali_utils.tvdistance,\n",
        "                                binning = cali_binning.DataDependentBinning(min_size = pred_test.shape[0]*0.1, threshold = \"mean\")),\n",
        "                                n = 1000)\n",
        "    \n",
        "    # Generate samples\n",
        "    ece_max_dep_sample = resample(pred_test_max)\n",
        "    del resample\n",
        "\n",
        "    ## ECE + uniform binning + tvdistance\n",
        "    # Define Resampling\n",
        "    resample = cali_sample.ResampleStats(\n",
        "        lambda x: cali_stats.ece(probs = x, y = None, distance = cali_utils.tvdistance, \n",
        "                                binning = cali_binning.UniformBinning(bins = nbins)),\n",
        "                                n = 1000)\n",
        "\n",
        "    # Generate samples\n",
        "    ece_max_uni_sample = resample(pred_test_max)\n",
        "    del resample\n",
        "\n",
        "    ## cw-ECE + uniform binning\n",
        "    # Define Resampling\n",
        "    resample = cali_sample.ResampleStats(lambda x: cwECE(n_bins = nbins, probs = x, obs = T_test, metric = True), n = 1000)\n",
        "\n",
        "    # Generate samples\n",
        "    ece_cw_uni_sample = resample(pred_test)\n",
        "\n",
        "    #====================================================================#\n",
        "    #    P-value of ECE under assumption of perfect calibration (ECE)    #\n",
        "    #====================================================================#\n",
        "    ## Data dependent binning + tv distance\n",
        "    p_data_max = 1 - sp_stats.percentileofscore(ece_max_dep_sample, ece_max_dep)/100\n",
        "\n",
        "    ## Uniform binning + tv distance\n",
        "    p_uni_max = 1 - sp_stats.percentileofscore(ece_max_uni_sample, ece_max_uni)/100\n",
        "\n",
        "    ## Uniform binning + tv distance\n",
        "    p_uni_cw = 1 - sp_stats.percentileofscore(ece_cw_uni_sample, ece_cw_uni)/100\n",
        "  \n",
        "  #==================================#\n",
        "  #          Brier score             #\n",
        "  #==================================#  \n",
        "  ## Brier for all classes\n",
        "  bri_full = brier_multi(targets = T_test, probs = pred_test)\n",
        "\n",
        "  ## Brier for most confidence class\n",
        "  bri_max = brier_multi(targets = T_test_max, probs = pred_test_max)\n",
        "\n",
        "  #===========================#\n",
        "  #           Log Loss        #\n",
        "  #===========================#\n",
        "  loss_full = metrics.log_loss(y_true = T_test, y_pred = pred_test)\n",
        "  loss_maxx = metrics.log_loss(y_true = T_test_max, y_pred = pred_test_max)\n",
        "\n",
        "  #=================================================#\n",
        "  #                 Reliability Diagram             #\n",
        "  #=================================================#\n",
        "  ## Class-wise reliability diagram and ECE individually\n",
        "  cw_ece_list, cw_conf_list, cw_acc_list, cw_bin_list = cwECE(n_bins = nbins, probs = pred_test, obs = T_test, metric = False)\n",
        "\n",
        "  ## Most confident prediction \n",
        "  max_ece, max_conf_list, max_acc_list, max_bin_list = maxECE(n_bins = nbins, probs = pred_test_max, obs = T_test_max, metric = False)\n",
        "\n",
        "  ## Organize data\n",
        "  diag_cw = pd.DataFrame({\"ece\" : cw_ece_list, \"conf\" : cw_conf_list, \"acc\" : cw_acc_list, \"bin\" : cw_bin_list})\n",
        "  diag_max = pd.DataFrame({\"ece\" : max_ece, \"conf\" : max_conf_list, \"acc\" : max_acc_list, \"bin\" : max_bin_list})\n",
        "\n",
        "  #=============================#\n",
        "  #   Combine all the results   #\n",
        "  #=============================#\n",
        "  if p_value:\n",
        "    ## Combine results\n",
        "    global_metrics_ece = pd.DataFrame({\n",
        "        \"Approach\" : [\"Maximum\",\"Maximum\",\"CW\"],\n",
        "        \"Distance\" : [\"TV\",\"TV\",\"-\"],\n",
        "        \"Binning\" : [\"Data\",\"Uniform\",\"Uniform\"],\n",
        "        \"ECE observed\" : [ece_max_dep, ece_max_uni, ece_cw_uni],\n",
        "        \"ECE perfcect mean\" : [np.mean(ece_max_dep_sample), np.mean(ece_max_uni_sample), np.mean(ece_cw_uni_sample) ],\n",
        "        \"ECE perfcect std\" : [np.std(ece_max_dep_sample), np.std(ece_max_uni_sample), np.std(ece_cw_uni_sample) ],\n",
        "        \"ECE p-value\" : [p_data_max, p_uni_max, p_uni_cw] })\n",
        "  else: \n",
        "        ## Combine results\n",
        "    global_metrics_ece = pd.DataFrame({\n",
        "        \"Approach\" : [\"Maximum\",\"Maximum\",\"CW\"],\n",
        "        \"Distance\" : [\"TV\",\"TV\",\"-\"],\n",
        "        \"Binning\" : [\"Data\",\"Uniform\",\"Uniform\"],\n",
        "        \"ECE observed\" : [ece_max_dep, ece_max_uni, ece_cw_uni],\n",
        "        \"ECE perfcect mean\" : [np.nan, np.nan, np.nan ],\n",
        "        \"ECE perfcect std\" : [np.nan, np.nan, np.nan ],\n",
        "        \"ECE p-value\" : [np.nan, np.nan, np.nan ] })\n",
        "  \n",
        "  global_metrics = pd.DataFrame({\n",
        "      \"Brier_full\" : [bri_full],\n",
        "      \"Brier_maximum\" : [bri_max],\n",
        "      \"Log-loss_full\" : [loss_full],\n",
        "      \"Log-loss_maximum\" : [loss_maxx] })\n",
        "  \n",
        "  return global_metrics, global_metrics_ece, diag_max, diag_cw\n",
        "\n",
        "\n",
        "#=====================================================================#\n",
        "#           Function to plot the results of the optimization          #\n",
        "#=====================================================================#\n",
        "def GraphOptimizationMetrics(df_metrics, df_metrics_ece, par_row, par_col, name_par_row, name_par_col):\n",
        "  \"\"\"  \n",
        "  This functions plot the results of global and calibration metrics output of resume_metrics.\n",
        "\n",
        "  df_metrics: It is a pandas dataframe that corresponds to the \"gm\" object\n",
        "  df_metrics_ece: It is a pandas dataframe that corresponds to the \"gm_ece\" object\n",
        "  par_row: String of the name of the parameter in the tables to display in the row heatmap\n",
        "  par_col: String of the name of the parameter in the tables to display in the columns heatmap\n",
        "  name_par_row: String of the name of the parameter to display in the row heatmap\n",
        "  name_par_col: String of the name of the parameter to display in the column heatmap\n",
        "\n",
        "  Output a grid of plots with some of the results\n",
        "  \"\"\"\n",
        "  ## Subset data\n",
        "  ece_cw = df_metrics_ece.loc[df_metrics_ece[\"Approach\"] == \"CW\",:]\n",
        "  ece_max_u = df_metrics_ece.loc[(df_metrics_ece[\"Approach\"] == \"Maximum\") & (df_metrics_ece[\"Binning\"] == \"Uniform\"),:]\n",
        "  ece_max_d = df_metrics_ece.loc[(df_metrics_ece[\"Approach\"] == \"Maximum\") & (df_metrics_ece[\"Binning\"] == \"Data\"),:]\n",
        "\n",
        "  ## Format for ticks\n",
        "  majorFormatter = FormatStrFormatter('%.2f')\n",
        "\n",
        "  ## Color map for heatmaps\n",
        "  color_map = \"flare_r\"#\"Greys_r\"#\"flare_r\"\n",
        "\n",
        "  if df_metrics[par_col].unique().shape[0] != 1:\n",
        "    fig, axis = plt.subplots(2, 4, figsize = (20,8))\n",
        "\n",
        "    ##====== Log-loss    \n",
        "    dd = df_metrics.pivot(par_row, par_col, \"Log-loss_full\")\n",
        "    dd.columns = np.round(dd.columns,2)\n",
        "    dd.index = np.round(dd.index,2)\n",
        "    sns.heatmap(dd,\n",
        "                ax = axis[0,0],\n",
        "                cmap = color_map,\n",
        "                cbar_kws={'label': ''})\n",
        "\n",
        "    axis[0,0].set_xlabel(name_par_col)\n",
        "    axis[0,0].set_ylabel(name_par_row)\n",
        "    axis[0,0].set_title(\"Log-loss (Validation)\")\n",
        "    # axis[0,0].xaxis.set_major_formatter(majorFormatter)\n",
        "    axis[0,0].tick_params(axis='y', which = 'major', rotation = 0)\n",
        "\n",
        "    ##====== Accuracy train\n",
        "    dd = df_metrics.pivot(par_row, par_col, \"acc_train\")\n",
        "    dd.columns = np.round(dd.columns,2)\n",
        "    dd.index = np.round(dd.index,2)\n",
        "    sns.heatmap(dd,\n",
        "                cmap = color_map.replace(\"_r\",\"\"),\n",
        "                ax = axis[0,1],\n",
        "                cbar_kws={'label': ''})\n",
        "\n",
        "    axis[0,1].set_xlabel(name_par_col)\n",
        "    axis[0,1].set_ylabel(name_par_row)\n",
        "    axis[0,1].set_title(\"Accuracy (Training)\")\n",
        "    #axis[0,1].xaxis.set_major_formatter(majorFormatter)\n",
        "    axis[0,1].tick_params(axis='y', which = 'major', rotation = 0)\n",
        "\n",
        "    ##====== Accuracy validation\n",
        "    dd = df_metrics.pivot(par_row, par_col, \"acc_val\")\n",
        "    dd.columns = np.round(dd.columns,2)\n",
        "    dd.index = np.round(dd.index,2)\n",
        "    sns.heatmap(dd,\n",
        "                cmap = color_map.replace(\"_r\",\"\"),\n",
        "                ax = axis[0,2],\n",
        "                cbar_kws={'label': ''})\n",
        "\n",
        "    axis[0,2].set_xlabel(name_par_col)\n",
        "    axis[0,2].set_ylabel(name_par_row)\n",
        "    axis[0,2].set_title(\"Accuracy (Validation)\")\n",
        "    #axis[0,2].xaxis.set_major_formatter(majorFormatter)\n",
        "    axis[0,2].tick_params(axis='y', which = 'major', rotation = 0)\n",
        "\n",
        "    ##====== Blank plot\n",
        "    axis[0,3].set_visible(False)\n",
        "\n",
        "    ##====== Brier\n",
        "    dd = df_metrics.pivot(par_row, par_col, \"Brier_full\")\n",
        "    dd.columns = np.round(dd.columns,2)\n",
        "    dd.index = np.round(dd.index,2)\n",
        "    sns.heatmap(dd,\n",
        "                cmap = color_map,\n",
        "                ax = axis[1,0],\n",
        "                cbar_kws={'label': ''})\n",
        "\n",
        "    axis[1,0].set_xlabel(name_par_col)\n",
        "    axis[1,0].set_ylabel(name_par_row)\n",
        "    axis[1,0].set_title(\"Brier Score (Validation)\")\n",
        "    #axis[1,0].xaxis.set_major_formatter(majorFormatter)\n",
        "    axis[1,0].tick_params(axis='y', which = 'major', rotation = 0)\n",
        "\n",
        "    ##====== ECE uniform\n",
        "    dd = ece_max_u.pivot(par_row, par_col, \"ECE observed\")\n",
        "    dd.columns = np.round(dd.columns,2)\n",
        "    dd.index = np.round(dd.index,2)\n",
        "    sns.heatmap(dd, \n",
        "                cmap = color_map,\n",
        "                ax = axis[1,1],\n",
        "                cbar_kws={'label': ''})\n",
        "\n",
        "    axis[1,1].set_xlabel(name_par_col)\n",
        "    axis[1,1].set_ylabel(name_par_row)\n",
        "    axis[1,1].set_title(\"Max-ECE uniform\\n(Validation)\")\n",
        "    #axis[1,1].xaxis.set_major_formatter(majorFormatter)    \n",
        "    axis[1,1].tick_params(axis='y', which = 'major', rotation = 0)\n",
        "\n",
        "    ##====== ECE data\n",
        "    dd = ece_max_d.pivot(par_row, par_col, \"ECE observed\")\n",
        "    dd.columns = np.round(dd.columns,2)\n",
        "    dd.index = np.round(dd.index,2)\n",
        "    sns.heatmap(dd, \n",
        "                cmap = color_map,\n",
        "                ax = axis[1,2],\n",
        "                cbar_kws={'label': ''})\n",
        "\n",
        "    axis[1,2].set_xlabel(name_par_col)\n",
        "    axis[1,2].set_ylabel(name_par_row)\n",
        "    axis[1,2].set_title(\"Max-ECE data\\n(Validation)\")\n",
        "    #axis[1,2].xaxis.set_major_formatter(majorFormatter)    \n",
        "    axis[1,2].tick_params(axis='y', which = 'major', rotation = 0)\n",
        "\n",
        "    ##====== CW-ECE\n",
        "    dd = ece_cw.pivot(par_row, par_col, \"ECE observed\")\n",
        "    dd.columns = np.round(dd.columns,2)\n",
        "    dd.index = np.round(dd.index,2)\n",
        "    sns.heatmap(dd, \n",
        "                cmap = color_map,\n",
        "                ax = axis[1,3],\n",
        "                cbar_kws={'label': ''})\n",
        "\n",
        "    axis[1,3].set_xlabel(name_par_col)\n",
        "    axis[1,3].set_ylabel(name_par_row)\n",
        "    axis[1,3].set_title(\"CW-ECE\\n(Validation)\")\n",
        "    #axis[1,3].xaxis.set_major_formatter(majorFormatter)    \n",
        "    axis[1,3].tick_params(axis='y', which = 'major', rotation = 0)\n",
        "\n",
        "    ## Adjust space between plots\n",
        "    fig.subplots_adjust(hspace = 0.5, wspace = 0.2)\n",
        "    plt.show()\n",
        "  else:\n",
        "    fig, axis = plt.subplots(2, 4, figsize = (20,8))\n",
        "\n",
        "    ##====== Log-loss\n",
        "    axis[0,0].plot(df_metrics[par_row], df_metrics[\"Log-loss_full\"], \".-\", color = \"#6F6F6F\")\n",
        "    axis[0,0].set_xlabel(name_par_row)\n",
        "    axis[0,0].set_ylabel(\"Log-loss\")\n",
        "    axis[0,0].set_title(\"Log-loss (Validation)\")    \n",
        "    axis[0,0].tick_params(axis='y', which = 'major', rotation = 0)\n",
        "\n",
        "    ##====== Accuracy train\n",
        "    axis[0,1].plot(df_metrics[par_row], df_metrics[\"acc_train\"], \".-\", color = \"#6F6F6F\")\n",
        "    axis[0,1].set_xlabel(name_par_row)\n",
        "    axis[0,1].set_ylabel(\"Accuracy\")\n",
        "    axis[0,1].set_title(\"Accuracy (Training)\")    \n",
        "    axis[0,1].tick_params(axis='y', which = 'major', rotation = 0)\n",
        "\n",
        "    ##====== Accuracy validation\n",
        "    axis[0,2].plot(df_metrics[par_row], df_metrics[\"acc_val\"], \".-\", color = \"#6F6F6F\")\n",
        "    axis[0,2].set_xlabel(name_par_row)\n",
        "    axis[0,2].set_ylabel(\"Accuracy\")\n",
        "    axis[0,2].set_title(\"Accuracy (Validation)\")    \n",
        "    axis[0,2].tick_params(axis='y', which = 'major', rotation = 0)\n",
        "\n",
        "    ##====== Blank plot\n",
        "    axis[0,3].set_visible(False)\n",
        "\n",
        "    ##====== Brier\n",
        "    axis[1,0].plot(df_metrics[par_row], df_metrics[\"Brier_full\"], \".-\", color = \"#6F6F6F\")\n",
        "    axis[1,0].set_xlabel(name_par_row)\n",
        "    axis[1,0].set_ylabel(\"Brier Score\")\n",
        "    axis[1,0].set_title(\"Brier Score (Validation)\")    \n",
        "    axis[1,0].tick_params(axis='y', which = 'major', rotation = 0)\n",
        "\n",
        "    ##====== ECE uniform\n",
        "    axis[1,1].plot(ece_max_u[par_row], ece_max_u[\"ECE observed\"], \".-\", color = \"#6F6F6F\")\n",
        "    axis[1,1].set_xlabel(name_par_row)\n",
        "    axis[1,1].set_ylabel(\"Max-ECE uniform\")\n",
        "    axis[1,1].set_title(\"Max-ECE uniform\\n(Validation)\")    \n",
        "    axis[1,1].tick_params(axis='y', which = 'major', rotation = 0)\n",
        "\n",
        "    ##====== ECE data\n",
        "    axis[1,2].plot(ece_max_d[par_row], ece_max_d[\"ECE observed\"], \".-\", color = \"#6F6F6F\")\n",
        "    axis[1,2].set_xlabel(name_par_row)\n",
        "    axis[1,2].set_ylabel(\"Max-ECE data dependent\")\n",
        "    axis[1,2].set_title(\"Max-ECE data\\n(Validation)\")    \n",
        "    axis[1,2].tick_params(axis='y', which = 'major', rotation = 0)\n",
        "\n",
        "    ##====== CW-ECE\n",
        "    axis[1,3].plot(ece_cw[par_row], ece_cw[\"ECE observed\"], \".-\", color = \"#6F6F6F\")\n",
        "    axis[1,3].set_xlabel(name_par_row)\n",
        "    axis[1,3].set_ylabel(\"CW-ECE\")\n",
        "    axis[1,3].set_title(\"CW-ECE\\n(Validation)\")    \n",
        "    axis[1,3].tick_params(axis='y', which = 'major', rotation = 0)\n",
        "\n",
        "    ## Adjust space between plots\n",
        "    fig.subplots_adjust(hspace = 0.5, wspace = 0.25)\n",
        "    plt.show()\n",
        "  return None\n",
        "\n",
        "def ReliabilityDiagram(df_gram, diagram, nr_plt, nc_plt, w_plt, h_plt):\n",
        "  \"\"\" \n",
        "  Function to plot the reliability diagram for the most confident prediction or\n",
        "  for the class-wise results.\n",
        "\n",
        "  df_gram: Pandas dataframe with the data to plot\n",
        "  diagram: Whether \"max\" or \"cw\" reliability diagram\n",
        "  nr_plt: Number of row plots for the classwise option\n",
        "  nc_plt: Number of column plots for the classwise option\n",
        "  w_plt: Size of the width of the figure\n",
        "  h_plt: Size of the height of the figure\n",
        "  \"\"\"\n",
        "\n",
        "  ##=========== Reliability diagram (most confident prediction)\n",
        "  if diagram == \"max\":\n",
        "    dd = df_gram\n",
        "    ece = np.round(df_gram.loc[:,\"ece\"].tolist()[0],4)\n",
        "    n_bins = 15\n",
        "\n",
        "    plt.figure(figsize = (w_plt, h_plt))\n",
        "\n",
        "    plt.plot(np.linspace(0,1,5), np.linspace(0,1,5), \"--\")\n",
        "    plt.bar(dd[\"bin\"], dd[\"acc\"], width = 1/n_bins, alpha = 0.8, edgecolor = \"black\")\n",
        "    plt.text(0.05, 0.9, f\"Max-ECE: {ece}\", bbox={'facecolor' : \"white\", 'alpha': 1, 'pad': 10})\n",
        "    plt.ylabel(\"Average Accuracy\")\n",
        "    plt.xlabel(\"Average Confidence\")\n",
        "    plt.title(\"Maximum ECE\", fontsize = 18)\n",
        "\n",
        "    plt.show()\n",
        "\n",
        "  ##=========== Reliability diagram (classwise)\n",
        "  if diagram == \"cw\":\n",
        "    dd = df_gram\n",
        "    n_bins = 15\n",
        "\n",
        "    fig, ax = plt.subplots(nr_plt, nc_plt, sharey = True, sharex = True, figsize = (w_plt, h_plt))\n",
        "\n",
        "    if nr_plt == 1:\n",
        "      for i in range(nc_plt):\n",
        "        ece = np.round(df_gram.iloc[i,:][\"ece\"],4)\n",
        "\n",
        "        ax[i].plot(np.linspace(0,1,5), np.linspace(0,1,5), \"--\")\n",
        "        ax[i].bar(dd.iloc[i,:][\"bin\"], dd.iloc[i,:][\"acc\"], width = 1/n_bins, alpha = 0.8, edgecolor = \"black\")\n",
        "        ax[i].set_title(f\"Class {str(i)}\")\n",
        "        ax[i].text(0.05, 0.9, f\"CW-ECE: {ece}\", bbox={'facecolor' : \"white\", 'alpha': 1, 'pad': 10})\n",
        "        ax[i].set_ylabel(\"Average Accuracy\")\n",
        "        ax[i].set_xlabel(\"Average Confidence\")\n",
        "    else:\n",
        "      c = 0\n",
        "      for i in range(nr_plt):\n",
        "        for j in range(nc_plt):\n",
        "          if c < dd.shape[0]:\n",
        "            ece = np.round(df_gram.iloc[c,:][\"ece\"],4)\n",
        "\n",
        "            ax[i,j].plot(np.linspace(0,1,5), np.linspace(0,1,5), \"--\")\n",
        "            ax[i,j].bar(dd.iloc[c,:][\"bin\"], dd.iloc[c,:][\"acc\"], width = 1/n_bins, alpha = 0.8, edgecolor = \"black\")\n",
        "            ax[i,j].set_title(f\"Class {str(c)}\")\n",
        "            ax[i,j].text(0.05, 0.9, f\"CW-ECE: {ece}\", bbox={'facecolor' : \"white\",'alpha': 1, 'pad': 10})\n",
        "            ax[i,j].set_ylabel(\"Average Accuracy\")\n",
        "            ax[i,j].set_xlabel(\"Average Confidence\")\n",
        "            c += 1        \n",
        "          else:\n",
        "            ax[i,j].set_visible(False)\n",
        "\n",
        "    fig.suptitle(\"Class-wise ECE\", fontsize = 20)\n",
        "    fig.show()\n",
        "\n",
        "  return None"
      ]
    },
    {
      "cell_type": "markdown",
      "metadata": {
        "id": "89a9YgaSxtrd"
      },
      "source": [
        "## Data"
      ]
    },
    {
      "cell_type": "code",
      "execution_count": null,
      "metadata": {
        "colab": {
          "base_uri": "https://localhost:8080/"
        },
        "id": "Q1hgXkEEbNgM",
        "outputId": "23037122-29d4-4352-e49e-03a73517b670"
      },
      "outputs": [
        {
          "output_type": "stream",
          "name": "stdout",
          "text": [
            "/content/drive/MyDrive/Trabajo de Grado Maestría/Experimentos Finales/05_Baselines_NoRNA/Adult/\n"
          ]
        }
      ],
      "source": [
        "#===========================#\n",
        "# Directory to save results #\n",
        "#===========================#\n",
        "dir = \"/content/drive/MyDrive/Trabajo de Grado Maestría/Experimentos Finales/05_Baselines_NoRNA/\"\n",
        "\n",
        "if(not os.path.exists(dir)):\n",
        "  os.mkdir(dir)\n",
        "\n",
        "dir = dir + \"Adult/\"\n",
        "\n",
        "if(not os.path.exists(dir)):\n",
        "  os.mkdir(dir)\n",
        "\n",
        "print(dir)"
      ]
    },
    {
      "cell_type": "code",
      "execution_count": null,
      "metadata": {
        "id": "L0T-TldDHkxE"
      },
      "outputs": [],
      "source": [
        "#==============================#\n",
        "#   Load and clean data        #\n",
        "#==============================#\n",
        "## Read data\n",
        "df = pd.read_csv(\"/content/drive/MyDrive/Trabajo de Grado Maestría/Experimentos Finales/00_Datasets/adult.data\", header = None)\n",
        "\n",
        "## Clean dataframe\n",
        "df.columns = [ \"Y\" if i == 14 else \"X\" + str(i) for i in df.columns] \n",
        "df = df.replace(\"?\", np.NaN)\n",
        "df = df.dropna()\n",
        "\n",
        "## One hot encoding for categorical variables (have more than 10 categories)\n",
        "nom_num = [\"X0\",\"X2\",\"X10\",\"X11\",\"X12\"]\n",
        "nom_cat = [\"X1\",\"X3\",\"X4\",\"X5\",\"X6\",\"X7\",\"X8\",\"X9\",\"X13\"]\n",
        "\n",
        "# One hot categorical variables\n",
        "X_cat = getCatVariables(nom_cat)\n",
        "\n",
        "# Combine numerical variables\n",
        "X_num = getNumVariables(nom_num)\n",
        "\n",
        "## Separate data of classes\n",
        "y = df[\"Y\"].to_numpy()\n",
        "y = np.where(y == \" >50K\", 1, 0)"
      ]
    },
    {
      "cell_type": "code",
      "execution_count": null,
      "metadata": {
        "colab": {
          "base_uri": "https://localhost:8080/"
        },
        "id": "6TUUWwS9x506",
        "outputId": "9497afcc-e17a-4891-f4aa-a90bde0e6f17"
      },
      "outputs": [
        {
          "output_type": "stream",
          "name": "stdout",
          "text": [
            "X train shape: (24908, 123)\n",
            "Y train shape: (24908, 1)\n",
            "X val shape: (4396, 123)\n",
            "Y val shape: (4396, 1)\n",
            "X test shape: (3257, 123)\n",
            "Y test shape: (3257, 1)\n"
          ]
        }
      ],
      "source": [
        "#===============================#\n",
        "#    Split data                 #\n",
        "#===============================#\n",
        "## Split data indexes\n",
        "idx_train, idx_test = train_test_split(np.arange(df.shape[0]), test_size = 0.10, random_state = 42)\n",
        "idx_train, idx_val = train_test_split(idx_train, test_size = 0.15, random_state = 42)\n",
        "\n",
        "## Assign idx to categorical data \n",
        "if X_cat is not None:\n",
        "  X_cat_train = X_cat[idx_train]\n",
        "  X_cat_val = X_cat[idx_val]\n",
        "  X_cat_test = X_cat[idx_test]\n",
        "\n",
        "## Assign idx to numerical data \n",
        "if X_num is not None:\n",
        "  # Assign idx\n",
        "  X_num_train = X_num[idx_train]\n",
        "  X_num_val = X_num[idx_val]\n",
        "  X_num_test = X_num[idx_test]\n",
        "\n",
        "  # Standarize\n",
        "  scaler = StandardScaler()\n",
        "  X_num_train = scaler.fit_transform(X_num_train)\n",
        "  X_num_val = scaler.transform(X_num_val)\n",
        "  X_num_test = scaler.transform(X_num_test)\n",
        "\n",
        "## Assign idx to response variable\n",
        "y_train = y[idx_train]\n",
        "y_val = y[idx_val]\n",
        "y_test = y[idx_test]\n",
        "\n",
        "## Combine covariates\n",
        "if (X_num is not None) and (X_cat is not None):\n",
        "  X_train = np.concatenate((X_cat_train, X_num_train) , axis = 1).astype(np.float32)\n",
        "  X_val = np.concatenate((X_cat_val, X_num_val) , axis = 1).astype(np.float32)\n",
        "  X_test = np.concatenate((X_cat_test, X_num_test) , axis = 1).astype(np.float32)\n",
        "elif X_num is not None:\n",
        "  X_train = X_num_train.astype(np.float32)\n",
        "  X_val = X_num_val.astype(np.float32)\n",
        "  X_test = X_num_test.astype(np.float32)\n",
        "else:\n",
        "  X_train = X_cat_train.astype(np.float32)\n",
        "  X_val = X_cat_val.astype(np.float32)\n",
        "  X_test = X_cat_test.astype(np.float32)\n",
        "\n",
        "## Reshape response variable (np.newaxis is like .reshape(-1,1))\n",
        "y_train = y_train[:, np.newaxis]\n",
        "y_val = y_val[:,np.newaxis]\n",
        "y_test = y_test[:, np.newaxis]\n",
        "\n",
        "try:\n",
        "  del X_cat, X_cat_train, X_cat_val, X_cat_test, X_num, X_num_train, X_num_val, X_num_test\n",
        "except:\n",
        "  print(\"\")\n",
        "\n",
        "print(f\"X train shape: {X_train.shape}\")\n",
        "print(f\"Y train shape: {y_train.shape}\")\n",
        "\n",
        "print(f\"X val shape: {X_val.shape}\")\n",
        "print(f\"Y val shape: {y_val.shape}\")\n",
        "\n",
        "print(f\"X test shape: {X_test.shape}\")\n",
        "print(f\"Y test shape: {y_test.shape}\")"
      ]
    },
    {
      "cell_type": "markdown",
      "metadata": {
        "id": "Mcvsgfn3Mebe"
      },
      "source": [
        "## Models"
      ]
    },
    {
      "cell_type": "code",
      "execution_count": null,
      "metadata": {
        "id": "hi84bvZH7BxF"
      },
      "outputs": [],
      "source": [
        "## CV strategy for all the models\n",
        "cv_par = model_selection.RepeatedStratifiedKFold(n_splits = 10, n_repeats = 1, random_state = 512)"
      ]
    },
    {
      "cell_type": "markdown",
      "metadata": {
        "id": "R1EQxRbUte6A"
      },
      "source": [
        "### Logistic"
      ]
    },
    {
      "cell_type": "code",
      "execution_count": null,
      "metadata": {
        "colab": {
          "base_uri": "https://localhost:8080/"
        },
        "id": "atTOIA9gVmkN",
        "outputId": "0a609929-f7e6-4129-f5d0-d061250131c3"
      },
      "outputs": [
        {
          "output_type": "stream",
          "name": "stderr",
          "text": [
            "/usr/local/lib/python3.7/dist-packages/joblib/externals/loky/process_executor.py:703: UserWarning: A worker stopped while some jobs were given to the executor. This can be caused by a too short worker timeout or by a memory leak.\n",
            "  \"timeout or by a memory leak.\", UserWarning\n",
            "/usr/local/lib/python3.7/dist-packages/sklearn/utils/validation.py:993: DataConversionWarning: A column-vector y was passed when a 1d array was expected. Please change the shape of y to (n_samples, ), for example using ravel().\n",
            "  y = column_or_1d(y, warn=True)\n",
            "/usr/local/lib/python3.7/dist-packages/sklearn/linear_model/_logistic.py:818: ConvergenceWarning: lbfgs failed to converge (status=1):\n",
            "STOP: TOTAL NO. of ITERATIONS REACHED LIMIT.\n",
            "\n",
            "Increase the number of iterations (max_iter) or scale the data as shown in:\n",
            "    https://scikit-learn.org/stable/modules/preprocessing.html\n",
            "Please also refer to the documentation for alternative solver options:\n",
            "    https://scikit-learn.org/stable/modules/linear_model.html#logistic-regression\n",
            "  extra_warning_msg=_LOGISTIC_SOLVER_CONVERGENCE_MSG,\n"
          ]
        },
        {
          "output_type": "execute_result",
          "data": {
            "text/plain": [
              "GridSearchCV(cv=RepeatedStratifiedKFold(n_repeats=1, n_splits=10, random_state=512),\n",
              "             estimator=LogisticRegression(random_state=5), n_jobs=-1,\n",
              "             param_grid={'C': array([1.00000000e-03, 5.14949495e-02, 1.01989899e-01, 1.52484848e-01,\n",
              "       2.02979798e-01, 2.53474747e-01, 3.03969697e-01, 3.54464646e-01,\n",
              "       4.04959596e-01, 4.55454545e-01, 5.05949495e-01, 5.56444444e-01,\n",
              "       6.06939394...\n",
              "       3.83861616e+00, 3.88911111e+00, 3.93960606e+00, 3.99010101e+00,\n",
              "       4.04059596e+00, 4.09109091e+00, 4.14158586e+00, 4.19208081e+00,\n",
              "       4.24257576e+00, 4.29307071e+00, 4.34356566e+00, 4.39406061e+00,\n",
              "       4.44455556e+00, 4.49505051e+00, 4.54554545e+00, 4.59604040e+00,\n",
              "       4.64653535e+00, 4.69703030e+00, 4.74752525e+00, 4.79802020e+00,\n",
              "       4.84851515e+00, 4.89901010e+00, 4.94950505e+00, 5.00000000e+00])},\n",
              "             return_train_score=True, scoring='accuracy')"
            ]
          },
          "metadata": {},
          "execution_count": 25
        }
      ],
      "source": [
        "## Logistic model\n",
        "logist = LogisticRegression(random_state = 5) \n",
        "\n",
        "## CV fitting\n",
        "logist_cv = model_selection.GridSearchCV(estimator = logist,\n",
        "                                     param_grid = {\"C\" : np.linspace(0.001, 5, 100) },\n",
        "                                     scoring = \"accuracy\", cv = cv_par, return_train_score = True, n_jobs = -1, refit = True )\n",
        "\n",
        "#logist_cv.fit(X_train, y_train)\n",
        "logist_cv.fit(np.concatenate((X_train, X_val), axis = 0), np.concatenate((y_train, y_val), axis = 0))"
      ]
    },
    {
      "cell_type": "code",
      "execution_count": null,
      "metadata": {
        "colab": {
          "base_uri": "https://localhost:8080/",
          "height": 206
        },
        "id": "HBvcINo7qF1A",
        "outputId": "cf1daed9-0988-4747-ac78-92675b5fbbae"
      },
      "outputs": [
        {
          "output_type": "execute_result",
          "data": {
            "text/plain": [
              "           C  acc_train_mean  acc_train_std  acc_val_mean  acc_val_std\n",
              "14  0.707929        0.852352       0.000685      0.851351     0.004414\n",
              "8   0.404960        0.852212       0.000685      0.851351     0.004645\n",
              "11  0.556444        0.852318       0.000727      0.851283     0.004488\n",
              "9   0.455455        0.852254       0.000721      0.851283     0.004597\n",
              "10  0.505949        0.852269       0.000765      0.851283     0.004564"
            ],
            "text/html": [
              "\n",
              "  <div id=\"df-eeb1fa97-e30f-4f00-bafe-b6a5656f4208\">\n",
              "    <div class=\"colab-df-container\">\n",
              "      <div>\n",
              "<style scoped>\n",
              "    .dataframe tbody tr th:only-of-type {\n",
              "        vertical-align: middle;\n",
              "    }\n",
              "\n",
              "    .dataframe tbody tr th {\n",
              "        vertical-align: top;\n",
              "    }\n",
              "\n",
              "    .dataframe thead th {\n",
              "        text-align: right;\n",
              "    }\n",
              "</style>\n",
              "<table border=\"1\" class=\"dataframe\">\n",
              "  <thead>\n",
              "    <tr style=\"text-align: right;\">\n",
              "      <th></th>\n",
              "      <th>C</th>\n",
              "      <th>acc_train_mean</th>\n",
              "      <th>acc_train_std</th>\n",
              "      <th>acc_val_mean</th>\n",
              "      <th>acc_val_std</th>\n",
              "    </tr>\n",
              "  </thead>\n",
              "  <tbody>\n",
              "    <tr>\n",
              "      <th>14</th>\n",
              "      <td>0.707929</td>\n",
              "      <td>0.852352</td>\n",
              "      <td>0.000685</td>\n",
              "      <td>0.851351</td>\n",
              "      <td>0.004414</td>\n",
              "    </tr>\n",
              "    <tr>\n",
              "      <th>8</th>\n",
              "      <td>0.404960</td>\n",
              "      <td>0.852212</td>\n",
              "      <td>0.000685</td>\n",
              "      <td>0.851351</td>\n",
              "      <td>0.004645</td>\n",
              "    </tr>\n",
              "    <tr>\n",
              "      <th>11</th>\n",
              "      <td>0.556444</td>\n",
              "      <td>0.852318</td>\n",
              "      <td>0.000727</td>\n",
              "      <td>0.851283</td>\n",
              "      <td>0.004488</td>\n",
              "    </tr>\n",
              "    <tr>\n",
              "      <th>9</th>\n",
              "      <td>0.455455</td>\n",
              "      <td>0.852254</td>\n",
              "      <td>0.000721</td>\n",
              "      <td>0.851283</td>\n",
              "      <td>0.004597</td>\n",
              "    </tr>\n",
              "    <tr>\n",
              "      <th>10</th>\n",
              "      <td>0.505949</td>\n",
              "      <td>0.852269</td>\n",
              "      <td>0.000765</td>\n",
              "      <td>0.851283</td>\n",
              "      <td>0.004564</td>\n",
              "    </tr>\n",
              "  </tbody>\n",
              "</table>\n",
              "</div>\n",
              "      <button class=\"colab-df-convert\" onclick=\"convertToInteractive('df-eeb1fa97-e30f-4f00-bafe-b6a5656f4208')\"\n",
              "              title=\"Convert this dataframe to an interactive table.\"\n",
              "              style=\"display:none;\">\n",
              "        \n",
              "  <svg xmlns=\"http://www.w3.org/2000/svg\" height=\"24px\"viewBox=\"0 0 24 24\"\n",
              "       width=\"24px\">\n",
              "    <path d=\"M0 0h24v24H0V0z\" fill=\"none\"/>\n",
              "    <path d=\"M18.56 5.44l.94 2.06.94-2.06 2.06-.94-2.06-.94-.94-2.06-.94 2.06-2.06.94zm-11 1L8.5 8.5l.94-2.06 2.06-.94-2.06-.94L8.5 2.5l-.94 2.06-2.06.94zm10 10l.94 2.06.94-2.06 2.06-.94-2.06-.94-.94-2.06-.94 2.06-2.06.94z\"/><path d=\"M17.41 7.96l-1.37-1.37c-.4-.4-.92-.59-1.43-.59-.52 0-1.04.2-1.43.59L10.3 9.45l-7.72 7.72c-.78.78-.78 2.05 0 2.83L4 21.41c.39.39.9.59 1.41.59.51 0 1.02-.2 1.41-.59l7.78-7.78 2.81-2.81c.8-.78.8-2.07 0-2.86zM5.41 20L4 18.59l7.72-7.72 1.47 1.35L5.41 20z\"/>\n",
              "  </svg>\n",
              "      </button>\n",
              "      \n",
              "  <style>\n",
              "    .colab-df-container {\n",
              "      display:flex;\n",
              "      flex-wrap:wrap;\n",
              "      gap: 12px;\n",
              "    }\n",
              "\n",
              "    .colab-df-convert {\n",
              "      background-color: #E8F0FE;\n",
              "      border: none;\n",
              "      border-radius: 50%;\n",
              "      cursor: pointer;\n",
              "      display: none;\n",
              "      fill: #1967D2;\n",
              "      height: 32px;\n",
              "      padding: 0 0 0 0;\n",
              "      width: 32px;\n",
              "    }\n",
              "\n",
              "    .colab-df-convert:hover {\n",
              "      background-color: #E2EBFA;\n",
              "      box-shadow: 0px 1px 2px rgba(60, 64, 67, 0.3), 0px 1px 3px 1px rgba(60, 64, 67, 0.15);\n",
              "      fill: #174EA6;\n",
              "    }\n",
              "\n",
              "    [theme=dark] .colab-df-convert {\n",
              "      background-color: #3B4455;\n",
              "      fill: #D2E3FC;\n",
              "    }\n",
              "\n",
              "    [theme=dark] .colab-df-convert:hover {\n",
              "      background-color: #434B5C;\n",
              "      box-shadow: 0px 1px 3px 1px rgba(0, 0, 0, 0.15);\n",
              "      filter: drop-shadow(0px 1px 2px rgba(0, 0, 0, 0.3));\n",
              "      fill: #FFFFFF;\n",
              "    }\n",
              "  </style>\n",
              "\n",
              "      <script>\n",
              "        const buttonEl =\n",
              "          document.querySelector('#df-eeb1fa97-e30f-4f00-bafe-b6a5656f4208 button.colab-df-convert');\n",
              "        buttonEl.style.display =\n",
              "          google.colab.kernel.accessAllowed ? 'block' : 'none';\n",
              "\n",
              "        async function convertToInteractive(key) {\n",
              "          const element = document.querySelector('#df-eeb1fa97-e30f-4f00-bafe-b6a5656f4208');\n",
              "          const dataTable =\n",
              "            await google.colab.kernel.invokeFunction('convertToInteractive',\n",
              "                                                     [key], {});\n",
              "          if (!dataTable) return;\n",
              "\n",
              "          const docLinkHtml = 'Like what you see? Visit the ' +\n",
              "            '<a target=\"_blank\" href=https://colab.research.google.com/notebooks/data_table.ipynb>data table notebook</a>'\n",
              "            + ' to learn more about interactive tables.';\n",
              "          element.innerHTML = '';\n",
              "          dataTable['output_type'] = 'display_data';\n",
              "          await google.colab.output.renderOutput(dataTable, element);\n",
              "          const docLink = document.createElement('div');\n",
              "          docLink.innerHTML = docLinkHtml;\n",
              "          element.appendChild(docLink);\n",
              "        }\n",
              "      </script>\n",
              "    </div>\n",
              "  </div>\n",
              "  "
            ]
          },
          "metadata": {},
          "execution_count": 26
        }
      ],
      "source": [
        "## Results from CV\n",
        "df_metrics = pd.DataFrame(logist_cv.cv_results_[\"params\"])\n",
        "df_metrics[\"acc_train_mean\"] = logist_cv.cv_results_['mean_train_score']\n",
        "df_metrics[\"acc_train_std\"] = logist_cv.cv_results_['std_train_score']\n",
        "df_metrics[\"acc_val_mean\"] = logist_cv.cv_results_['mean_test_score']\n",
        "df_metrics[\"acc_val_std\"] = logist_cv.cv_results_['std_test_score']\n",
        "\n",
        "## Top 5 best results\n",
        "df_metrics.sort_values(by = \"acc_val_mean\", ascending = False).head(5)"
      ]
    },
    {
      "cell_type": "code",
      "execution_count": null,
      "metadata": {
        "id": "y50OaWTMnPvZ"
      },
      "outputs": [],
      "source": [
        "## Metrics of calibration\n",
        "gm, gm_ece, dmax, dcw = resume_metrics(X_test = X_test, Y_test = y_test, T_test = pd.get_dummies(y_test[:,0]).values, model = logist_cv, nbins = 15, p_value = True, proba = \"predict_proba\")\n",
        " \n",
        "## Accuracy metrics\n",
        "gm[\"acc_train\"] = metrics.accuracy_score(y_true = y_train, y_pred = logist_cv.predict_proba(X_train).argmax(axis = 1))\n",
        "gm[\"acc_val\"] = metrics.accuracy_score(y_true = y_val, y_pred = logist_cv.predict_proba(X_val).argmax(axis = 1))\n",
        "gm[\"acc_test\"] = metrics.accuracy_score(y_true = y_test, y_pred = logist_cv.predict_proba(X_test).argmax(axis = 1))\n"
      ]
    },
    {
      "cell_type": "code",
      "execution_count": null,
      "metadata": {
        "colab": {
          "base_uri": "https://localhost:8080/",
          "height": 81
        },
        "id": "_9PLWuN4y-9j",
        "outputId": "7b1112c9-9577-4c0c-8adc-d5aee04192fe"
      },
      "outputs": [
        {
          "output_type": "execute_result",
          "data": {
            "text/plain": [
              "   Brier_full  Brier_maximum  Log-loss_full  Log-loss_maximum  acc_train  \\\n",
              "0    0.196294       0.196294       0.307421          0.307421   0.851493   \n",
              "\n",
              "   acc_val  acc_test  \n",
              "0  0.85646  0.860915  "
            ],
            "text/html": [
              "\n",
              "  <div id=\"df-5e1a3412-3efb-42f6-90fd-a25c220ac8f8\">\n",
              "    <div class=\"colab-df-container\">\n",
              "      <div>\n",
              "<style scoped>\n",
              "    .dataframe tbody tr th:only-of-type {\n",
              "        vertical-align: middle;\n",
              "    }\n",
              "\n",
              "    .dataframe tbody tr th {\n",
              "        vertical-align: top;\n",
              "    }\n",
              "\n",
              "    .dataframe thead th {\n",
              "        text-align: right;\n",
              "    }\n",
              "</style>\n",
              "<table border=\"1\" class=\"dataframe\">\n",
              "  <thead>\n",
              "    <tr style=\"text-align: right;\">\n",
              "      <th></th>\n",
              "      <th>Brier_full</th>\n",
              "      <th>Brier_maximum</th>\n",
              "      <th>Log-loss_full</th>\n",
              "      <th>Log-loss_maximum</th>\n",
              "      <th>acc_train</th>\n",
              "      <th>acc_val</th>\n",
              "      <th>acc_test</th>\n",
              "    </tr>\n",
              "  </thead>\n",
              "  <tbody>\n",
              "    <tr>\n",
              "      <th>0</th>\n",
              "      <td>0.196294</td>\n",
              "      <td>0.196294</td>\n",
              "      <td>0.307421</td>\n",
              "      <td>0.307421</td>\n",
              "      <td>0.851493</td>\n",
              "      <td>0.85646</td>\n",
              "      <td>0.860915</td>\n",
              "    </tr>\n",
              "  </tbody>\n",
              "</table>\n",
              "</div>\n",
              "      <button class=\"colab-df-convert\" onclick=\"convertToInteractive('df-5e1a3412-3efb-42f6-90fd-a25c220ac8f8')\"\n",
              "              title=\"Convert this dataframe to an interactive table.\"\n",
              "              style=\"display:none;\">\n",
              "        \n",
              "  <svg xmlns=\"http://www.w3.org/2000/svg\" height=\"24px\"viewBox=\"0 0 24 24\"\n",
              "       width=\"24px\">\n",
              "    <path d=\"M0 0h24v24H0V0z\" fill=\"none\"/>\n",
              "    <path d=\"M18.56 5.44l.94 2.06.94-2.06 2.06-.94-2.06-.94-.94-2.06-.94 2.06-2.06.94zm-11 1L8.5 8.5l.94-2.06 2.06-.94-2.06-.94L8.5 2.5l-.94 2.06-2.06.94zm10 10l.94 2.06.94-2.06 2.06-.94-2.06-.94-.94-2.06-.94 2.06-2.06.94z\"/><path d=\"M17.41 7.96l-1.37-1.37c-.4-.4-.92-.59-1.43-.59-.52 0-1.04.2-1.43.59L10.3 9.45l-7.72 7.72c-.78.78-.78 2.05 0 2.83L4 21.41c.39.39.9.59 1.41.59.51 0 1.02-.2 1.41-.59l7.78-7.78 2.81-2.81c.8-.78.8-2.07 0-2.86zM5.41 20L4 18.59l7.72-7.72 1.47 1.35L5.41 20z\"/>\n",
              "  </svg>\n",
              "      </button>\n",
              "      \n",
              "  <style>\n",
              "    .colab-df-container {\n",
              "      display:flex;\n",
              "      flex-wrap:wrap;\n",
              "      gap: 12px;\n",
              "    }\n",
              "\n",
              "    .colab-df-convert {\n",
              "      background-color: #E8F0FE;\n",
              "      border: none;\n",
              "      border-radius: 50%;\n",
              "      cursor: pointer;\n",
              "      display: none;\n",
              "      fill: #1967D2;\n",
              "      height: 32px;\n",
              "      padding: 0 0 0 0;\n",
              "      width: 32px;\n",
              "    }\n",
              "\n",
              "    .colab-df-convert:hover {\n",
              "      background-color: #E2EBFA;\n",
              "      box-shadow: 0px 1px 2px rgba(60, 64, 67, 0.3), 0px 1px 3px 1px rgba(60, 64, 67, 0.15);\n",
              "      fill: #174EA6;\n",
              "    }\n",
              "\n",
              "    [theme=dark] .colab-df-convert {\n",
              "      background-color: #3B4455;\n",
              "      fill: #D2E3FC;\n",
              "    }\n",
              "\n",
              "    [theme=dark] .colab-df-convert:hover {\n",
              "      background-color: #434B5C;\n",
              "      box-shadow: 0px 1px 3px 1px rgba(0, 0, 0, 0.15);\n",
              "      filter: drop-shadow(0px 1px 2px rgba(0, 0, 0, 0.3));\n",
              "      fill: #FFFFFF;\n",
              "    }\n",
              "  </style>\n",
              "\n",
              "      <script>\n",
              "        const buttonEl =\n",
              "          document.querySelector('#df-5e1a3412-3efb-42f6-90fd-a25c220ac8f8 button.colab-df-convert');\n",
              "        buttonEl.style.display =\n",
              "          google.colab.kernel.accessAllowed ? 'block' : 'none';\n",
              "\n",
              "        async function convertToInteractive(key) {\n",
              "          const element = document.querySelector('#df-5e1a3412-3efb-42f6-90fd-a25c220ac8f8');\n",
              "          const dataTable =\n",
              "            await google.colab.kernel.invokeFunction('convertToInteractive',\n",
              "                                                     [key], {});\n",
              "          if (!dataTable) return;\n",
              "\n",
              "          const docLinkHtml = 'Like what you see? Visit the ' +\n",
              "            '<a target=\"_blank\" href=https://colab.research.google.com/notebooks/data_table.ipynb>data table notebook</a>'\n",
              "            + ' to learn more about interactive tables.';\n",
              "          element.innerHTML = '';\n",
              "          dataTable['output_type'] = 'display_data';\n",
              "          await google.colab.output.renderOutput(dataTable, element);\n",
              "          const docLink = document.createElement('div');\n",
              "          docLink.innerHTML = docLinkHtml;\n",
              "          element.appendChild(docLink);\n",
              "        }\n",
              "      </script>\n",
              "    </div>\n",
              "  </div>\n",
              "  "
            ]
          },
          "metadata": {},
          "execution_count": 28
        }
      ],
      "source": [
        "## Results calibration\n",
        "gm"
      ]
    },
    {
      "cell_type": "code",
      "execution_count": null,
      "metadata": {
        "colab": {
          "base_uri": "https://localhost:8080/",
          "height": 143
        },
        "id": "w1_h_lA_uzu4",
        "outputId": "b3864687-e841-448f-fcac-29ad0d932fd4"
      },
      "outputs": [
        {
          "output_type": "execute_result",
          "data": {
            "text/plain": [
              "  Approach Distance  Binning  ECE observed  ECE perfcect mean  \\\n",
              "0  Maximum       TV     Data      0.013237           0.015059   \n",
              "1  Maximum       TV  Uniform      0.012454           0.012640   \n",
              "2       CW        -  Uniform      0.016949           0.235794   \n",
              "\n",
              "   ECE perfcect std  ECE p-value  \n",
              "0          0.003456        0.685  \n",
              "1          0.003485        0.499  \n",
              "2          0.007617        1.000  "
            ],
            "text/html": [
              "\n",
              "  <div id=\"df-69724fbd-5b1a-4592-9fe8-2a564935e460\">\n",
              "    <div class=\"colab-df-container\">\n",
              "      <div>\n",
              "<style scoped>\n",
              "    .dataframe tbody tr th:only-of-type {\n",
              "        vertical-align: middle;\n",
              "    }\n",
              "\n",
              "    .dataframe tbody tr th {\n",
              "        vertical-align: top;\n",
              "    }\n",
              "\n",
              "    .dataframe thead th {\n",
              "        text-align: right;\n",
              "    }\n",
              "</style>\n",
              "<table border=\"1\" class=\"dataframe\">\n",
              "  <thead>\n",
              "    <tr style=\"text-align: right;\">\n",
              "      <th></th>\n",
              "      <th>Approach</th>\n",
              "      <th>Distance</th>\n",
              "      <th>Binning</th>\n",
              "      <th>ECE observed</th>\n",
              "      <th>ECE perfcect mean</th>\n",
              "      <th>ECE perfcect std</th>\n",
              "      <th>ECE p-value</th>\n",
              "    </tr>\n",
              "  </thead>\n",
              "  <tbody>\n",
              "    <tr>\n",
              "      <th>0</th>\n",
              "      <td>Maximum</td>\n",
              "      <td>TV</td>\n",
              "      <td>Data</td>\n",
              "      <td>0.013237</td>\n",
              "      <td>0.015059</td>\n",
              "      <td>0.003456</td>\n",
              "      <td>0.685</td>\n",
              "    </tr>\n",
              "    <tr>\n",
              "      <th>1</th>\n",
              "      <td>Maximum</td>\n",
              "      <td>TV</td>\n",
              "      <td>Uniform</td>\n",
              "      <td>0.012454</td>\n",
              "      <td>0.012640</td>\n",
              "      <td>0.003485</td>\n",
              "      <td>0.499</td>\n",
              "    </tr>\n",
              "    <tr>\n",
              "      <th>2</th>\n",
              "      <td>CW</td>\n",
              "      <td>-</td>\n",
              "      <td>Uniform</td>\n",
              "      <td>0.016949</td>\n",
              "      <td>0.235794</td>\n",
              "      <td>0.007617</td>\n",
              "      <td>1.000</td>\n",
              "    </tr>\n",
              "  </tbody>\n",
              "</table>\n",
              "</div>\n",
              "      <button class=\"colab-df-convert\" onclick=\"convertToInteractive('df-69724fbd-5b1a-4592-9fe8-2a564935e460')\"\n",
              "              title=\"Convert this dataframe to an interactive table.\"\n",
              "              style=\"display:none;\">\n",
              "        \n",
              "  <svg xmlns=\"http://www.w3.org/2000/svg\" height=\"24px\"viewBox=\"0 0 24 24\"\n",
              "       width=\"24px\">\n",
              "    <path d=\"M0 0h24v24H0V0z\" fill=\"none\"/>\n",
              "    <path d=\"M18.56 5.44l.94 2.06.94-2.06 2.06-.94-2.06-.94-.94-2.06-.94 2.06-2.06.94zm-11 1L8.5 8.5l.94-2.06 2.06-.94-2.06-.94L8.5 2.5l-.94 2.06-2.06.94zm10 10l.94 2.06.94-2.06 2.06-.94-2.06-.94-.94-2.06-.94 2.06-2.06.94z\"/><path d=\"M17.41 7.96l-1.37-1.37c-.4-.4-.92-.59-1.43-.59-.52 0-1.04.2-1.43.59L10.3 9.45l-7.72 7.72c-.78.78-.78 2.05 0 2.83L4 21.41c.39.39.9.59 1.41.59.51 0 1.02-.2 1.41-.59l7.78-7.78 2.81-2.81c.8-.78.8-2.07 0-2.86zM5.41 20L4 18.59l7.72-7.72 1.47 1.35L5.41 20z\"/>\n",
              "  </svg>\n",
              "      </button>\n",
              "      \n",
              "  <style>\n",
              "    .colab-df-container {\n",
              "      display:flex;\n",
              "      flex-wrap:wrap;\n",
              "      gap: 12px;\n",
              "    }\n",
              "\n",
              "    .colab-df-convert {\n",
              "      background-color: #E8F0FE;\n",
              "      border: none;\n",
              "      border-radius: 50%;\n",
              "      cursor: pointer;\n",
              "      display: none;\n",
              "      fill: #1967D2;\n",
              "      height: 32px;\n",
              "      padding: 0 0 0 0;\n",
              "      width: 32px;\n",
              "    }\n",
              "\n",
              "    .colab-df-convert:hover {\n",
              "      background-color: #E2EBFA;\n",
              "      box-shadow: 0px 1px 2px rgba(60, 64, 67, 0.3), 0px 1px 3px 1px rgba(60, 64, 67, 0.15);\n",
              "      fill: #174EA6;\n",
              "    }\n",
              "\n",
              "    [theme=dark] .colab-df-convert {\n",
              "      background-color: #3B4455;\n",
              "      fill: #D2E3FC;\n",
              "    }\n",
              "\n",
              "    [theme=dark] .colab-df-convert:hover {\n",
              "      background-color: #434B5C;\n",
              "      box-shadow: 0px 1px 3px 1px rgba(0, 0, 0, 0.15);\n",
              "      filter: drop-shadow(0px 1px 2px rgba(0, 0, 0, 0.3));\n",
              "      fill: #FFFFFF;\n",
              "    }\n",
              "  </style>\n",
              "\n",
              "      <script>\n",
              "        const buttonEl =\n",
              "          document.querySelector('#df-69724fbd-5b1a-4592-9fe8-2a564935e460 button.colab-df-convert');\n",
              "        buttonEl.style.display =\n",
              "          google.colab.kernel.accessAllowed ? 'block' : 'none';\n",
              "\n",
              "        async function convertToInteractive(key) {\n",
              "          const element = document.querySelector('#df-69724fbd-5b1a-4592-9fe8-2a564935e460');\n",
              "          const dataTable =\n",
              "            await google.colab.kernel.invokeFunction('convertToInteractive',\n",
              "                                                     [key], {});\n",
              "          if (!dataTable) return;\n",
              "\n",
              "          const docLinkHtml = 'Like what you see? Visit the ' +\n",
              "            '<a target=\"_blank\" href=https://colab.research.google.com/notebooks/data_table.ipynb>data table notebook</a>'\n",
              "            + ' to learn more about interactive tables.';\n",
              "          element.innerHTML = '';\n",
              "          dataTable['output_type'] = 'display_data';\n",
              "          await google.colab.output.renderOutput(dataTable, element);\n",
              "          const docLink = document.createElement('div');\n",
              "          docLink.innerHTML = docLinkHtml;\n",
              "          element.appendChild(docLink);\n",
              "        }\n",
              "      </script>\n",
              "    </div>\n",
              "  </div>\n",
              "  "
            ]
          },
          "metadata": {},
          "execution_count": 29
        }
      ],
      "source": [
        "## Results calibration\n",
        "gm_ece"
      ]
    },
    {
      "cell_type": "code",
      "execution_count": null,
      "metadata": {
        "colab": {
          "base_uri": "https://localhost:8080/",
          "height": 299
        },
        "id": "wDMjZisv0DTp",
        "outputId": "a4a1bde8-dc2f-4ba4-bf72-a2567d62af96"
      },
      "outputs": [
        {
          "output_type": "display_data",
          "data": {
            "text/plain": [
              "<Figure size 432x288 with 1 Axes>"
            ],
            "image/png": "[encoded data removed]"
          },
          "metadata": {
            "needs_background": "light"
          }
        }
      ],
      "source": [
        "## Reliability plot for the most confident predictions\n",
        "ReliabilityDiagram(dmax, diagram = \"max\", nr_plt = 0, nc_plt = 0, w_plt = 6, h_plt = 4)"
      ]
    },
    {
      "cell_type": "code",
      "execution_count": null,
      "metadata": {
        "colab": {
          "base_uri": "https://localhost:8080/",
          "height": 308
        },
        "id": "lJdJXtSVybVb",
        "outputId": "ca0ca0b7-6ac2-4821-cb9a-98fb1bef8697"
      },
      "outputs": [
        {
          "output_type": "display_data",
          "data": {
            "text/plain": [
              "<Figure size 720x288 with 2 Axes>"
            ],
            "image/png": "[encoded data removed]"
          },
          "metadata": {
            "needs_background": "light"
          }
        }
      ],
      "source": [
        "## Reliability plot for each class\n",
        "ReliabilityDiagram(dcw, diagram = \"cw\", nr_plt = 1, nc_plt = 2, w_plt = 10, h_plt = 4)"
      ]
    },
    {
      "cell_type": "code",
      "execution_count": null,
      "metadata": {
        "colab": {
          "base_uri": "https://localhost:8080/"
        },
        "id": "1rVogL4NSeWc",
        "outputId": "c165719c-7f53-471b-d35e-9593bc4f4187"
      },
      "outputs": [
        {
          "output_type": "stream",
          "name": "stdout",
          "text": [
            "/content/drive/MyDrive/Trabajo de Grado Maestría/Experimentos Finales/05_Baselines_NoRNA/Adult/Logistic/\n"
          ]
        }
      ],
      "source": [
        "## Path to save results\n",
        "dir_out = dir + \"Logistic/\"\n",
        "\n",
        "if(not os.path.exists(dir_out)):\n",
        "  os.mkdir(dir_out)\n",
        "\n",
        "print(dir_out)\n",
        "\n",
        "## Export results\n",
        "df_metrics.to_feather(dir_out + \"CVMetrics.feather\")\n",
        "gm.to_feather(dir_out + \"GM.feather\")\n",
        "gm_ece.to_feather(dir_out + \"GM_ECE.feather\")\n",
        "dmax.to_feather(dir_out + \"Diagram_Max.feather\")\n",
        "dcw.to_feather(dir_out + \"Diagram_CW.feather\")"
      ]
    },
    {
      "cell_type": "markdown",
      "metadata": {
        "id": "VlvTYm42296-"
      },
      "source": [
        "### Naive Bayes"
      ]
    },
    {
      "cell_type": "code",
      "execution_count": null,
      "metadata": {
        "colab": {
          "base_uri": "https://localhost:8080/"
        },
        "id": "NnYJuhAX3ACZ",
        "outputId": "b3597408-d12a-4d9a-c77c-bccaaf739dca"
      },
      "outputs": [
        {
          "output_type": "execute_result",
          "data": {
            "text/plain": [
              "GaussianNB()"
            ]
          },
          "metadata": {},
          "execution_count": 33
        }
      ],
      "source": [
        "## Cross validation to train the model\n",
        "nb = GaussianNB()\n",
        "nb_cv = model_selection.cross_validate(estimator = nb, X = X_train, y = y_train, scoring = \"accuracy\", cv = cv_par, return_train_score = True, n_jobs = -1 )\n",
        "#nb.fit(X_train, y_train.ravel())\n",
        "nb.fit(np.concatenate((X_train, X_val), axis = 0), np.concatenate((y_train.ravel(), y_val.ravel()), axis = 0))"
      ]
    },
    {
      "cell_type": "code",
      "execution_count": null,
      "metadata": {
        "colab": {
          "base_uri": "https://localhost:8080/",
          "height": 81
        },
        "id": "WC9QIjMf0U3n",
        "outputId": "600d822b-2948-4fe6-a213-6452a9893be8"
      },
      "outputs": [
        {
          "output_type": "execute_result",
          "data": {
            "text/plain": [
              "   acc_train_mean  acc_train_std  acc_val_mean  acc_val_std\n",
              "0        0.547513       0.019378      0.546248     0.025759"
            ],
            "text/html": [
              "\n",
              "  <div id=\"df-61ebd891-21de-4bee-ab51-dee39cc3a31f\">\n",
              "    <div class=\"colab-df-container\">\n",
              "      <div>\n",
              "<style scoped>\n",
              "    .dataframe tbody tr th:only-of-type {\n",
              "        vertical-align: middle;\n",
              "    }\n",
              "\n",
              "    .dataframe tbody tr th {\n",
              "        vertical-align: top;\n",
              "    }\n",
              "\n",
              "    .dataframe thead th {\n",
              "        text-align: right;\n",
              "    }\n",
              "</style>\n",
              "<table border=\"1\" class=\"dataframe\">\n",
              "  <thead>\n",
              "    <tr style=\"text-align: right;\">\n",
              "      <th></th>\n",
              "      <th>acc_train_mean</th>\n",
              "      <th>acc_train_std</th>\n",
              "      <th>acc_val_mean</th>\n",
              "      <th>acc_val_std</th>\n",
              "    </tr>\n",
              "  </thead>\n",
              "  <tbody>\n",
              "    <tr>\n",
              "      <th>0</th>\n",
              "      <td>0.547513</td>\n",
              "      <td>0.019378</td>\n",
              "      <td>0.546248</td>\n",
              "      <td>0.025759</td>\n",
              "    </tr>\n",
              "  </tbody>\n",
              "</table>\n",
              "</div>\n",
              "      <button class=\"colab-df-convert\" onclick=\"convertToInteractive('df-61ebd891-21de-4bee-ab51-dee39cc3a31f')\"\n",
              "              title=\"Convert this dataframe to an interactive table.\"\n",
              "              style=\"display:none;\">\n",
              "        \n",
              "  <svg xmlns=\"http://www.w3.org/2000/svg\" height=\"24px\"viewBox=\"0 0 24 24\"\n",
              "       width=\"24px\">\n",
              "    <path d=\"M0 0h24v24H0V0z\" fill=\"none\"/>\n",
              "    <path d=\"M18.56 5.44l.94 2.06.94-2.06 2.06-.94-2.06-.94-.94-2.06-.94 2.06-2.06.94zm-11 1L8.5 8.5l.94-2.06 2.06-.94-2.06-.94L8.5 2.5l-.94 2.06-2.06.94zm10 10l.94 2.06.94-2.06 2.06-.94-2.06-.94-.94-2.06-.94 2.06-2.06.94z\"/><path d=\"M17.41 7.96l-1.37-1.37c-.4-.4-.92-.59-1.43-.59-.52 0-1.04.2-1.43.59L10.3 9.45l-7.72 7.72c-.78.78-.78 2.05 0 2.83L4 21.41c.39.39.9.59 1.41.59.51 0 1.02-.2 1.41-.59l7.78-7.78 2.81-2.81c.8-.78.8-2.07 0-2.86zM5.41 20L4 18.59l7.72-7.72 1.47 1.35L5.41 20z\"/>\n",
              "  </svg>\n",
              "      </button>\n",
              "      \n",
              "  <style>\n",
              "    .colab-df-container {\n",
              "      display:flex;\n",
              "      flex-wrap:wrap;\n",
              "      gap: 12px;\n",
              "    }\n",
              "\n",
              "    .colab-df-convert {\n",
              "      background-color: #E8F0FE;\n",
              "      border: none;\n",
              "      border-radius: 50%;\n",
              "      cursor: pointer;\n",
              "      display: none;\n",
              "      fill: #1967D2;\n",
              "      height: 32px;\n",
              "      padding: 0 0 0 0;\n",
              "      width: 32px;\n",
              "    }\n",
              "\n",
              "    .colab-df-convert:hover {\n",
              "      background-color: #E2EBFA;\n",
              "      box-shadow: 0px 1px 2px rgba(60, 64, 67, 0.3), 0px 1px 3px 1px rgba(60, 64, 67, 0.15);\n",
              "      fill: #174EA6;\n",
              "    }\n",
              "\n",
              "    [theme=dark] .colab-df-convert {\n",
              "      background-color: #3B4455;\n",
              "      fill: #D2E3FC;\n",
              "    }\n",
              "\n",
              "    [theme=dark] .colab-df-convert:hover {\n",
              "      background-color: #434B5C;\n",
              "      box-shadow: 0px 1px 3px 1px rgba(0, 0, 0, 0.15);\n",
              "      filter: drop-shadow(0px 1px 2px rgba(0, 0, 0, 0.3));\n",
              "      fill: #FFFFFF;\n",
              "    }\n",
              "  </style>\n",
              "\n",
              "      <script>\n",
              "        const buttonEl =\n",
              "          document.querySelector('#df-61ebd891-21de-4bee-ab51-dee39cc3a31f button.colab-df-convert');\n",
              "        buttonEl.style.display =\n",
              "          google.colab.kernel.accessAllowed ? 'block' : 'none';\n",
              "\n",
              "        async function convertToInteractive(key) {\n",
              "          const element = document.querySelector('#df-61ebd891-21de-4bee-ab51-dee39cc3a31f');\n",
              "          const dataTable =\n",
              "            await google.colab.kernel.invokeFunction('convertToInteractive',\n",
              "                                                     [key], {});\n",
              "          if (!dataTable) return;\n",
              "\n",
              "          const docLinkHtml = 'Like what you see? Visit the ' +\n",
              "            '<a target=\"_blank\" href=https://colab.research.google.com/notebooks/data_table.ipynb>data table notebook</a>'\n",
              "            + ' to learn more about interactive tables.';\n",
              "          element.innerHTML = '';\n",
              "          dataTable['output_type'] = 'display_data';\n",
              "          await google.colab.output.renderOutput(dataTable, element);\n",
              "          const docLink = document.createElement('div');\n",
              "          docLink.innerHTML = docLinkHtml;\n",
              "          element.appendChild(docLink);\n",
              "        }\n",
              "      </script>\n",
              "    </div>\n",
              "  </div>\n",
              "  "
            ]
          },
          "metadata": {},
          "execution_count": 34
        }
      ],
      "source": [
        "## Results from CV\n",
        "df_metrics = pd.DataFrame({\"acc_train_mean\" : [nb_cv['train_score'].mean()],\n",
        "     \"acc_train_std\" : [nb_cv['train_score'].std()],\n",
        "     \"acc_val_mean\" : [nb_cv['test_score'].mean()],\n",
        "     \"acc_val_std\" : [nb_cv['test_score'].std()]})\n",
        "\n",
        "## Top 5 best results\n",
        "df_metrics.sort_values(by = \"acc_val_mean\", ascending = False)"
      ]
    },
    {
      "cell_type": "code",
      "execution_count": null,
      "metadata": {
        "id": "-nEFmLRH0U3o"
      },
      "outputs": [],
      "source": [
        "## Metrics of calibration\n",
        "gm, gm_ece, dmax, dcw = resume_metrics(X_test = X_test, Y_test = y_test, T_test = pd.get_dummies(y_test[:,0]).values, model = nb, nbins = 15, p_value = True, proba = \"predict_proba\")\n",
        " \n",
        "## Accuracy metrics\n",
        "gm[\"acc_train\"] = metrics.accuracy_score(y_true = y_train, y_pred = logist_cv.predict_proba(X_train).argmax(axis = 1))\n",
        "gm[\"acc_val\"] = metrics.accuracy_score(y_true = y_val, y_pred = logist_cv.predict_proba(X_val).argmax(axis = 1))\n",
        "gm[\"acc_test\"] = metrics.accuracy_score(y_true = y_test, y_pred = logist_cv.predict_proba(X_test).argmax(axis = 1))\n"
      ]
    },
    {
      "cell_type": "code",
      "execution_count": null,
      "metadata": {
        "colab": {
          "base_uri": "https://localhost:8080/",
          "height": 81
        },
        "id": "_d8zm0sH0U3p",
        "outputId": "90868a18-a822-45bb-bb39-4a4d10b4cfbd"
      },
      "outputs": [
        {
          "output_type": "execute_result",
          "data": {
            "text/plain": [
              "   Brier_full  Brier_maximum  Log-loss_full  Log-loss_maximum  acc_train  \\\n",
              "0    0.902202       0.902202      13.927278         13.940593   0.851493   \n",
              "\n",
              "   acc_val  acc_test  \n",
              "0  0.85646  0.860915  "
            ],
            "text/html": [
              "\n",
              "  <div id=\"df-182ec9c7-b6df-4623-911d-ff58b329fb03\">\n",
              "    <div class=\"colab-df-container\">\n",
              "      <div>\n",
              "<style scoped>\n",
              "    .dataframe tbody tr th:only-of-type {\n",
              "        vertical-align: middle;\n",
              "    }\n",
              "\n",
              "    .dataframe tbody tr th {\n",
              "        vertical-align: top;\n",
              "    }\n",
              "\n",
              "    .dataframe thead th {\n",
              "        text-align: right;\n",
              "    }\n",
              "</style>\n",
              "<table border=\"1\" class=\"dataframe\">\n",
              "  <thead>\n",
              "    <tr style=\"text-align: right;\">\n",
              "      <th></th>\n",
              "      <th>Brier_full</th>\n",
              "      <th>Brier_maximum</th>\n",
              "      <th>Log-loss_full</th>\n",
              "      <th>Log-loss_maximum</th>\n",
              "      <th>acc_train</th>\n",
              "      <th>acc_val</th>\n",
              "      <th>acc_test</th>\n",
              "    </tr>\n",
              "  </thead>\n",
              "  <tbody>\n",
              "    <tr>\n",
              "      <th>0</th>\n",
              "      <td>0.902202</td>\n",
              "      <td>0.902202</td>\n",
              "      <td>13.927278</td>\n",
              "      <td>13.940593</td>\n",
              "      <td>0.851493</td>\n",
              "      <td>0.85646</td>\n",
              "      <td>0.860915</td>\n",
              "    </tr>\n",
              "  </tbody>\n",
              "</table>\n",
              "</div>\n",
              "      <button class=\"colab-df-convert\" onclick=\"convertToInteractive('df-182ec9c7-b6df-4623-911d-ff58b329fb03')\"\n",
              "              title=\"Convert this dataframe to an interactive table.\"\n",
              "              style=\"display:none;\">\n",
              "        \n",
              "  <svg xmlns=\"http://www.w3.org/2000/svg\" height=\"24px\"viewBox=\"0 0 24 24\"\n",
              "       width=\"24px\">\n",
              "    <path d=\"M0 0h24v24H0V0z\" fill=\"none\"/>\n",
              "    <path d=\"M18.56 5.44l.94 2.06.94-2.06 2.06-.94-2.06-.94-.94-2.06-.94 2.06-2.06.94zm-11 1L8.5 8.5l.94-2.06 2.06-.94-2.06-.94L8.5 2.5l-.94 2.06-2.06.94zm10 10l.94 2.06.94-2.06 2.06-.94-2.06-.94-.94-2.06-.94 2.06-2.06.94z\"/><path d=\"M17.41 7.96l-1.37-1.37c-.4-.4-.92-.59-1.43-.59-.52 0-1.04.2-1.43.59L10.3 9.45l-7.72 7.72c-.78.78-.78 2.05 0 2.83L4 21.41c.39.39.9.59 1.41.59.51 0 1.02-.2 1.41-.59l7.78-7.78 2.81-2.81c.8-.78.8-2.07 0-2.86zM5.41 20L4 18.59l7.72-7.72 1.47 1.35L5.41 20z\"/>\n",
              "  </svg>\n",
              "      </button>\n",
              "      \n",
              "  <style>\n",
              "    .colab-df-container {\n",
              "      display:flex;\n",
              "      flex-wrap:wrap;\n",
              "      gap: 12px;\n",
              "    }\n",
              "\n",
              "    .colab-df-convert {\n",
              "      background-color: #E8F0FE;\n",
              "      border: none;\n",
              "      border-radius: 50%;\n",
              "      cursor: pointer;\n",
              "      display: none;\n",
              "      fill: #1967D2;\n",
              "      height: 32px;\n",
              "      padding: 0 0 0 0;\n",
              "      width: 32px;\n",
              "    }\n",
              "\n",
              "    .colab-df-convert:hover {\n",
              "      background-color: #E2EBFA;\n",
              "      box-shadow: 0px 1px 2px rgba(60, 64, 67, 0.3), 0px 1px 3px 1px rgba(60, 64, 67, 0.15);\n",
              "      fill: #174EA6;\n",
              "    }\n",
              "\n",
              "    [theme=dark] .colab-df-convert {\n",
              "      background-color: #3B4455;\n",
              "      fill: #D2E3FC;\n",
              "    }\n",
              "\n",
              "    [theme=dark] .colab-df-convert:hover {\n",
              "      background-color: #434B5C;\n",
              "      box-shadow: 0px 1px 3px 1px rgba(0, 0, 0, 0.15);\n",
              "      filter: drop-shadow(0px 1px 2px rgba(0, 0, 0, 0.3));\n",
              "      fill: #FFFFFF;\n",
              "    }\n",
              "  </style>\n",
              "\n",
              "      <script>\n",
              "        const buttonEl =\n",
              "          document.querySelector('#df-182ec9c7-b6df-4623-911d-ff58b329fb03 button.colab-df-convert');\n",
              "        buttonEl.style.display =\n",
              "          google.colab.kernel.accessAllowed ? 'block' : 'none';\n",
              "\n",
              "        async function convertToInteractive(key) {\n",
              "          const element = document.querySelector('#df-182ec9c7-b6df-4623-911d-ff58b329fb03');\n",
              "          const dataTable =\n",
              "            await google.colab.kernel.invokeFunction('convertToInteractive',\n",
              "                                                     [key], {});\n",
              "          if (!dataTable) return;\n",
              "\n",
              "          const docLinkHtml = 'Like what you see? Visit the ' +\n",
              "            '<a target=\"_blank\" href=https://colab.research.google.com/notebooks/data_table.ipynb>data table notebook</a>'\n",
              "            + ' to learn more about interactive tables.';\n",
              "          element.innerHTML = '';\n",
              "          dataTable['output_type'] = 'display_data';\n",
              "          await google.colab.output.renderOutput(dataTable, element);\n",
              "          const docLink = document.createElement('div');\n",
              "          docLink.innerHTML = docLinkHtml;\n",
              "          element.appendChild(docLink);\n",
              "        }\n",
              "      </script>\n",
              "    </div>\n",
              "  </div>\n",
              "  "
            ]
          },
          "metadata": {},
          "execution_count": 36
        }
      ],
      "source": [
        "## Results calibration\n",
        "gm"
      ]
    },
    {
      "cell_type": "code",
      "execution_count": null,
      "metadata": {
        "colab": {
          "base_uri": "https://localhost:8080/",
          "height": 143
        },
        "id": "0m7ipNUu0U3p",
        "outputId": "2bcc79d9-1951-4e23-9dc8-d9b4f529930e"
      },
      "outputs": [
        {
          "output_type": "execute_result",
          "data": {
            "text/plain": [
              "  Approach Distance  Binning  ECE observed  ECE perfcect mean  \\\n",
              "0  Maximum       TV     Data      0.450485           0.000821   \n",
              "1  Maximum       TV  Uniform      0.448550           0.002144   \n",
              "2       CW        -  Uniform      0.453508           0.588088   \n",
              "\n",
              "   ECE perfcect std  ECE p-value  \n",
              "0          0.000624          0.0  \n",
              "1          0.000610          0.0  \n",
              "2          0.008022          1.0  "
            ],
            "text/html": [
              "\n",
              "  <div id=\"df-754e7215-6b08-45e3-be2e-16cd056aa6af\">\n",
              "    <div class=\"colab-df-container\">\n",
              "      <div>\n",
              "<style scoped>\n",
              "    .dataframe tbody tr th:only-of-type {\n",
              "        vertical-align: middle;\n",
              "    }\n",
              "\n",
              "    .dataframe tbody tr th {\n",
              "        vertical-align: top;\n",
              "    }\n",
              "\n",
              "    .dataframe thead th {\n",
              "        text-align: right;\n",
              "    }\n",
              "</style>\n",
              "<table border=\"1\" class=\"dataframe\">\n",
              "  <thead>\n",
              "    <tr style=\"text-align: right;\">\n",
              "      <th></th>\n",
              "      <th>Approach</th>\n",
              "      <th>Distance</th>\n",
              "      <th>Binning</th>\n",
              "      <th>ECE observed</th>\n",
              "      <th>ECE perfcect mean</th>\n",
              "      <th>ECE perfcect std</th>\n",
              "      <th>ECE p-value</th>\n",
              "    </tr>\n",
              "  </thead>\n",
              "  <tbody>\n",
              "    <tr>\n",
              "      <th>0</th>\n",
              "      <td>Maximum</td>\n",
              "      <td>TV</td>\n",
              "      <td>Data</td>\n",
              "      <td>0.450485</td>\n",
              "      <td>0.000821</td>\n",
              "      <td>0.000624</td>\n",
              "      <td>0.0</td>\n",
              "    </tr>\n",
              "    <tr>\n",
              "      <th>1</th>\n",
              "      <td>Maximum</td>\n",
              "      <td>TV</td>\n",
              "      <td>Uniform</td>\n",
              "      <td>0.448550</td>\n",
              "      <td>0.002144</td>\n",
              "      <td>0.000610</td>\n",
              "      <td>0.0</td>\n",
              "    </tr>\n",
              "    <tr>\n",
              "      <th>2</th>\n",
              "      <td>CW</td>\n",
              "      <td>-</td>\n",
              "      <td>Uniform</td>\n",
              "      <td>0.453508</td>\n",
              "      <td>0.588088</td>\n",
              "      <td>0.008022</td>\n",
              "      <td>1.0</td>\n",
              "    </tr>\n",
              "  </tbody>\n",
              "</table>\n",
              "</div>\n",
              "      <button class=\"colab-df-convert\" onclick=\"convertToInteractive('df-754e7215-6b08-45e3-be2e-16cd056aa6af')\"\n",
              "              title=\"Convert this dataframe to an interactive table.\"\n",
              "              style=\"display:none;\">\n",
              "        \n",
              "  <svg xmlns=\"http://www.w3.org/2000/svg\" height=\"24px\"viewBox=\"0 0 24 24\"\n",
              "       width=\"24px\">\n",
              "    <path d=\"M0 0h24v24H0V0z\" fill=\"none\"/>\n",
              "    <path d=\"M18.56 5.44l.94 2.06.94-2.06 2.06-.94-2.06-.94-.94-2.06-.94 2.06-2.06.94zm-11 1L8.5 8.5l.94-2.06 2.06-.94-2.06-.94L8.5 2.5l-.94 2.06-2.06.94zm10 10l.94 2.06.94-2.06 2.06-.94-2.06-.94-.94-2.06-.94 2.06-2.06.94z\"/><path d=\"M17.41 7.96l-1.37-1.37c-.4-.4-.92-.59-1.43-.59-.52 0-1.04.2-1.43.59L10.3 9.45l-7.72 7.72c-.78.78-.78 2.05 0 2.83L4 21.41c.39.39.9.59 1.41.59.51 0 1.02-.2 1.41-.59l7.78-7.78 2.81-2.81c.8-.78.8-2.07 0-2.86zM5.41 20L4 18.59l7.72-7.72 1.47 1.35L5.41 20z\"/>\n",
              "  </svg>\n",
              "      </button>\n",
              "      \n",
              "  <style>\n",
              "    .colab-df-container {\n",
              "      display:flex;\n",
              "      flex-wrap:wrap;\n",
              "      gap: 12px;\n",
              "    }\n",
              "\n",
              "    .colab-df-convert {\n",
              "      background-color: #E8F0FE;\n",
              "      border: none;\n",
              "      border-radius: 50%;\n",
              "      cursor: pointer;\n",
              "      display: none;\n",
              "      fill: #1967D2;\n",
              "      height: 32px;\n",
              "      padding: 0 0 0 0;\n",
              "      width: 32px;\n",
              "    }\n",
              "\n",
              "    .colab-df-convert:hover {\n",
              "      background-color: #E2EBFA;\n",
              "      box-shadow: 0px 1px 2px rgba(60, 64, 67, 0.3), 0px 1px 3px 1px rgba(60, 64, 67, 0.15);\n",
              "      fill: #174EA6;\n",
              "    }\n",
              "\n",
              "    [theme=dark] .colab-df-convert {\n",
              "      background-color: #3B4455;\n",
              "      fill: #D2E3FC;\n",
              "    }\n",
              "\n",
              "    [theme=dark] .colab-df-convert:hover {\n",
              "      background-color: #434B5C;\n",
              "      box-shadow: 0px 1px 3px 1px rgba(0, 0, 0, 0.15);\n",
              "      filter: drop-shadow(0px 1px 2px rgba(0, 0, 0, 0.3));\n",
              "      fill: #FFFFFF;\n",
              "    }\n",
              "  </style>\n",
              "\n",
              "      <script>\n",
              "        const buttonEl =\n",
              "          document.querySelector('#df-754e7215-6b08-45e3-be2e-16cd056aa6af button.colab-df-convert');\n",
              "        buttonEl.style.display =\n",
              "          google.colab.kernel.accessAllowed ? 'block' : 'none';\n",
              "\n",
              "        async function convertToInteractive(key) {\n",
              "          const element = document.querySelector('#df-754e7215-6b08-45e3-be2e-16cd056aa6af');\n",
              "          const dataTable =\n",
              "            await google.colab.kernel.invokeFunction('convertToInteractive',\n",
              "                                                     [key], {});\n",
              "          if (!dataTable) return;\n",
              "\n",
              "          const docLinkHtml = 'Like what you see? Visit the ' +\n",
              "            '<a target=\"_blank\" href=https://colab.research.google.com/notebooks/data_table.ipynb>data table notebook</a>'\n",
              "            + ' to learn more about interactive tables.';\n",
              "          element.innerHTML = '';\n",
              "          dataTable['output_type'] = 'display_data';\n",
              "          await google.colab.output.renderOutput(dataTable, element);\n",
              "          const docLink = document.createElement('div');\n",
              "          docLink.innerHTML = docLinkHtml;\n",
              "          element.appendChild(docLink);\n",
              "        }\n",
              "      </script>\n",
              "    </div>\n",
              "  </div>\n",
              "  "
            ]
          },
          "metadata": {},
          "execution_count": 37
        }
      ],
      "source": [
        "## Results calibration\n",
        "gm_ece"
      ]
    },
    {
      "cell_type": "code",
      "execution_count": null,
      "metadata": {
        "colab": {
          "base_uri": "https://localhost:8080/",
          "height": 299
        },
        "id": "bfMrdvdA0U3p",
        "outputId": "19ef10da-993f-47cf-8a7b-4917e1668a9b"
      },
      "outputs": [
        {
          "output_type": "display_data",
          "data": {
            "text/plain": [
              "<Figure size 432x288 with 1 Axes>"
            ],
            "image/png": "[encoded data removed]"
          },
          "metadata": {
            "needs_background": "light"
          }
        }
      ],
      "source": [
        "## Reliability plot for the most confident predictions\n",
        "ReliabilityDiagram(dmax, diagram = \"max\", nr_plt = 0, nc_plt = 0, w_plt = 6, h_plt = 4)"
      ]
    },
    {
      "cell_type": "code",
      "execution_count": null,
      "metadata": {
        "colab": {
          "base_uri": "https://localhost:8080/",
          "height": 308
        },
        "id": "w2bV8LV70U3q",
        "outputId": "42bb2435-f5b0-4803-83c5-80ad035e9ce7"
      },
      "outputs": [
        {
          "output_type": "display_data",
          "data": {
            "text/plain": [
              "<Figure size 720x288 with 2 Axes>"
            ],
            "image/png": "[encoded data removed]"
          },
          "metadata": {
            "needs_background": "light"
          }
        }
      ],
      "source": [
        "## Reliability plot for each class\n",
        "ReliabilityDiagram(dcw, diagram = \"cw\", nr_plt = 1, nc_plt = 2, w_plt = 10, h_plt = 4)"
      ]
    },
    {
      "cell_type": "code",
      "execution_count": null,
      "metadata": {
        "id": "BO9J9rma0U3q",
        "colab": {
          "base_uri": "https://localhost:8080/"
        },
        "outputId": "37338d84-45d0-45ef-ee35-12bfe4a08e72"
      },
      "outputs": [
        {
          "output_type": "stream",
          "name": "stdout",
          "text": [
            "/content/drive/MyDrive/Trabajo de Grado Maestría/Experimentos Finales/05_Baselines_NoRNA/Adult/NB/\n"
          ]
        }
      ],
      "source": [
        "## Path to save results\n",
        "dir_out = dir + \"NB/\"\n",
        "\n",
        "if(not os.path.exists(dir_out)):\n",
        "  os.mkdir(dir_out)\n",
        "\n",
        "print(dir_out)\n",
        "\n",
        "## Export results\n",
        "df_metrics.to_feather(dir_out + \"CVMetrics.feather\")\n",
        "gm.to_feather(dir_out + \"GM.feather\")\n",
        "gm_ece.to_feather(dir_out + \"GM_ECE.feather\")\n",
        "dmax.to_feather(dir_out + \"Diagram_Max.feather\")\n",
        "dcw.to_feather(dir_out + \"Diagram_CW.feather\")"
      ]
    },
    {
      "cell_type": "markdown",
      "metadata": {
        "id": "xHDd5jwH67QO"
      },
      "source": [
        "### SVM Linear "
      ]
    },
    {
      "cell_type": "code",
      "execution_count": null,
      "metadata": {
        "id": "ln253ba97KBH"
      },
      "outputs": [],
      "source": [
        "# ## Logistic model\n",
        "# sup = svm.SVC(random_state = 1, probability = False) \n",
        "\n",
        "# ## CV fitting\n",
        "# sup_cv = model_selection.GridSearchCV(estimator = sup,\n",
        "#                                      param_grid = {\"C\" : np.linspace(0.001, 5, 100)},\n",
        "#                                      scoring = \"accuracy\", cv = cv_par, return_train_score = True, n_jobs = -1, refit = True)\n",
        "\n",
        "# #sup_cv.fit(X_train, y_train.ravel ())\n",
        "# sup_cv.fit(np.concatenate((X_train, X_val), axis = 0), np.concatenate((y_train.ravel(), y_val.ravel()), axis = 0))"
      ]
    },
    {
      "cell_type": "code",
      "execution_count": null,
      "metadata": {
        "id": "Pgnbl6x_3I5_"
      },
      "outputs": [],
      "source": [
        "# ## Results from CV\n",
        "# df_metrics = pd.DataFrame(sup_cv.cv_results_[\"params\"])\n",
        "# df_metrics[\"acc_train_mean\"] = sup_cv.cv_results_['mean_train_score']\n",
        "# df_metrics[\"acc_train_std\"] = sup_cv.cv_results_['std_train_score']\n",
        "# df_metrics[\"acc_val_mean\"] = sup_cv.cv_results_['mean_test_score']\n",
        "# df_metrics[\"acc_val_std\"] = sup_cv.cv_results_['std_test_score']\n",
        "\n",
        "# ## Top 5 best results\n",
        "# df_metrics.sort_values(by = \"acc_val_mean\", ascending = False).head(5)"
      ]
    },
    {
      "cell_type": "code",
      "execution_count": null,
      "metadata": {
        "id": "ZntRVCYY3JFk"
      },
      "outputs": [],
      "source": [
        "# ## Metrics of calibration\n",
        "# gm, gm_ece, dmax, dcw = resume_metrics(X_test = X_test, Y_test = y_test, T_test = pd.get_dummies(y_test[:,0]).values, model = sup_cv, nbins = 15, p_value = True, proba = \"svm\")\n",
        " \n",
        "# ## Accuracy metrics\n",
        "# gm[\"acc_train\"] = metrics.accuracy_score(y_true = y_train, y_pred = proba_svm(X_train, sup_cv).argmax(axis = 1))\n",
        "# gm[\"acc_val\"] = metrics.accuracy_score(y_true = y_val, y_pred = proba_svm(X_val, sup_cv).argmax(axis = 1))\n",
        "# gm[\"acc_test\"] = metrics.accuracy_score(y_true = y_test, y_pred = proba_svm(X_test, sup_cv).argmax(axis = 1))\n"
      ]
    },
    {
      "cell_type": "code",
      "execution_count": null,
      "metadata": {
        "id": "ipEV_MIX3JFl"
      },
      "outputs": [],
      "source": [
        "# ## Results calibration\n",
        "# gm"
      ]
    },
    {
      "cell_type": "code",
      "execution_count": null,
      "metadata": {
        "id": "jQEV0hK13JFl"
      },
      "outputs": [],
      "source": [
        "# ## Results calibration\n",
        "# gm_ece"
      ]
    },
    {
      "cell_type": "code",
      "execution_count": null,
      "metadata": {
        "id": "iqsOu2v33JFn"
      },
      "outputs": [],
      "source": [
        "# ## Reliability plot for the most confident predictions\n",
        "# ReliabilityDiagram(dmax, diagram = \"max\", nr_plt = 0, nc_plt = 0, w_plt = 6, h_plt = 4)"
      ]
    },
    {
      "cell_type": "code",
      "execution_count": null,
      "metadata": {
        "id": "pz8zOvAt3JFn"
      },
      "outputs": [],
      "source": [
        "# ## Reliability plot for each class\n",
        "# ReliabilityDiagram(dcw, diagram = \"cw\", nr_plt = 1, nc_plt = 2, w_plt = 10, h_plt = 4)"
      ]
    },
    {
      "cell_type": "code",
      "execution_count": null,
      "metadata": {
        "id": "H2mF1kEp3JFn"
      },
      "outputs": [],
      "source": [
        "# ## Path to save results\n",
        "# dir_out = dir + \"SVM-Linear/\"\n",
        "\n",
        "# if(not os.path.exists(dir_out)):\n",
        "#   os.mkdir(dir_out)\n",
        "\n",
        "# print(dir_out)\n",
        "\n",
        "# ## Export results\n",
        "# df_metrics.to_feather(dir_out + \"CVMetrics.feather\")\n",
        "# gm.to_feather(dir_out + \"GM.feather\")\n",
        "# gm_ece.to_feather(dir_out + \"GM_ECE.feather\")\n",
        "# dmax.to_feather(dir_out + \"Diagram_Max.feather\")\n",
        "# dcw.to_feather(dir_out + \"Diagram_CW.feather\")"
      ]
    },
    {
      "cell_type": "markdown",
      "metadata": {
        "id": "N8A96wdPvutK"
      },
      "source": [
        "### SVM RBF "
      ]
    },
    {
      "cell_type": "code",
      "execution_count": null,
      "metadata": {
        "id": "L9jkWascvutL"
      },
      "outputs": [],
      "source": [
        "# ## Logistic model\n",
        "# sup = svm.SVC(random_state = 1, probability = False, kernel = \"rbf\") \n",
        "\n",
        "# ## CV fitting\n",
        "# sup_cv = model_selection.GridSearchCV(estimator = sup,\n",
        "#                                      param_grid = {\"C\" : np.linspace(0.001, 5, 25), \"gamma\" : np.linspace(0.01, 5, 25)},\n",
        "#                                      scoring = \"accuracy\", cv = cv_par, return_train_score = True, n_jobs = -1, refit = True)\n",
        "\n",
        "# #sup_cv.fit(X_train, y_train.ravel())\n",
        "# sup_cv.fit(np.concatenate((X_train, X_val), axis = 0), np.concatenate((y_train.ravel(), y_val.ravel()), axis = 0))"
      ]
    },
    {
      "cell_type": "code",
      "execution_count": null,
      "metadata": {
        "id": "TewOIDzg4b7t"
      },
      "outputs": [],
      "source": [
        "# ## Results from CV\n",
        "# df_metrics = pd.DataFrame(sup_cv.cv_results_[\"params\"])\n",
        "# df_metrics[\"acc_train_mean\"] = sup_cv.cv_results_['mean_train_score']\n",
        "# df_metrics[\"acc_train_std\"] = sup_cv.cv_results_['std_train_score']\n",
        "# df_metrics[\"acc_val_mean\"] = sup_cv.cv_results_['mean_test_score']\n",
        "# df_metrics[\"acc_val_std\"] = sup_cv.cv_results_['std_test_score']\n",
        "\n",
        "# ## Top 5 best results\n",
        "# df_metrics.sort_values(by = \"acc_val_mean\", ascending = False).head(5)"
      ]
    },
    {
      "cell_type": "code",
      "execution_count": null,
      "metadata": {
        "id": "Q8CtYCq_4b7t"
      },
      "outputs": [],
      "source": [
        "# ## Metrics of calibration\n",
        "# gm, gm_ece, dmax, dcw = resume_metrics(X_test = X_test, Y_test = y_test, T_test = pd.get_dummies(y_test[:,0]).values, model = sup_cv, nbins = 15, p_value = True, proba = \"svm\")\n",
        " \n",
        "# ## Accuracy metrics\n",
        "# gm[\"acc_train\"] = metrics.accuracy_score(y_true = y_train, y_pred = proba_svm(X_train, sup_cv).argmax(axis = 1))\n",
        "# gm[\"acc_val\"] = metrics.accuracy_score(y_true = y_val, y_pred = proba_svm(X_val, sup_cv).argmax(axis = 1))\n",
        "# gm[\"acc_test\"] = metrics.accuracy_score(y_true = y_test, y_pred = proba_svm(X_test, sup_cv).argmax(axis = 1))"
      ]
    },
    {
      "cell_type": "code",
      "execution_count": null,
      "metadata": {
        "id": "AfJD2tZc4b7u"
      },
      "outputs": [],
      "source": [
        "# ## Results calibration\n",
        "# gm"
      ]
    },
    {
      "cell_type": "code",
      "execution_count": null,
      "metadata": {
        "id": "z6IfOe6k4b7u"
      },
      "outputs": [],
      "source": [
        "# ## Results calibration\n",
        "# gm_ece"
      ]
    },
    {
      "cell_type": "code",
      "execution_count": null,
      "metadata": {
        "id": "ksG0Cpb94b7u"
      },
      "outputs": [],
      "source": [
        "# ## Reliability plot for the most confident predictions\n",
        "# ReliabilityDiagram(dmax, diagram = \"max\", nr_plt = 0, nc_plt = 0, w_plt = 6, h_plt = 4)"
      ]
    },
    {
      "cell_type": "code",
      "execution_count": null,
      "metadata": {
        "id": "QMS7ztz_4b7u"
      },
      "outputs": [],
      "source": [
        "# ## Reliability plot for each class\n",
        "# ReliabilityDiagram(dcw, diagram = \"cw\", nr_plt = 1, nc_plt = 2, w_plt = 10, h_plt = 4)"
      ]
    },
    {
      "cell_type": "code",
      "execution_count": null,
      "metadata": {
        "id": "iGnuk85q4b7v"
      },
      "outputs": [],
      "source": [
        "# ## Path to save results\n",
        "# dir_out = dir + \"SVM-RBF/\"\n",
        "\n",
        "# if(not os.path.exists(dir_out)):\n",
        "#   os.mkdir(dir_out)\n",
        "\n",
        "# print(dir_out)\n",
        "\n",
        "# ## Export results\n",
        "# df_metrics.to_feather(dir_out + \"CVMetrics.feather\")\n",
        "# gm.to_feather(dir_out + \"GM.feather\")\n",
        "# gm_ece.to_feather(dir_out + \"GM_ECE.feather\")\n",
        "# dmax.to_feather(dir_out + \"Diagram_Max.feather\")\n",
        "# dcw.to_feather(dir_out + \"Diagram_CW.feather\")"
      ]
    },
    {
      "cell_type": "markdown",
      "metadata": {
        "id": "7Aa7nd1t8Zf9"
      },
      "source": [
        "### Random Forest"
      ]
    },
    {
      "cell_type": "code",
      "execution_count": null,
      "metadata": {
        "colab": {
          "base_uri": "https://localhost:8080/"
        },
        "id": "r0Abr3_CLGaN",
        "outputId": "081532fc-f64f-45c6-cdfc-c5df2768585f"
      },
      "outputs": [
        {
          "metadata": {
            "tags": null
          },
          "name": "stderr",
          "output_type": "stream",
          "text": [
            "/usr/local/lib/python3.7/dist-packages/joblib/externals/loky/process_executor.py:703: UserWarning: A worker stopped while some jobs were given to the executor. This can be caused by a too short worker timeout or by a memory leak.\n",
            "  \"timeout or by a memory leak.\", UserWarning\n"
          ]
        },
        {
          "output_type": "execute_result",
          "data": {
            "text/plain": [
              "GridSearchCV(cv=RepeatedStratifiedKFold(n_repeats=1, n_splits=10, random_state=512),\n",
              "             estimator=RandomForestClassifier(random_state=21), n_jobs=-1,\n",
              "             param_grid={'max_depth': range(2, 50, 3),\n",
              "                         'n_estimators': range(10, 500, 15)},\n",
              "             return_train_score=True, scoring='accuracy')"
            ]
          },
          "metadata": {},
          "execution_count": 57
        }
      ],
      "source": [
        "#==============================================#\n",
        "#  Search best parameters for random forests   #\n",
        "#==============================================#\n",
        "rf = RandomForestClassifier(random_state = 21)\n",
        "rf_cv = model_selection.GridSearchCV(estimator = rf, param_grid = {\"max_depth\" : range(2,50,3), \"n_estimators\" : range(10, 500, 15) }, scoring = \"accuracy\", cv = cv_par, return_train_score = True, n_jobs = -1 )\n",
        "#rf_cv.fit(X_train, y_train.ravel())\n",
        "rf_cv.fit(np.concatenate((X_train, X_val), axis = 0), np.concatenate((y_train.ravel(), y_val.ravel()), axis = 0))"
      ]
    },
    {
      "cell_type": "code",
      "execution_count": null,
      "metadata": {
        "colab": {
          "base_uri": "https://localhost:8080/",
          "height": 206
        },
        "id": "fuMhIHHfDBCI",
        "outputId": "ae379c1c-db87-44ba-8dc3-7eb2a165a490"
      },
      "outputs": [
        {
          "output_type": "execute_result",
          "data": {
            "text/plain": [
              "     max_depth  n_estimators  acc_train_mean  acc_train_std  acc_val_mean  \\\n",
              "263         23           490        0.939261       0.000723      0.861555   \n",
              "259         23           430        0.939064       0.000689      0.861247   \n",
              "261         23           460        0.939250       0.000746      0.861213   \n",
              "262         23           475        0.939242       0.000675      0.861179   \n",
              "257         23           400        0.939056       0.000690      0.861145   \n",
              "\n",
              "     acc_val_std  \n",
              "263     0.004349  \n",
              "259     0.004342  \n",
              "261     0.004739  \n",
              "262     0.004481  \n",
              "257     0.004594  "
            ],
            "text/html": [
              "\n",
              "  <div id=\"df-f7f04555-2236-47ce-a7d1-86638cba7207\">\n",
              "    <div class=\"colab-df-container\">\n",
              "      <div>\n",
              "<style scoped>\n",
              "    .dataframe tbody tr th:only-of-type {\n",
              "        vertical-align: middle;\n",
              "    }\n",
              "\n",
              "    .dataframe tbody tr th {\n",
              "        vertical-align: top;\n",
              "    }\n",
              "\n",
              "    .dataframe thead th {\n",
              "        text-align: right;\n",
              "    }\n",
              "</style>\n",
              "<table border=\"1\" class=\"dataframe\">\n",
              "  <thead>\n",
              "    <tr style=\"text-align: right;\">\n",
              "      <th></th>\n",
              "      <th>max_depth</th>\n",
              "      <th>n_estimators</th>\n",
              "      <th>acc_train_mean</th>\n",
              "      <th>acc_train_std</th>\n",
              "      <th>acc_val_mean</th>\n",
              "      <th>acc_val_std</th>\n",
              "    </tr>\n",
              "  </thead>\n",
              "  <tbody>\n",
              "    <tr>\n",
              "      <th>263</th>\n",
              "      <td>23</td>\n",
              "      <td>490</td>\n",
              "      <td>0.939261</td>\n",
              "      <td>0.000723</td>\n",
              "      <td>0.861555</td>\n",
              "      <td>0.004349</td>\n",
              "    </tr>\n",
              "    <tr>\n",
              "      <th>259</th>\n",
              "      <td>23</td>\n",
              "      <td>430</td>\n",
              "      <td>0.939064</td>\n",
              "      <td>0.000689</td>\n",
              "      <td>0.861247</td>\n",
              "      <td>0.004342</td>\n",
              "    </tr>\n",
              "    <tr>\n",
              "      <th>261</th>\n",
              "      <td>23</td>\n",
              "      <td>460</td>\n",
              "      <td>0.939250</td>\n",
              "      <td>0.000746</td>\n",
              "      <td>0.861213</td>\n",
              "      <td>0.004739</td>\n",
              "    </tr>\n",
              "    <tr>\n",
              "      <th>262</th>\n",
              "      <td>23</td>\n",
              "      <td>475</td>\n",
              "      <td>0.939242</td>\n",
              "      <td>0.000675</td>\n",
              "      <td>0.861179</td>\n",
              "      <td>0.004481</td>\n",
              "    </tr>\n",
              "    <tr>\n",
              "      <th>257</th>\n",
              "      <td>23</td>\n",
              "      <td>400</td>\n",
              "      <td>0.939056</td>\n",
              "      <td>0.000690</td>\n",
              "      <td>0.861145</td>\n",
              "      <td>0.004594</td>\n",
              "    </tr>\n",
              "  </tbody>\n",
              "</table>\n",
              "</div>\n",
              "      <button class=\"colab-df-convert\" onclick=\"convertToInteractive('df-f7f04555-2236-47ce-a7d1-86638cba7207')\"\n",
              "              title=\"Convert this dataframe to an interactive table.\"\n",
              "              style=\"display:none;\">\n",
              "        \n",
              "  <svg xmlns=\"http://www.w3.org/2000/svg\" height=\"24px\"viewBox=\"0 0 24 24\"\n",
              "       width=\"24px\">\n",
              "    <path d=\"M0 0h24v24H0V0z\" fill=\"none\"/>\n",
              "    <path d=\"M18.56 5.44l.94 2.06.94-2.06 2.06-.94-2.06-.94-.94-2.06-.94 2.06-2.06.94zm-11 1L8.5 8.5l.94-2.06 2.06-.94-2.06-.94L8.5 2.5l-.94 2.06-2.06.94zm10 10l.94 2.06.94-2.06 2.06-.94-2.06-.94-.94-2.06-.94 2.06-2.06.94z\"/><path d=\"M17.41 7.96l-1.37-1.37c-.4-.4-.92-.59-1.43-.59-.52 0-1.04.2-1.43.59L10.3 9.45l-7.72 7.72c-.78.78-.78 2.05 0 2.83L4 21.41c.39.39.9.59 1.41.59.51 0 1.02-.2 1.41-.59l7.78-7.78 2.81-2.81c.8-.78.8-2.07 0-2.86zM5.41 20L4 18.59l7.72-7.72 1.47 1.35L5.41 20z\"/>\n",
              "  </svg>\n",
              "      </button>\n",
              "      \n",
              "  <style>\n",
              "    .colab-df-container {\n",
              "      display:flex;\n",
              "      flex-wrap:wrap;\n",
              "      gap: 12px;\n",
              "    }\n",
              "\n",
              "    .colab-df-convert {\n",
              "      background-color: #E8F0FE;\n",
              "      border: none;\n",
              "      border-radius: 50%;\n",
              "      cursor: pointer;\n",
              "      display: none;\n",
              "      fill: #1967D2;\n",
              "      height: 32px;\n",
              "      padding: 0 0 0 0;\n",
              "      width: 32px;\n",
              "    }\n",
              "\n",
              "    .colab-df-convert:hover {\n",
              "      background-color: #E2EBFA;\n",
              "      box-shadow: 0px 1px 2px rgba(60, 64, 67, 0.3), 0px 1px 3px 1px rgba(60, 64, 67, 0.15);\n",
              "      fill: #174EA6;\n",
              "    }\n",
              "\n",
              "    [theme=dark] .colab-df-convert {\n",
              "      background-color: #3B4455;\n",
              "      fill: #D2E3FC;\n",
              "    }\n",
              "\n",
              "    [theme=dark] .colab-df-convert:hover {\n",
              "      background-color: #434B5C;\n",
              "      box-shadow: 0px 1px 3px 1px rgba(0, 0, 0, 0.15);\n",
              "      filter: drop-shadow(0px 1px 2px rgba(0, 0, 0, 0.3));\n",
              "      fill: #FFFFFF;\n",
              "    }\n",
              "  </style>\n",
              "\n",
              "      <script>\n",
              "        const buttonEl =\n",
              "          document.querySelector('#df-f7f04555-2236-47ce-a7d1-86638cba7207 button.colab-df-convert');\n",
              "        buttonEl.style.display =\n",
              "          google.colab.kernel.accessAllowed ? 'block' : 'none';\n",
              "\n",
              "        async function convertToInteractive(key) {\n",
              "          const element = document.querySelector('#df-f7f04555-2236-47ce-a7d1-86638cba7207');\n",
              "          const dataTable =\n",
              "            await google.colab.kernel.invokeFunction('convertToInteractive',\n",
              "                                                     [key], {});\n",
              "          if (!dataTable) return;\n",
              "\n",
              "          const docLinkHtml = 'Like what you see? Visit the ' +\n",
              "            '<a target=\"_blank\" href=https://colab.research.google.com/notebooks/data_table.ipynb>data table notebook</a>'\n",
              "            + ' to learn more about interactive tables.';\n",
              "          element.innerHTML = '';\n",
              "          dataTable['output_type'] = 'display_data';\n",
              "          await google.colab.output.renderOutput(dataTable, element);\n",
              "          const docLink = document.createElement('div');\n",
              "          docLink.innerHTML = docLinkHtml;\n",
              "          element.appendChild(docLink);\n",
              "        }\n",
              "      </script>\n",
              "    </div>\n",
              "  </div>\n",
              "  "
            ]
          },
          "metadata": {},
          "execution_count": 58
        }
      ],
      "source": [
        "## Results from CV\n",
        "df_metrics = pd.DataFrame(rf_cv.cv_results_[\"params\"])\n",
        "df_metrics[\"acc_train_mean\"] = rf_cv.cv_results_['mean_train_score']\n",
        "df_metrics[\"acc_train_std\"] = rf_cv.cv_results_['std_train_score']\n",
        "df_metrics[\"acc_val_mean\"] = rf_cv.cv_results_['mean_test_score']\n",
        "df_metrics[\"acc_val_std\"] = rf_cv.cv_results_['std_test_score']\n",
        "\n",
        "## Top 5 best results\n",
        "df_metrics.sort_values(by = \"acc_val_mean\", ascending = False).head(5)"
      ]
    },
    {
      "cell_type": "code",
      "execution_count": null,
      "metadata": {
        "id": "P4o7BXK1DBCJ"
      },
      "outputs": [],
      "source": [
        "## Metrics of calibration\n",
        "gm, gm_ece, dmax, dcw = resume_metrics(X_test = X_test, Y_test = y_test, T_test = pd.get_dummies(y_test[:,0]).values, model = rf_cv, nbins = 15, p_value = True, proba = \"predict_proba\")\n",
        " \n",
        "## Accuracy metrics\n",
        "gm[\"acc_train\"] = metrics.accuracy_score(y_true = y_train, y_pred = rf_cv.predict_proba(X_train).argmax(axis = 1))\n",
        "gm[\"acc_val\"] = metrics.accuracy_score(y_true = y_val, y_pred = rf_cv.predict_proba(X_val).argmax(axis = 1))\n",
        "gm[\"acc_test\"] = metrics.accuracy_score(y_true = y_test, y_pred = rf_cv.predict_proba(X_test).argmax(axis = 1))\n"
      ]
    },
    {
      "cell_type": "code",
      "execution_count": null,
      "metadata": {
        "colab": {
          "base_uri": "https://localhost:8080/",
          "height": 81
        },
        "id": "ss2rL1baDBCJ",
        "outputId": "316d73bc-5cd3-4b90-9fc0-c8a19c02669b"
      },
      "outputs": [
        {
          "output_type": "execute_result",
          "data": {
            "text/plain": [
              "   Brier_full  Brier_maximum  Log-loss_full  Log-loss_maximum  acc_train  \\\n",
              "0    0.184447       0.184447        0.29486           0.29486   0.936607   \n",
              "\n",
              "    acc_val  acc_test  \n",
              "0  0.937443  0.871354  "
            ],
            "text/html": [
              "\n",
              "  <div id=\"df-75c73cc5-1bbd-4e79-8e37-648725d077fa\">\n",
              "    <div class=\"colab-df-container\">\n",
              "      <div>\n",
              "<style scoped>\n",
              "    .dataframe tbody tr th:only-of-type {\n",
              "        vertical-align: middle;\n",
              "    }\n",
              "\n",
              "    .dataframe tbody tr th {\n",
              "        vertical-align: top;\n",
              "    }\n",
              "\n",
              "    .dataframe thead th {\n",
              "        text-align: right;\n",
              "    }\n",
              "</style>\n",
              "<table border=\"1\" class=\"dataframe\">\n",
              "  <thead>\n",
              "    <tr style=\"text-align: right;\">\n",
              "      <th></th>\n",
              "      <th>Brier_full</th>\n",
              "      <th>Brier_maximum</th>\n",
              "      <th>Log-loss_full</th>\n",
              "      <th>Log-loss_maximum</th>\n",
              "      <th>acc_train</th>\n",
              "      <th>acc_val</th>\n",
              "      <th>acc_test</th>\n",
              "    </tr>\n",
              "  </thead>\n",
              "  <tbody>\n",
              "    <tr>\n",
              "      <th>0</th>\n",
              "      <td>0.184447</td>\n",
              "      <td>0.184447</td>\n",
              "      <td>0.29486</td>\n",
              "      <td>0.29486</td>\n",
              "      <td>0.936607</td>\n",
              "      <td>0.937443</td>\n",
              "      <td>0.871354</td>\n",
              "    </tr>\n",
              "  </tbody>\n",
              "</table>\n",
              "</div>\n",
              "      <button class=\"colab-df-convert\" onclick=\"convertToInteractive('df-75c73cc5-1bbd-4e79-8e37-648725d077fa')\"\n",
              "              title=\"Convert this dataframe to an interactive table.\"\n",
              "              style=\"display:none;\">\n",
              "        \n",
              "  <svg xmlns=\"http://www.w3.org/2000/svg\" height=\"24px\"viewBox=\"0 0 24 24\"\n",
              "       width=\"24px\">\n",
              "    <path d=\"M0 0h24v24H0V0z\" fill=\"none\"/>\n",
              "    <path d=\"M18.56 5.44l.94 2.06.94-2.06 2.06-.94-2.06-.94-.94-2.06-.94 2.06-2.06.94zm-11 1L8.5 8.5l.94-2.06 2.06-.94-2.06-.94L8.5 2.5l-.94 2.06-2.06.94zm10 10l.94 2.06.94-2.06 2.06-.94-2.06-.94-.94-2.06-.94 2.06-2.06.94z\"/><path d=\"M17.41 7.96l-1.37-1.37c-.4-.4-.92-.59-1.43-.59-.52 0-1.04.2-1.43.59L10.3 9.45l-7.72 7.72c-.78.78-.78 2.05 0 2.83L4 21.41c.39.39.9.59 1.41.59.51 0 1.02-.2 1.41-.59l7.78-7.78 2.81-2.81c.8-.78.8-2.07 0-2.86zM5.41 20L4 18.59l7.72-7.72 1.47 1.35L5.41 20z\"/>\n",
              "  </svg>\n",
              "      </button>\n",
              "      \n",
              "  <style>\n",
              "    .colab-df-container {\n",
              "      display:flex;\n",
              "      flex-wrap:wrap;\n",
              "      gap: 12px;\n",
              "    }\n",
              "\n",
              "    .colab-df-convert {\n",
              "      background-color: #E8F0FE;\n",
              "      border: none;\n",
              "      border-radius: 50%;\n",
              "      cursor: pointer;\n",
              "      display: none;\n",
              "      fill: #1967D2;\n",
              "      height: 32px;\n",
              "      padding: 0 0 0 0;\n",
              "      width: 32px;\n",
              "    }\n",
              "\n",
              "    .colab-df-convert:hover {\n",
              "      background-color: #E2EBFA;\n",
              "      box-shadow: 0px 1px 2px rgba(60, 64, 67, 0.3), 0px 1px 3px 1px rgba(60, 64, 67, 0.15);\n",
              "      fill: #174EA6;\n",
              "    }\n",
              "\n",
              "    [theme=dark] .colab-df-convert {\n",
              "      background-color: #3B4455;\n",
              "      fill: #D2E3FC;\n",
              "    }\n",
              "\n",
              "    [theme=dark] .colab-df-convert:hover {\n",
              "      background-color: #434B5C;\n",
              "      box-shadow: 0px 1px 3px 1px rgba(0, 0, 0, 0.15);\n",
              "      filter: drop-shadow(0px 1px 2px rgba(0, 0, 0, 0.3));\n",
              "      fill: #FFFFFF;\n",
              "    }\n",
              "  </style>\n",
              "\n",
              "      <script>\n",
              "        const buttonEl =\n",
              "          document.querySelector('#df-75c73cc5-1bbd-4e79-8e37-648725d077fa button.colab-df-convert');\n",
              "        buttonEl.style.display =\n",
              "          google.colab.kernel.accessAllowed ? 'block' : 'none';\n",
              "\n",
              "        async function convertToInteractive(key) {\n",
              "          const element = document.querySelector('#df-75c73cc5-1bbd-4e79-8e37-648725d077fa');\n",
              "          const dataTable =\n",
              "            await google.colab.kernel.invokeFunction('convertToInteractive',\n",
              "                                                     [key], {});\n",
              "          if (!dataTable) return;\n",
              "\n",
              "          const docLinkHtml = 'Like what you see? Visit the ' +\n",
              "            '<a target=\"_blank\" href=https://colab.research.google.com/notebooks/data_table.ipynb>data table notebook</a>'\n",
              "            + ' to learn more about interactive tables.';\n",
              "          element.innerHTML = '';\n",
              "          dataTable['output_type'] = 'display_data';\n",
              "          await google.colab.output.renderOutput(dataTable, element);\n",
              "          const docLink = document.createElement('div');\n",
              "          docLink.innerHTML = docLinkHtml;\n",
              "          element.appendChild(docLink);\n",
              "        }\n",
              "      </script>\n",
              "    </div>\n",
              "  </div>\n",
              "  "
            ]
          },
          "metadata": {},
          "execution_count": 60
        }
      ],
      "source": [
        "## Results calibration\n",
        "gm"
      ]
    },
    {
      "cell_type": "code",
      "execution_count": null,
      "metadata": {
        "colab": {
          "base_uri": "https://localhost:8080/",
          "height": 143
        },
        "id": "z3_gXEdsDBCJ",
        "outputId": "d804087f-7215-42e0-9996-f8e2d42bf9cb"
      },
      "outputs": [
        {
          "output_type": "execute_result",
          "data": {
            "text/plain": [
              "  Approach Distance  Binning  ECE observed  ECE perfcect mean  \\\n",
              "0  Maximum       TV     Data      0.027389           0.014958   \n",
              "1  Maximum       TV  Uniform      0.023044           0.012692   \n",
              "2       CW        -  Uniform      0.030576           0.235512   \n",
              "\n",
              "   ECE perfcect std  ECE p-value  \n",
              "0          0.003522        0.000  \n",
              "1          0.003441        0.006  \n",
              "2          0.007820        1.000  "
            ],
            "text/html": [
              "\n",
              "  <div id=\"df-2c3bae54-06ba-47b1-8f83-960a8d7f68b1\">\n",
              "    <div class=\"colab-df-container\">\n",
              "      <div>\n",
              "<style scoped>\n",
              "    .dataframe tbody tr th:only-of-type {\n",
              "        vertical-align: middle;\n",
              "    }\n",
              "\n",
              "    .dataframe tbody tr th {\n",
              "        vertical-align: top;\n",
              "    }\n",
              "\n",
              "    .dataframe thead th {\n",
              "        text-align: right;\n",
              "    }\n",
              "</style>\n",
              "<table border=\"1\" class=\"dataframe\">\n",
              "  <thead>\n",
              "    <tr style=\"text-align: right;\">\n",
              "      <th></th>\n",
              "      <th>Approach</th>\n",
              "      <th>Distance</th>\n",
              "      <th>Binning</th>\n",
              "      <th>ECE observed</th>\n",
              "      <th>ECE perfcect mean</th>\n",
              "      <th>ECE perfcect std</th>\n",
              "      <th>ECE p-value</th>\n",
              "    </tr>\n",
              "  </thead>\n",
              "  <tbody>\n",
              "    <tr>\n",
              "      <th>0</th>\n",
              "      <td>Maximum</td>\n",
              "      <td>TV</td>\n",
              "      <td>Data</td>\n",
              "      <td>0.027389</td>\n",
              "      <td>0.014958</td>\n",
              "      <td>0.003522</td>\n",
              "      <td>0.000</td>\n",
              "    </tr>\n",
              "    <tr>\n",
              "      <th>1</th>\n",
              "      <td>Maximum</td>\n",
              "      <td>TV</td>\n",
              "      <td>Uniform</td>\n",
              "      <td>0.023044</td>\n",
              "      <td>0.012692</td>\n",
              "      <td>0.003441</td>\n",
              "      <td>0.006</td>\n",
              "    </tr>\n",
              "    <tr>\n",
              "      <th>2</th>\n",
              "      <td>CW</td>\n",
              "      <td>-</td>\n",
              "      <td>Uniform</td>\n",
              "      <td>0.030576</td>\n",
              "      <td>0.235512</td>\n",
              "      <td>0.007820</td>\n",
              "      <td>1.000</td>\n",
              "    </tr>\n",
              "  </tbody>\n",
              "</table>\n",
              "</div>\n",
              "      <button class=\"colab-df-convert\" onclick=\"convertToInteractive('df-2c3bae54-06ba-47b1-8f83-960a8d7f68b1')\"\n",
              "              title=\"Convert this dataframe to an interactive table.\"\n",
              "              style=\"display:none;\">\n",
              "        \n",
              "  <svg xmlns=\"http://www.w3.org/2000/svg\" height=\"24px\"viewBox=\"0 0 24 24\"\n",
              "       width=\"24px\">\n",
              "    <path d=\"M0 0h24v24H0V0z\" fill=\"none\"/>\n",
              "    <path d=\"M18.56 5.44l.94 2.06.94-2.06 2.06-.94-2.06-.94-.94-2.06-.94 2.06-2.06.94zm-11 1L8.5 8.5l.94-2.06 2.06-.94-2.06-.94L8.5 2.5l-.94 2.06-2.06.94zm10 10l.94 2.06.94-2.06 2.06-.94-2.06-.94-.94-2.06-.94 2.06-2.06.94z\"/><path d=\"M17.41 7.96l-1.37-1.37c-.4-.4-.92-.59-1.43-.59-.52 0-1.04.2-1.43.59L10.3 9.45l-7.72 7.72c-.78.78-.78 2.05 0 2.83L4 21.41c.39.39.9.59 1.41.59.51 0 1.02-.2 1.41-.59l7.78-7.78 2.81-2.81c.8-.78.8-2.07 0-2.86zM5.41 20L4 18.59l7.72-7.72 1.47 1.35L5.41 20z\"/>\n",
              "  </svg>\n",
              "      </button>\n",
              "      \n",
              "  <style>\n",
              "    .colab-df-container {\n",
              "      display:flex;\n",
              "      flex-wrap:wrap;\n",
              "      gap: 12px;\n",
              "    }\n",
              "\n",
              "    .colab-df-convert {\n",
              "      background-color: #E8F0FE;\n",
              "      border: none;\n",
              "      border-radius: 50%;\n",
              "      cursor: pointer;\n",
              "      display: none;\n",
              "      fill: #1967D2;\n",
              "      height: 32px;\n",
              "      padding: 0 0 0 0;\n",
              "      width: 32px;\n",
              "    }\n",
              "\n",
              "    .colab-df-convert:hover {\n",
              "      background-color: #E2EBFA;\n",
              "      box-shadow: 0px 1px 2px rgba(60, 64, 67, 0.3), 0px 1px 3px 1px rgba(60, 64, 67, 0.15);\n",
              "      fill: #174EA6;\n",
              "    }\n",
              "\n",
              "    [theme=dark] .colab-df-convert {\n",
              "      background-color: #3B4455;\n",
              "      fill: #D2E3FC;\n",
              "    }\n",
              "\n",
              "    [theme=dark] .colab-df-convert:hover {\n",
              "      background-color: #434B5C;\n",
              "      box-shadow: 0px 1px 3px 1px rgba(0, 0, 0, 0.15);\n",
              "      filter: drop-shadow(0px 1px 2px rgba(0, 0, 0, 0.3));\n",
              "      fill: #FFFFFF;\n",
              "    }\n",
              "  </style>\n",
              "\n",
              "      <script>\n",
              "        const buttonEl =\n",
              "          document.querySelector('#df-2c3bae54-06ba-47b1-8f83-960a8d7f68b1 button.colab-df-convert');\n",
              "        buttonEl.style.display =\n",
              "          google.colab.kernel.accessAllowed ? 'block' : 'none';\n",
              "\n",
              "        async function convertToInteractive(key) {\n",
              "          const element = document.querySelector('#df-2c3bae54-06ba-47b1-8f83-960a8d7f68b1');\n",
              "          const dataTable =\n",
              "            await google.colab.kernel.invokeFunction('convertToInteractive',\n",
              "                                                     [key], {});\n",
              "          if (!dataTable) return;\n",
              "\n",
              "          const docLinkHtml = 'Like what you see? Visit the ' +\n",
              "            '<a target=\"_blank\" href=https://colab.research.google.com/notebooks/data_table.ipynb>data table notebook</a>'\n",
              "            + ' to learn more about interactive tables.';\n",
              "          element.innerHTML = '';\n",
              "          dataTable['output_type'] = 'display_data';\n",
              "          await google.colab.output.renderOutput(dataTable, element);\n",
              "          const docLink = document.createElement('div');\n",
              "          docLink.innerHTML = docLinkHtml;\n",
              "          element.appendChild(docLink);\n",
              "        }\n",
              "      </script>\n",
              "    </div>\n",
              "  </div>\n",
              "  "
            ]
          },
          "metadata": {},
          "execution_count": 61
        }
      ],
      "source": [
        "## Results calibration\n",
        "gm_ece"
      ]
    },
    {
      "cell_type": "code",
      "execution_count": null,
      "metadata": {
        "colab": {
          "base_uri": "https://localhost:8080/",
          "height": 299
        },
        "id": "AK7WRH_iDBCK",
        "outputId": "bc5f5657-d77f-400c-ab97-350697c2a71f"
      },
      "outputs": [
        {
          "output_type": "display_data",
          "data": {
            "text/plain": [
              "<Figure size 432x288 with 1 Axes>"
            ],
            "image/png": "[encoded data removed]"
          },
          "metadata": {
            "needs_background": "light"
          }
        }
      ],
      "source": [
        "## Reliability plot for the most confident predictions\n",
        "ReliabilityDiagram(dmax, diagram = \"max\", nr_plt = 0, nc_plt = 0, w_plt = 6, h_plt = 4)"
      ]
    },
    {
      "cell_type": "code",
      "execution_count": null,
      "metadata": {
        "colab": {
          "base_uri": "https://localhost:8080/",
          "height": 308
        },
        "id": "px5ccU8bDBCK",
        "outputId": "044e19f0-3e7f-447b-9483-89067f1dcc5f"
      },
      "outputs": [
        {
          "output_type": "display_data",
          "data": {
            "text/plain": [
              "<Figure size 720x288 with 2 Axes>"
            ],
            "image/png": "[encoded data removed]"
          },
          "metadata": {
            "needs_background": "light"
          }
        }
      ],
      "source": [
        "## Reliability plot for each class\n",
        "ReliabilityDiagram(dcw, diagram = \"cw\", nr_plt = 1, nc_plt = 2, w_plt = 10, h_plt = 4)"
      ]
    },
    {
      "cell_type": "code",
      "execution_count": null,
      "metadata": {
        "colab": {
          "base_uri": "https://localhost:8080/"
        },
        "id": "0ZofRBXLDBCK",
        "outputId": "9c883ea0-47f1-4600-9b8f-2fe0ab5eef56"
      },
      "outputs": [
        {
          "output_type": "stream",
          "name": "stdout",
          "text": [
            "/content/drive/MyDrive/Trabajo de Grado Maestría/Experimentos Finales/05_Baselines_NoRNA/Adult/Random Forest/\n"
          ]
        }
      ],
      "source": [
        "## Path to save results\n",
        "dir_out = dir + \"Random Forest/\"\n",
        "\n",
        "if(not os.path.exists(dir_out)):\n",
        "  os.mkdir(dir_out)\n",
        "\n",
        "print(dir_out)\n",
        "\n",
        "## Export results\n",
        "df_metrics.to_feather(dir_out + \"CVMetrics.feather\")\n",
        "gm.to_feather(dir_out + \"GM.feather\")\n",
        "gm_ece.to_feather(dir_out + \"GM_ECE.feather\")\n",
        "dmax.to_feather(dir_out + \"Diagram_Max.feather\")\n",
        "dcw.to_feather(dir_out + \"Diagram_CW.feather\")"
      ]
    },
    {
      "cell_type": "markdown",
      "metadata": {
        "id": "0-cW014TuNMa"
      },
      "source": [
        "### KNN"
      ]
    },
    {
      "cell_type": "code",
      "execution_count": null,
      "metadata": {
        "id": "CS6i352FuZqh"
      },
      "outputs": [],
      "source": [
        "# ## List of parameters to try\n",
        "# p_par = range(2,50,5)\n",
        "# weights_par = [\"uniform\", \"distance\"]\n",
        "# n_neighbors_par = range(2, 50, 5)\n",
        "\n",
        "# ## Search of best parameters with cross validation\n",
        "# knn = KNeighborsClassifier()\n",
        "# knn_cv = model_selection.GridSearchCV(estimator = knn, param_grid = {\"p\" : p_par, \"weights\" : weights_par, \"n_neighbors\" : n_neighbors_par}, scoring = \"accuracy\", n_jobs = -1, cv = cv_par, return_train_score = True )\n",
        "# #knn_cv.fit(X_train, y_train)\n",
        "# knn_cv.fit(np.concatenate((X_train, X_val), axis = 0), np.concatenate((y_train.ravel(), y_val.ravel()), axis = 0))"
      ]
    },
    {
      "cell_type": "code",
      "execution_count": null,
      "metadata": {
        "id": "W9BYCjjX1r9T"
      },
      "outputs": [],
      "source": [
        "# ## Results from CV\n",
        "# df_metrics = pd.DataFrame(knn_cv.cv_results_[\"params\"])\n",
        "# df_metrics[\"acc_train_mean\"] = knn_cv.cv_results_['mean_train_score']\n",
        "# df_metrics[\"acc_train_std\"] = knn_cv.cv_results_['std_train_score']\n",
        "# df_metrics[\"acc_val_mean\"] = knn_cv.cv_results_['mean_test_score']\n",
        "# df_metrics[\"acc_val_std\"] = knn_cv.cv_results_['std_test_score']\n",
        "\n",
        "# ## Top 5 best results\n",
        "# df_metrics.sort_values(by = \"acc_val_mean\", ascending = False).head(5)"
      ]
    },
    {
      "cell_type": "code",
      "execution_count": null,
      "metadata": {
        "id": "U_kUtqUd1r9T"
      },
      "outputs": [],
      "source": [
        "# ## Metrics of calibration\n",
        "# gm, gm_ece, dmax, dcw = resume_metrics(X_test = X_test, Y_test = y_test, T_test = pd.get_dummies(y_test[:,0]).values, model = knn_cv, nbins = 15, p_value = True, proba = \"predict_proba\")\n",
        " \n",
        "# ## Accuracy metrics\n",
        "# gm[\"acc_train\"] = metrics.accuracy_score(y_true = y_train, y_pred = knn_cv.predict_proba(X_train).argmax(axis = 1))\n",
        "# gm[\"acc_val\"] = metrics.accuracy_score(y_true = y_val, y_pred = knn_cv.predict_proba(X_val).argmax(axis = 1))\n",
        "# gm[\"acc_test\"] = metrics.accuracy_score(y_true = y_test, y_pred = knn_cv.predict_proba(X_test).argmax(axis = 1))"
      ]
    },
    {
      "cell_type": "code",
      "execution_count": null,
      "metadata": {
        "id": "dPyxgj0R1r9T"
      },
      "outputs": [],
      "source": [
        "# ## Results calibration\n",
        "# gm"
      ]
    },
    {
      "cell_type": "code",
      "execution_count": null,
      "metadata": {
        "id": "jmERyYOp1r9U"
      },
      "outputs": [],
      "source": [
        "# ## Results calibration\n",
        "# gm_ece"
      ]
    },
    {
      "cell_type": "code",
      "execution_count": null,
      "metadata": {
        "id": "3iBUk59k1r9U"
      },
      "outputs": [],
      "source": [
        "# ## Reliability plot for the most confident predictions\n",
        "# ReliabilityDiagram(dmax, diagram = \"max\", nr_plt = 0, nc_plt = 0, w_plt = 6, h_plt = 4)"
      ]
    },
    {
      "cell_type": "code",
      "execution_count": null,
      "metadata": {
        "id": "Tey2a7eZ1r9U"
      },
      "outputs": [],
      "source": [
        "# ## Reliability plot for each class\n",
        "# ReliabilityDiagram(dcw, diagram = \"cw\", nr_plt = 1, nc_plt = 2, w_plt = 10, h_plt = 4)"
      ]
    },
    {
      "cell_type": "code",
      "execution_count": null,
      "metadata": {
        "id": "YE9l9Nmk1r9U"
      },
      "outputs": [],
      "source": [
        "# ## Path to save results\n",
        "# dir_out = dir + \"KNN/\"\n",
        "\n",
        "# if(not os.path.exists(dir_out)):\n",
        "#   os.mkdir(dir_out)\n",
        "\n",
        "# print(dir_out)\n",
        "\n",
        "# ## Export results\n",
        "# df_metrics.to_feather(dir_out + \"CVMetrics.feather\")\n",
        "# gm.to_feather(dir_out + \"GM.feather\")\n",
        "# gm_ece.to_feather(dir_out + \"GM_ECE.feather\")\n",
        "# dmax.to_feather(dir_out + \"Diagram_Max.feather\")\n",
        "# dcw.to_feather(dir_out + \"Diagram_CW.feather\")"
      ]
    },
    {
      "cell_type": "markdown",
      "metadata": {
        "id": "4qLMG6kK4dfu"
      },
      "source": [
        "### Decision trees"
      ]
    },
    {
      "cell_type": "code",
      "execution_count": null,
      "metadata": {
        "id": "KH-DUuzqdt5u",
        "colab": {
          "base_uri": "https://localhost:8080/"
        },
        "outputId": "b677f4fa-9e6e-4d72-ef6b-106bf58a8fe2"
      },
      "outputs": [
        {
          "output_type": "execute_result",
          "data": {
            "text/plain": [
              "GridSearchCV(cv=RepeatedStratifiedKFold(n_repeats=1, n_splits=10, random_state=512),\n",
              "             estimator=DecisionTreeClassifier(random_state=2210), n_jobs=-1,\n",
              "             param_grid={'max_depth': range(2, 50, 5)}, return_train_score=True,\n",
              "             scoring='accuracy')"
            ]
          },
          "metadata": {},
          "execution_count": 73
        }
      ],
      "source": [
        "#==============================================#\n",
        "#  Search best parameters for random forests   #\n",
        "#==============================================#\n",
        "dt = DecisionTreeClassifier(random_state = 2210)\n",
        "dt_cv = model_selection.GridSearchCV(estimator = dt, param_grid = {\"max_depth\" : range(2,50,5) }, scoring = \"accuracy\", cv = cv_par, return_train_score = True, n_jobs = -1 )\n",
        "#dt_cv.fit(X_train, y_train.ravel())\n",
        "dt_cv.fit(np.concatenate((X_train, X_val), axis = 0), np.concatenate((y_train.ravel(), y_val.ravel()), axis = 0))"
      ]
    },
    {
      "cell_type": "code",
      "execution_count": null,
      "metadata": {
        "id": "BYLurzCzdt5v",
        "colab": {
          "base_uri": "https://localhost:8080/",
          "height": 206
        },
        "outputId": "8877c739-b949-4271-b945-c483e431f1f5"
      },
      "outputs": [
        {
          "output_type": "execute_result",
          "data": {
            "text/plain": [
              "   max_depth  acc_train_mean  acc_train_std  acc_val_mean  acc_val_std\n",
              "2         12        0.881059       0.001441      0.853944     0.006728\n",
              "1          7        0.857426       0.000743      0.853433     0.005831\n",
              "3         17        0.914850       0.002268      0.843468     0.007405\n",
              "4         22        0.950140       0.003636      0.831797     0.008126\n",
              "5         27        0.975225       0.003730      0.821968     0.008775"
            ],
            "text/html": [
              "\n",
              "  <div id=\"df-f84e434b-5982-4602-83b0-5c2c334da2aa\">\n",
              "    <div class=\"colab-df-container\">\n",
              "      <div>\n",
              "<style scoped>\n",
              "    .dataframe tbody tr th:only-of-type {\n",
              "        vertical-align: middle;\n",
              "    }\n",
              "\n",
              "    .dataframe tbody tr th {\n",
              "        vertical-align: top;\n",
              "    }\n",
              "\n",
              "    .dataframe thead th {\n",
              "        text-align: right;\n",
              "    }\n",
              "</style>\n",
              "<table border=\"1\" class=\"dataframe\">\n",
              "  <thead>\n",
              "    <tr style=\"text-align: right;\">\n",
              "      <th></th>\n",
              "      <th>max_depth</th>\n",
              "      <th>acc_train_mean</th>\n",
              "      <th>acc_train_std</th>\n",
              "      <th>acc_val_mean</th>\n",
              "      <th>acc_val_std</th>\n",
              "    </tr>\n",
              "  </thead>\n",
              "  <tbody>\n",
              "    <tr>\n",
              "      <th>2</th>\n",
              "      <td>12</td>\n",
              "      <td>0.881059</td>\n",
              "      <td>0.001441</td>\n",
              "      <td>0.853944</td>\n",
              "      <td>0.006728</td>\n",
              "    </tr>\n",
              "    <tr>\n",
              "      <th>1</th>\n",
              "      <td>7</td>\n",
              "      <td>0.857426</td>\n",
              "      <td>0.000743</td>\n",
              "      <td>0.853433</td>\n",
              "      <td>0.005831</td>\n",
              "    </tr>\n",
              "    <tr>\n",
              "      <th>3</th>\n",
              "      <td>17</td>\n",
              "      <td>0.914850</td>\n",
              "      <td>0.002268</td>\n",
              "      <td>0.843468</td>\n",
              "      <td>0.007405</td>\n",
              "    </tr>\n",
              "    <tr>\n",
              "      <th>4</th>\n",
              "      <td>22</td>\n",
              "      <td>0.950140</td>\n",
              "      <td>0.003636</td>\n",
              "      <td>0.831797</td>\n",
              "      <td>0.008126</td>\n",
              "    </tr>\n",
              "    <tr>\n",
              "      <th>5</th>\n",
              "      <td>27</td>\n",
              "      <td>0.975225</td>\n",
              "      <td>0.003730</td>\n",
              "      <td>0.821968</td>\n",
              "      <td>0.008775</td>\n",
              "    </tr>\n",
              "  </tbody>\n",
              "</table>\n",
              "</div>\n",
              "      <button class=\"colab-df-convert\" onclick=\"convertToInteractive('df-f84e434b-5982-4602-83b0-5c2c334da2aa')\"\n",
              "              title=\"Convert this dataframe to an interactive table.\"\n",
              "              style=\"display:none;\">\n",
              "        \n",
              "  <svg xmlns=\"http://www.w3.org/2000/svg\" height=\"24px\"viewBox=\"0 0 24 24\"\n",
              "       width=\"24px\">\n",
              "    <path d=\"M0 0h24v24H0V0z\" fill=\"none\"/>\n",
              "    <path d=\"M18.56 5.44l.94 2.06.94-2.06 2.06-.94-2.06-.94-.94-2.06-.94 2.06-2.06.94zm-11 1L8.5 8.5l.94-2.06 2.06-.94-2.06-.94L8.5 2.5l-.94 2.06-2.06.94zm10 10l.94 2.06.94-2.06 2.06-.94-2.06-.94-.94-2.06-.94 2.06-2.06.94z\"/><path d=\"M17.41 7.96l-1.37-1.37c-.4-.4-.92-.59-1.43-.59-.52 0-1.04.2-1.43.59L10.3 9.45l-7.72 7.72c-.78.78-.78 2.05 0 2.83L4 21.41c.39.39.9.59 1.41.59.51 0 1.02-.2 1.41-.59l7.78-7.78 2.81-2.81c.8-.78.8-2.07 0-2.86zM5.41 20L4 18.59l7.72-7.72 1.47 1.35L5.41 20z\"/>\n",
              "  </svg>\n",
              "      </button>\n",
              "      \n",
              "  <style>\n",
              "    .colab-df-container {\n",
              "      display:flex;\n",
              "      flex-wrap:wrap;\n",
              "      gap: 12px;\n",
              "    }\n",
              "\n",
              "    .colab-df-convert {\n",
              "      background-color: #E8F0FE;\n",
              "      border: none;\n",
              "      border-radius: 50%;\n",
              "      cursor: pointer;\n",
              "      display: none;\n",
              "      fill: #1967D2;\n",
              "      height: 32px;\n",
              "      padding: 0 0 0 0;\n",
              "      width: 32px;\n",
              "    }\n",
              "\n",
              "    .colab-df-convert:hover {\n",
              "      background-color: #E2EBFA;\n",
              "      box-shadow: 0px 1px 2px rgba(60, 64, 67, 0.3), 0px 1px 3px 1px rgba(60, 64, 67, 0.15);\n",
              "      fill: #174EA6;\n",
              "    }\n",
              "\n",
              "    [theme=dark] .colab-df-convert {\n",
              "      background-color: #3B4455;\n",
              "      fill: #D2E3FC;\n",
              "    }\n",
              "\n",
              "    [theme=dark] .colab-df-convert:hover {\n",
              "      background-color: #434B5C;\n",
              "      box-shadow: 0px 1px 3px 1px rgba(0, 0, 0, 0.15);\n",
              "      filter: drop-shadow(0px 1px 2px rgba(0, 0, 0, 0.3));\n",
              "      fill: #FFFFFF;\n",
              "    }\n",
              "  </style>\n",
              "\n",
              "      <script>\n",
              "        const buttonEl =\n",
              "          document.querySelector('#df-f84e434b-5982-4602-83b0-5c2c334da2aa button.colab-df-convert');\n",
              "        buttonEl.style.display =\n",
              "          google.colab.kernel.accessAllowed ? 'block' : 'none';\n",
              "\n",
              "        async function convertToInteractive(key) {\n",
              "          const element = document.querySelector('#df-f84e434b-5982-4602-83b0-5c2c334da2aa');\n",
              "          const dataTable =\n",
              "            await google.colab.kernel.invokeFunction('convertToInteractive',\n",
              "                                                     [key], {});\n",
              "          if (!dataTable) return;\n",
              "\n",
              "          const docLinkHtml = 'Like what you see? Visit the ' +\n",
              "            '<a target=\"_blank\" href=https://colab.research.google.com/notebooks/data_table.ipynb>data table notebook</a>'\n",
              "            + ' to learn more about interactive tables.';\n",
              "          element.innerHTML = '';\n",
              "          dataTable['output_type'] = 'display_data';\n",
              "          await google.colab.output.renderOutput(dataTable, element);\n",
              "          const docLink = document.createElement('div');\n",
              "          docLink.innerHTML = docLinkHtml;\n",
              "          element.appendChild(docLink);\n",
              "        }\n",
              "      </script>\n",
              "    </div>\n",
              "  </div>\n",
              "  "
            ]
          },
          "metadata": {},
          "execution_count": 120
        }
      ],
      "source": [
        "## Results from CV\n",
        "df_metrics = pd.DataFrame(dt_cv.cv_results_[\"params\"])\n",
        "df_metrics[\"acc_train_mean\"] = dt_cv.cv_results_['mean_train_score']\n",
        "df_metrics[\"acc_train_std\"] = dt_cv.cv_results_['std_train_score']\n",
        "df_metrics[\"acc_val_mean\"] = dt_cv.cv_results_['mean_test_score']\n",
        "df_metrics[\"acc_val_std\"] = dt_cv.cv_results_['std_test_score']\n",
        "\n",
        "## Top 5 best results\n",
        "df_metrics.sort_values(by = \"acc_val_mean\", ascending = False).head(5)"
      ]
    },
    {
      "cell_type": "code",
      "execution_count": null,
      "metadata": {
        "id": "SknK7FRfdt5v"
      },
      "outputs": [],
      "source": [
        "## Metrics of calibration\n",
        "gm, gm_ece, dmax, dcw = resume_metrics(X_test = X_test, Y_test = y_test, T_test = pd.get_dummies(y_test[:,0]).values, model = dt_cv, nbins = 15, p_value = True, proba = \"predict_proba\")\n",
        " \n",
        "## Accuracy metrics\n",
        "gm[\"acc_train\"] = metrics.accuracy_score(y_true = y_train, y_pred = dt_cv.predict_proba(X_train).argmax(axis = 1))\n",
        "gm[\"acc_val\"] = metrics.accuracy_score(y_true = y_val, y_pred = dt_cv.predict_proba(X_val).argmax(axis = 1))\n",
        "gm[\"acc_test\"] = metrics.accuracy_score(y_true = y_test, y_pred = dt_cv.predict_proba(X_test).argmax(axis = 1))\n"
      ]
    },
    {
      "cell_type": "code",
      "execution_count": null,
      "metadata": {
        "id": "0BCzbKi3dt5v",
        "colab": {
          "base_uri": "https://localhost:8080/",
          "height": 81
        },
        "outputId": "99174f99-fca2-419d-ad85-d276c9e5c642"
      },
      "outputs": [
        {
          "output_type": "execute_result",
          "data": {
            "text/plain": [
              "   Brier_full  Brier_maximum  Log-loss_full  Log-loss_maximum  acc_train  \\\n",
              "0    0.202933       0.202933       0.730259          0.730259    0.87779   \n",
              "\n",
              "    acc_val  acc_test  \n",
              "0  0.880118  0.860608  "
            ],
            "text/html": [
              "\n",
              "  <div id=\"df-9f959fb5-35dd-4799-a489-45eda1966cc5\">\n",
              "    <div class=\"colab-df-container\">\n",
              "      <div>\n",
              "<style scoped>\n",
              "    .dataframe tbody tr th:only-of-type {\n",
              "        vertical-align: middle;\n",
              "    }\n",
              "\n",
              "    .dataframe tbody tr th {\n",
              "        vertical-align: top;\n",
              "    }\n",
              "\n",
              "    .dataframe thead th {\n",
              "        text-align: right;\n",
              "    }\n",
              "</style>\n",
              "<table border=\"1\" class=\"dataframe\">\n",
              "  <thead>\n",
              "    <tr style=\"text-align: right;\">\n",
              "      <th></th>\n",
              "      <th>Brier_full</th>\n",
              "      <th>Brier_maximum</th>\n",
              "      <th>Log-loss_full</th>\n",
              "      <th>Log-loss_maximum</th>\n",
              "      <th>acc_train</th>\n",
              "      <th>acc_val</th>\n",
              "      <th>acc_test</th>\n",
              "    </tr>\n",
              "  </thead>\n",
              "  <tbody>\n",
              "    <tr>\n",
              "      <th>0</th>\n",
              "      <td>0.202933</td>\n",
              "      <td>0.202933</td>\n",
              "      <td>0.730259</td>\n",
              "      <td>0.730259</td>\n",
              "      <td>0.87779</td>\n",
              "      <td>0.880118</td>\n",
              "      <td>0.860608</td>\n",
              "    </tr>\n",
              "  </tbody>\n",
              "</table>\n",
              "</div>\n",
              "      <button class=\"colab-df-convert\" onclick=\"convertToInteractive('df-9f959fb5-35dd-4799-a489-45eda1966cc5')\"\n",
              "              title=\"Convert this dataframe to an interactive table.\"\n",
              "              style=\"display:none;\">\n",
              "        \n",
              "  <svg xmlns=\"http://www.w3.org/2000/svg\" height=\"24px\"viewBox=\"0 0 24 24\"\n",
              "       width=\"24px\">\n",
              "    <path d=\"M0 0h24v24H0V0z\" fill=\"none\"/>\n",
              "    <path d=\"M18.56 5.44l.94 2.06.94-2.06 2.06-.94-2.06-.94-.94-2.06-.94 2.06-2.06.94zm-11 1L8.5 8.5l.94-2.06 2.06-.94-2.06-.94L8.5 2.5l-.94 2.06-2.06.94zm10 10l.94 2.06.94-2.06 2.06-.94-2.06-.94-.94-2.06-.94 2.06-2.06.94z\"/><path d=\"M17.41 7.96l-1.37-1.37c-.4-.4-.92-.59-1.43-.59-.52 0-1.04.2-1.43.59L10.3 9.45l-7.72 7.72c-.78.78-.78 2.05 0 2.83L4 21.41c.39.39.9.59 1.41.59.51 0 1.02-.2 1.41-.59l7.78-7.78 2.81-2.81c.8-.78.8-2.07 0-2.86zM5.41 20L4 18.59l7.72-7.72 1.47 1.35L5.41 20z\"/>\n",
              "  </svg>\n",
              "      </button>\n",
              "      \n",
              "  <style>\n",
              "    .colab-df-container {\n",
              "      display:flex;\n",
              "      flex-wrap:wrap;\n",
              "      gap: 12px;\n",
              "    }\n",
              "\n",
              "    .colab-df-convert {\n",
              "      background-color: #E8F0FE;\n",
              "      border: none;\n",
              "      border-radius: 50%;\n",
              "      cursor: pointer;\n",
              "      display: none;\n",
              "      fill: #1967D2;\n",
              "      height: 32px;\n",
              "      padding: 0 0 0 0;\n",
              "      width: 32px;\n",
              "    }\n",
              "\n",
              "    .colab-df-convert:hover {\n",
              "      background-color: #E2EBFA;\n",
              "      box-shadow: 0px 1px 2px rgba(60, 64, 67, 0.3), 0px 1px 3px 1px rgba(60, 64, 67, 0.15);\n",
              "      fill: #174EA6;\n",
              "    }\n",
              "\n",
              "    [theme=dark] .colab-df-convert {\n",
              "      background-color: #3B4455;\n",
              "      fill: #D2E3FC;\n",
              "    }\n",
              "\n",
              "    [theme=dark] .colab-df-convert:hover {\n",
              "      background-color: #434B5C;\n",
              "      box-shadow: 0px 1px 3px 1px rgba(0, 0, 0, 0.15);\n",
              "      filter: drop-shadow(0px 1px 2px rgba(0, 0, 0, 0.3));\n",
              "      fill: #FFFFFF;\n",
              "    }\n",
              "  </style>\n",
              "\n",
              "      <script>\n",
              "        const buttonEl =\n",
              "          document.querySelector('#df-9f959fb5-35dd-4799-a489-45eda1966cc5 button.colab-df-convert');\n",
              "        buttonEl.style.display =\n",
              "          google.colab.kernel.accessAllowed ? 'block' : 'none';\n",
              "\n",
              "        async function convertToInteractive(key) {\n",
              "          const element = document.querySelector('#df-9f959fb5-35dd-4799-a489-45eda1966cc5');\n",
              "          const dataTable =\n",
              "            await google.colab.kernel.invokeFunction('convertToInteractive',\n",
              "                                                     [key], {});\n",
              "          if (!dataTable) return;\n",
              "\n",
              "          const docLinkHtml = 'Like what you see? Visit the ' +\n",
              "            '<a target=\"_blank\" href=https://colab.research.google.com/notebooks/data_table.ipynb>data table notebook</a>'\n",
              "            + ' to learn more about interactive tables.';\n",
              "          element.innerHTML = '';\n",
              "          dataTable['output_type'] = 'display_data';\n",
              "          await google.colab.output.renderOutput(dataTable, element);\n",
              "          const docLink = document.createElement('div');\n",
              "          docLink.innerHTML = docLinkHtml;\n",
              "          element.appendChild(docLink);\n",
              "        }\n",
              "      </script>\n",
              "    </div>\n",
              "  </div>\n",
              "  "
            ]
          },
          "metadata": {},
          "execution_count": 119
        }
      ],
      "source": [
        "## Results calibration\n",
        "gm"
      ]
    },
    {
      "cell_type": "code",
      "execution_count": null,
      "metadata": {
        "id": "4TXW270Edt5w",
        "colab": {
          "base_uri": "https://localhost:8080/",
          "height": 143
        },
        "outputId": "1480d509-8703-461f-af01-5e4af535c144"
      },
      "outputs": [
        {
          "output_type": "execute_result",
          "data": {
            "text/plain": [
              "  Approach Distance  Binning  ECE observed  ECE perfcect mean  \\\n",
              "0  Maximum       TV     Data      0.024310           0.012672   \n",
              "1  Maximum       TV  Uniform      0.024505           0.010683   \n",
              "2       CW        -  Uniform      0.027572           0.262255   \n",
              "\n",
              "   ECE perfcect std  ECE p-value  \n",
              "0          0.003071        0.000  \n",
              "1          0.003141        0.001  \n",
              "2          0.007963        1.000  "
            ],
            "text/html": [
              "\n",
              "  <div id=\"df-79819f6a-a467-4161-8ab1-85801b521a77\">\n",
              "    <div class=\"colab-df-container\">\n",
              "      <div>\n",
              "<style scoped>\n",
              "    .dataframe tbody tr th:only-of-type {\n",
              "        vertical-align: middle;\n",
              "    }\n",
              "\n",
              "    .dataframe tbody tr th {\n",
              "        vertical-align: top;\n",
              "    }\n",
              "\n",
              "    .dataframe thead th {\n",
              "        text-align: right;\n",
              "    }\n",
              "</style>\n",
              "<table border=\"1\" class=\"dataframe\">\n",
              "  <thead>\n",
              "    <tr style=\"text-align: right;\">\n",
              "      <th></th>\n",
              "      <th>Approach</th>\n",
              "      <th>Distance</th>\n",
              "      <th>Binning</th>\n",
              "      <th>ECE observed</th>\n",
              "      <th>ECE perfcect mean</th>\n",
              "      <th>ECE perfcect std</th>\n",
              "      <th>ECE p-value</th>\n",
              "    </tr>\n",
              "  </thead>\n",
              "  <tbody>\n",
              "    <tr>\n",
              "      <th>0</th>\n",
              "      <td>Maximum</td>\n",
              "      <td>TV</td>\n",
              "      <td>Data</td>\n",
              "      <td>0.024310</td>\n",
              "      <td>0.012672</td>\n",
              "      <td>0.003071</td>\n",
              "      <td>0.000</td>\n",
              "    </tr>\n",
              "    <tr>\n",
              "      <th>1</th>\n",
              "      <td>Maximum</td>\n",
              "      <td>TV</td>\n",
              "      <td>Uniform</td>\n",
              "      <td>0.024505</td>\n",
              "      <td>0.010683</td>\n",
              "      <td>0.003141</td>\n",
              "      <td>0.001</td>\n",
              "    </tr>\n",
              "    <tr>\n",
              "      <th>2</th>\n",
              "      <td>CW</td>\n",
              "      <td>-</td>\n",
              "      <td>Uniform</td>\n",
              "      <td>0.027572</td>\n",
              "      <td>0.262255</td>\n",
              "      <td>0.007963</td>\n",
              "      <td>1.000</td>\n",
              "    </tr>\n",
              "  </tbody>\n",
              "</table>\n",
              "</div>\n",
              "      <button class=\"colab-df-convert\" onclick=\"convertToInteractive('df-79819f6a-a467-4161-8ab1-85801b521a77')\"\n",
              "              title=\"Convert this dataframe to an interactive table.\"\n",
              "              style=\"display:none;\">\n",
              "        \n",
              "  <svg xmlns=\"http://www.w3.org/2000/svg\" height=\"24px\"viewBox=\"0 0 24 24\"\n",
              "       width=\"24px\">\n",
              "    <path d=\"M0 0h24v24H0V0z\" fill=\"none\"/>\n",
              "    <path d=\"M18.56 5.44l.94 2.06.94-2.06 2.06-.94-2.06-.94-.94-2.06-.94 2.06-2.06.94zm-11 1L8.5 8.5l.94-2.06 2.06-.94-2.06-.94L8.5 2.5l-.94 2.06-2.06.94zm10 10l.94 2.06.94-2.06 2.06-.94-2.06-.94-.94-2.06-.94 2.06-2.06.94z\"/><path d=\"M17.41 7.96l-1.37-1.37c-.4-.4-.92-.59-1.43-.59-.52 0-1.04.2-1.43.59L10.3 9.45l-7.72 7.72c-.78.78-.78 2.05 0 2.83L4 21.41c.39.39.9.59 1.41.59.51 0 1.02-.2 1.41-.59l7.78-7.78 2.81-2.81c.8-.78.8-2.07 0-2.86zM5.41 20L4 18.59l7.72-7.72 1.47 1.35L5.41 20z\"/>\n",
              "  </svg>\n",
              "      </button>\n",
              "      \n",
              "  <style>\n",
              "    .colab-df-container {\n",
              "      display:flex;\n",
              "      flex-wrap:wrap;\n",
              "      gap: 12px;\n",
              "    }\n",
              "\n",
              "    .colab-df-convert {\n",
              "      background-color: #E8F0FE;\n",
              "      border: none;\n",
              "      border-radius: 50%;\n",
              "      cursor: pointer;\n",
              "      display: none;\n",
              "      fill: #1967D2;\n",
              "      height: 32px;\n",
              "      padding: 0 0 0 0;\n",
              "      width: 32px;\n",
              "    }\n",
              "\n",
              "    .colab-df-convert:hover {\n",
              "      background-color: #E2EBFA;\n",
              "      box-shadow: 0px 1px 2px rgba(60, 64, 67, 0.3), 0px 1px 3px 1px rgba(60, 64, 67, 0.15);\n",
              "      fill: #174EA6;\n",
              "    }\n",
              "\n",
              "    [theme=dark] .colab-df-convert {\n",
              "      background-color: #3B4455;\n",
              "      fill: #D2E3FC;\n",
              "    }\n",
              "\n",
              "    [theme=dark] .colab-df-convert:hover {\n",
              "      background-color: #434B5C;\n",
              "      box-shadow: 0px 1px 3px 1px rgba(0, 0, 0, 0.15);\n",
              "      filter: drop-shadow(0px 1px 2px rgba(0, 0, 0, 0.3));\n",
              "      fill: #FFFFFF;\n",
              "    }\n",
              "  </style>\n",
              "\n",
              "      <script>\n",
              "        const buttonEl =\n",
              "          document.querySelector('#df-79819f6a-a467-4161-8ab1-85801b521a77 button.colab-df-convert');\n",
              "        buttonEl.style.display =\n",
              "          google.colab.kernel.accessAllowed ? 'block' : 'none';\n",
              "\n",
              "        async function convertToInteractive(key) {\n",
              "          const element = document.querySelector('#df-79819f6a-a467-4161-8ab1-85801b521a77');\n",
              "          const dataTable =\n",
              "            await google.colab.kernel.invokeFunction('convertToInteractive',\n",
              "                                                     [key], {});\n",
              "          if (!dataTable) return;\n",
              "\n",
              "          const docLinkHtml = 'Like what you see? Visit the ' +\n",
              "            '<a target=\"_blank\" href=https://colab.research.google.com/notebooks/data_table.ipynb>data table notebook</a>'\n",
              "            + ' to learn more about interactive tables.';\n",
              "          element.innerHTML = '';\n",
              "          dataTable['output_type'] = 'display_data';\n",
              "          await google.colab.output.renderOutput(dataTable, element);\n",
              "          const docLink = document.createElement('div');\n",
              "          docLink.innerHTML = docLinkHtml;\n",
              "          element.appendChild(docLink);\n",
              "        }\n",
              "      </script>\n",
              "    </div>\n",
              "  </div>\n",
              "  "
            ]
          },
          "metadata": {},
          "execution_count": 118
        }
      ],
      "source": [
        "## Results calibration\n",
        "gm_ece"
      ]
    },
    {
      "cell_type": "code",
      "execution_count": null,
      "metadata": {
        "id": "vWexY6_Mdt5w",
        "colab": {
          "base_uri": "https://localhost:8080/",
          "height": 299
        },
        "outputId": "c1dcee0b-62f7-48bc-84e8-0bfb75092284"
      },
      "outputs": [
        {
          "output_type": "display_data",
          "data": {
            "text/plain": [
              "<Figure size 432x288 with 1 Axes>"
            ],
            "image/png": "[encoded data removed]"
          },
          "metadata": {
            "needs_background": "light"
          }
        }
      ],
      "source": [
        "## Reliability plot for the most confident predictions\n",
        "ReliabilityDiagram(dmax, diagram = \"max\", nr_plt = 0, nc_plt = 0, w_plt = 6, h_plt = 4)"
      ]
    },
    {
      "cell_type": "code",
      "execution_count": null,
      "metadata": {
        "id": "pDfDDO8Rdt5w",
        "colab": {
          "base_uri": "https://localhost:8080/",
          "height": 308
        },
        "outputId": "71d9e764-09e6-4734-c95b-d2cd0fd927ac"
      },
      "outputs": [
        {
          "output_type": "display_data",
          "data": {
            "text/plain": [
              "<Figure size 720x288 with 2 Axes>"
            ],
            "image/png": "[encoded data removed]"
          },
          "metadata": {
            "needs_background": "light"
          }
        }
      ],
      "source": [
        "## Reliability plot for each class\n",
        "ReliabilityDiagram(dcw, diagram = \"cw\", nr_plt = 1, nc_plt = 2, w_plt = 10, h_plt = 4)"
      ]
    },
    {
      "cell_type": "code",
      "execution_count": null,
      "metadata": {
        "id": "N1ZVNTMbdt5w",
        "colab": {
          "base_uri": "https://localhost:8080/"
        },
        "outputId": "f0d86325-bdc2-43a8-aa55-664655b88e03"
      },
      "outputs": [
        {
          "output_type": "stream",
          "name": "stdout",
          "text": [
            "/content/drive/MyDrive/Trabajo de Grado Maestría/Experimentos Finales/05_Baselines_NoRNA/Adult/Decision Trees/\n"
          ]
        }
      ],
      "source": [
        "## Path to save results\n",
        "dir_out = dir + \"Decision Trees/\"\n",
        "\n",
        "if(not os.path.exists(dir_out)):\n",
        "  os.mkdir(dir_out)\n",
        "\n",
        "print(dir_out)\n",
        "\n",
        "## Export results\n",
        "# df_metrics.to_feather(dir_out + \"CVMetrics.feather\")\n",
        "# gm.to_feather(dir_out + \"GM.feather\")\n",
        "# gm_ece.to_feather(dir_out + \"GM_ECE.feather\")\n",
        "# dmax.to_feather(dir_out + \"Diagram_Max.feather\")\n",
        "# dcw.to_feather(dir_out + \"Diagram_CW.feather\")"
      ]
    },
    {
      "cell_type": "markdown",
      "metadata": {
        "id": "8pWFTJYhDTCU"
      },
      "source": [
        "### MLP 1 Layer"
      ]
    },
    {
      "cell_type": "code",
      "execution_count": null,
      "metadata": {
        "id": "jiMKVnZMfLNX"
      },
      "outputs": [],
      "source": [
        "#==============================================#\n",
        "#  Search best parameters for random forests   #\n",
        "#==============================================#\n",
        "parameters = {\"hidden_layer_sizes\" : [(16,), (32,), (64,), (128,), (256,), (512,)], \"activation\" : [\"identity\",\"relu\"] }\n",
        "\n",
        "mlp = MLPClassifier(random_state = 2210, solver = \"adam\", learning_rate_init = 0.001, learning_rate = \"adaptive\")\n",
        "mlp_cv = model_selection.GridSearchCV(estimator = mlp, param_grid = parameters, scoring = \"accuracy\", cv = cv_par, return_train_score = True, n_jobs = -1 )\n",
        "#mlp_cv.fit(X_train, y_train.ravel())\n",
        "mlp_cv.fit(np.concatenate((X_train, X_val), axis = 0), np.concatenate((y_train.ravel(), y_val.ravel()), axis = 0))"
      ]
    },
    {
      "cell_type": "code",
      "execution_count": null,
      "metadata": {
        "id": "O2iLGYthfLNY",
        "colab": {
          "base_uri": "https://localhost:8080/",
          "height": 206
        },
        "outputId": "3f37e914-3272-479b-b910-5b5ce4da6bb9"
      },
      "outputs": [
        {
          "output_type": "execute_result",
          "data": {
            "text/plain": [
              "   activation hidden_layer_sizes  acc_train_mean  acc_train_std  acc_val_mean  \\\n",
              "7    identity               [32]        0.851882       0.000731      0.851112   \n",
              "11   identity              [512]        0.852007       0.000766      0.850908   \n",
              "8    identity               [64]        0.852091       0.000625      0.850430   \n",
              "0        relu               [16]        0.870624       0.001210      0.850361   \n",
              "12       relu               [16]        0.870624       0.001210      0.850361   \n",
              "\n",
              "    acc_val_std  \n",
              "7      0.005424  \n",
              "11     0.004066  \n",
              "8      0.004175  \n",
              "0      0.004961  \n",
              "12     0.004961  "
            ],
            "text/html": [
              "\n",
              "  <div id=\"df-e4a0c445-6869-467f-a828-48eb58973e18\">\n",
              "    <div class=\"colab-df-container\">\n",
              "      <div>\n",
              "<style scoped>\n",
              "    .dataframe tbody tr th:only-of-type {\n",
              "        vertical-align: middle;\n",
              "    }\n",
              "\n",
              "    .dataframe tbody tr th {\n",
              "        vertical-align: top;\n",
              "    }\n",
              "\n",
              "    .dataframe thead th {\n",
              "        text-align: right;\n",
              "    }\n",
              "</style>\n",
              "<table border=\"1\" class=\"dataframe\">\n",
              "  <thead>\n",
              "    <tr style=\"text-align: right;\">\n",
              "      <th></th>\n",
              "      <th>activation</th>\n",
              "      <th>hidden_layer_sizes</th>\n",
              "      <th>acc_train_mean</th>\n",
              "      <th>acc_train_std</th>\n",
              "      <th>acc_val_mean</th>\n",
              "      <th>acc_val_std</th>\n",
              "    </tr>\n",
              "  </thead>\n",
              "  <tbody>\n",
              "    <tr>\n",
              "      <th>7</th>\n",
              "      <td>identity</td>\n",
              "      <td>[32]</td>\n",
              "      <td>0.851882</td>\n",
              "      <td>0.000731</td>\n",
              "      <td>0.851112</td>\n",
              "      <td>0.005424</td>\n",
              "    </tr>\n",
              "    <tr>\n",
              "      <th>11</th>\n",
              "      <td>identity</td>\n",
              "      <td>[512]</td>\n",
              "      <td>0.852007</td>\n",
              "      <td>0.000766</td>\n",
              "      <td>0.850908</td>\n",
              "      <td>0.004066</td>\n",
              "    </tr>\n",
              "    <tr>\n",
              "      <th>8</th>\n",
              "      <td>identity</td>\n",
              "      <td>[64]</td>\n",
              "      <td>0.852091</td>\n",
              "      <td>0.000625</td>\n",
              "      <td>0.850430</td>\n",
              "      <td>0.004175</td>\n",
              "    </tr>\n",
              "    <tr>\n",
              "      <th>0</th>\n",
              "      <td>relu</td>\n",
              "      <td>[16]</td>\n",
              "      <td>0.870624</td>\n",
              "      <td>0.001210</td>\n",
              "      <td>0.850361</td>\n",
              "      <td>0.004961</td>\n",
              "    </tr>\n",
              "    <tr>\n",
              "      <th>12</th>\n",
              "      <td>relu</td>\n",
              "      <td>[16]</td>\n",
              "      <td>0.870624</td>\n",
              "      <td>0.001210</td>\n",
              "      <td>0.850361</td>\n",
              "      <td>0.004961</td>\n",
              "    </tr>\n",
              "  </tbody>\n",
              "</table>\n",
              "</div>\n",
              "      <button class=\"colab-df-convert\" onclick=\"convertToInteractive('df-e4a0c445-6869-467f-a828-48eb58973e18')\"\n",
              "              title=\"Convert this dataframe to an interactive table.\"\n",
              "              style=\"display:none;\">\n",
              "        \n",
              "  <svg xmlns=\"http://www.w3.org/2000/svg\" height=\"24px\"viewBox=\"0 0 24 24\"\n",
              "       width=\"24px\">\n",
              "    <path d=\"M0 0h24v24H0V0z\" fill=\"none\"/>\n",
              "    <path d=\"M18.56 5.44l.94 2.06.94-2.06 2.06-.94-2.06-.94-.94-2.06-.94 2.06-2.06.94zm-11 1L8.5 8.5l.94-2.06 2.06-.94-2.06-.94L8.5 2.5l-.94 2.06-2.06.94zm10 10l.94 2.06.94-2.06 2.06-.94-2.06-.94-.94-2.06-.94 2.06-2.06.94z\"/><path d=\"M17.41 7.96l-1.37-1.37c-.4-.4-.92-.59-1.43-.59-.52 0-1.04.2-1.43.59L10.3 9.45l-7.72 7.72c-.78.78-.78 2.05 0 2.83L4 21.41c.39.39.9.59 1.41.59.51 0 1.02-.2 1.41-.59l7.78-7.78 2.81-2.81c.8-.78.8-2.07 0-2.86zM5.41 20L4 18.59l7.72-7.72 1.47 1.35L5.41 20z\"/>\n",
              "  </svg>\n",
              "      </button>\n",
              "      \n",
              "  <style>\n",
              "    .colab-df-container {\n",
              "      display:flex;\n",
              "      flex-wrap:wrap;\n",
              "      gap: 12px;\n",
              "    }\n",
              "\n",
              "    .colab-df-convert {\n",
              "      background-color: #E8F0FE;\n",
              "      border: none;\n",
              "      border-radius: 50%;\n",
              "      cursor: pointer;\n",
              "      display: none;\n",
              "      fill: #1967D2;\n",
              "      height: 32px;\n",
              "      padding: 0 0 0 0;\n",
              "      width: 32px;\n",
              "    }\n",
              "\n",
              "    .colab-df-convert:hover {\n",
              "      background-color: #E2EBFA;\n",
              "      box-shadow: 0px 1px 2px rgba(60, 64, 67, 0.3), 0px 1px 3px 1px rgba(60, 64, 67, 0.15);\n",
              "      fill: #174EA6;\n",
              "    }\n",
              "\n",
              "    [theme=dark] .colab-df-convert {\n",
              "      background-color: #3B4455;\n",
              "      fill: #D2E3FC;\n",
              "    }\n",
              "\n",
              "    [theme=dark] .colab-df-convert:hover {\n",
              "      background-color: #434B5C;\n",
              "      box-shadow: 0px 1px 3px 1px rgba(0, 0, 0, 0.15);\n",
              "      filter: drop-shadow(0px 1px 2px rgba(0, 0, 0, 0.3));\n",
              "      fill: #FFFFFF;\n",
              "    }\n",
              "  </style>\n",
              "\n",
              "      <script>\n",
              "        const buttonEl =\n",
              "          document.querySelector('#df-e4a0c445-6869-467f-a828-48eb58973e18 button.colab-df-convert');\n",
              "        buttonEl.style.display =\n",
              "          google.colab.kernel.accessAllowed ? 'block' : 'none';\n",
              "\n",
              "        async function convertToInteractive(key) {\n",
              "          const element = document.querySelector('#df-e4a0c445-6869-467f-a828-48eb58973e18');\n",
              "          const dataTable =\n",
              "            await google.colab.kernel.invokeFunction('convertToInteractive',\n",
              "                                                     [key], {});\n",
              "          if (!dataTable) return;\n",
              "\n",
              "          const docLinkHtml = 'Like what you see? Visit the ' +\n",
              "            '<a target=\"_blank\" href=https://colab.research.google.com/notebooks/data_table.ipynb>data table notebook</a>'\n",
              "            + ' to learn more about interactive tables.';\n",
              "          element.innerHTML = '';\n",
              "          dataTable['output_type'] = 'display_data';\n",
              "          await google.colab.output.renderOutput(dataTable, element);\n",
              "          const docLink = document.createElement('div');\n",
              "          docLink.innerHTML = docLinkHtml;\n",
              "          element.appendChild(docLink);\n",
              "        }\n",
              "      </script>\n",
              "    </div>\n",
              "  </div>\n",
              "  "
            ]
          },
          "metadata": {},
          "execution_count": 14
        }
      ],
      "source": [
        "## Results from CV\n",
        "df_metrics = pd.DataFrame(mlp_cv.cv_results_[\"params\"])\n",
        "df_metrics[\"acc_train_mean\"] = mlp_cv.cv_results_['mean_train_score']\n",
        "df_metrics[\"acc_train_std\"] = mlp_cv.cv_results_['std_train_score']\n",
        "df_metrics[\"acc_val_mean\"] = mlp_cv.cv_results_['mean_test_score']\n",
        "df_metrics[\"acc_val_std\"] = mlp_cv.cv_results_['std_test_score']\n",
        "\n",
        "## Top 5 best results\n",
        "df_metrics.sort_values(by = \"acc_val_mean\", ascending = False).head(5)"
      ]
    },
    {
      "cell_type": "code",
      "execution_count": null,
      "metadata": {
        "id": "8iig0G09fLNY"
      },
      "outputs": [],
      "source": [
        "## Metrics of calibration\n",
        "gm, gm_ece, dmax, dcw = resume_metrics(X_test = X_test, Y_test = y_test, T_test = pd.get_dummies(y_test[:,0]).values, model = mlp_cv, nbins = 15, p_value = True, proba = \"predict_proba\")\n",
        " \n",
        "## Accuracy metrics\n",
        "gm[\"acc_train\"] = metrics.accuracy_score(y_true = y_train, y_pred = mlp_cv.predict_proba(X_train).argmax(axis = 1))\n",
        "gm[\"acc_val\"] = metrics.accuracy_score(y_true = y_val, y_pred = mlp_cv.predict_proba(X_val).argmax(axis = 1))\n",
        "gm[\"acc_test\"] = metrics.accuracy_score(y_true = y_test, y_pred = mlp_cv.predict_proba(X_test).argmax(axis = 1))\n"
      ]
    },
    {
      "cell_type": "code",
      "execution_count": null,
      "metadata": {
        "id": "Y3UL6O7-fLNY",
        "colab": {
          "base_uri": "https://localhost:8080/",
          "height": 81
        },
        "outputId": "7632d4f5-2965-4071-876d-840723c0b952"
      },
      "outputs": [
        {
          "output_type": "execute_result",
          "data": {
            "text/plain": [
              "   Brier_full  Brier_maximum  Log-loss_full  Log-loss_maximum  acc_train  \\\n",
              "0    0.196792       0.196792       0.307922          0.307922   0.851293   \n",
              "\n",
              "    acc_val  acc_test  \n",
              "0  0.858508  0.864599  "
            ],
            "text/html": [
              "\n",
              "  <div id=\"df-32386cd3-82cc-4ef1-ad41-ae098401b569\">\n",
              "    <div class=\"colab-df-container\">\n",
              "      <div>\n",
              "<style scoped>\n",
              "    .dataframe tbody tr th:only-of-type {\n",
              "        vertical-align: middle;\n",
              "    }\n",
              "\n",
              "    .dataframe tbody tr th {\n",
              "        vertical-align: top;\n",
              "    }\n",
              "\n",
              "    .dataframe thead th {\n",
              "        text-align: right;\n",
              "    }\n",
              "</style>\n",
              "<table border=\"1\" class=\"dataframe\">\n",
              "  <thead>\n",
              "    <tr style=\"text-align: right;\">\n",
              "      <th></th>\n",
              "      <th>Brier_full</th>\n",
              "      <th>Brier_maximum</th>\n",
              "      <th>Log-loss_full</th>\n",
              "      <th>Log-loss_maximum</th>\n",
              "      <th>acc_train</th>\n",
              "      <th>acc_val</th>\n",
              "      <th>acc_test</th>\n",
              "    </tr>\n",
              "  </thead>\n",
              "  <tbody>\n",
              "    <tr>\n",
              "      <th>0</th>\n",
              "      <td>0.196792</td>\n",
              "      <td>0.196792</td>\n",
              "      <td>0.307922</td>\n",
              "      <td>0.307922</td>\n",
              "      <td>0.851293</td>\n",
              "      <td>0.858508</td>\n",
              "      <td>0.864599</td>\n",
              "    </tr>\n",
              "  </tbody>\n",
              "</table>\n",
              "</div>\n",
              "      <button class=\"colab-df-convert\" onclick=\"convertToInteractive('df-32386cd3-82cc-4ef1-ad41-ae098401b569')\"\n",
              "              title=\"Convert this dataframe to an interactive table.\"\n",
              "              style=\"display:none;\">\n",
              "        \n",
              "  <svg xmlns=\"http://www.w3.org/2000/svg\" height=\"24px\"viewBox=\"0 0 24 24\"\n",
              "       width=\"24px\">\n",
              "    <path d=\"M0 0h24v24H0V0z\" fill=\"none\"/>\n",
              "    <path d=\"M18.56 5.44l.94 2.06.94-2.06 2.06-.94-2.06-.94-.94-2.06-.94 2.06-2.06.94zm-11 1L8.5 8.5l.94-2.06 2.06-.94-2.06-.94L8.5 2.5l-.94 2.06-2.06.94zm10 10l.94 2.06.94-2.06 2.06-.94-2.06-.94-.94-2.06-.94 2.06-2.06.94z\"/><path d=\"M17.41 7.96l-1.37-1.37c-.4-.4-.92-.59-1.43-.59-.52 0-1.04.2-1.43.59L10.3 9.45l-7.72 7.72c-.78.78-.78 2.05 0 2.83L4 21.41c.39.39.9.59 1.41.59.51 0 1.02-.2 1.41-.59l7.78-7.78 2.81-2.81c.8-.78.8-2.07 0-2.86zM5.41 20L4 18.59l7.72-7.72 1.47 1.35L5.41 20z\"/>\n",
              "  </svg>\n",
              "      </button>\n",
              "      \n",
              "  <style>\n",
              "    .colab-df-container {\n",
              "      display:flex;\n",
              "      flex-wrap:wrap;\n",
              "      gap: 12px;\n",
              "    }\n",
              "\n",
              "    .colab-df-convert {\n",
              "      background-color: #E8F0FE;\n",
              "      border: none;\n",
              "      border-radius: 50%;\n",
              "      cursor: pointer;\n",
              "      display: none;\n",
              "      fill: #1967D2;\n",
              "      height: 32px;\n",
              "      padding: 0 0 0 0;\n",
              "      width: 32px;\n",
              "    }\n",
              "\n",
              "    .colab-df-convert:hover {\n",
              "      background-color: #E2EBFA;\n",
              "      box-shadow: 0px 1px 2px rgba(60, 64, 67, 0.3), 0px 1px 3px 1px rgba(60, 64, 67, 0.15);\n",
              "      fill: #174EA6;\n",
              "    }\n",
              "\n",
              "    [theme=dark] .colab-df-convert {\n",
              "      background-color: #3B4455;\n",
              "      fill: #D2E3FC;\n",
              "    }\n",
              "\n",
              "    [theme=dark] .colab-df-convert:hover {\n",
              "      background-color: #434B5C;\n",
              "      box-shadow: 0px 1px 3px 1px rgba(0, 0, 0, 0.15);\n",
              "      filter: drop-shadow(0px 1px 2px rgba(0, 0, 0, 0.3));\n",
              "      fill: #FFFFFF;\n",
              "    }\n",
              "  </style>\n",
              "\n",
              "      <script>\n",
              "        const buttonEl =\n",
              "          document.querySelector('#df-32386cd3-82cc-4ef1-ad41-ae098401b569 button.colab-df-convert');\n",
              "        buttonEl.style.display =\n",
              "          google.colab.kernel.accessAllowed ? 'block' : 'none';\n",
              "\n",
              "        async function convertToInteractive(key) {\n",
              "          const element = document.querySelector('#df-32386cd3-82cc-4ef1-ad41-ae098401b569');\n",
              "          const dataTable =\n",
              "            await google.colab.kernel.invokeFunction('convertToInteractive',\n",
              "                                                     [key], {});\n",
              "          if (!dataTable) return;\n",
              "\n",
              "          const docLinkHtml = 'Like what you see? Visit the ' +\n",
              "            '<a target=\"_blank\" href=https://colab.research.google.com/notebooks/data_table.ipynb>data table notebook</a>'\n",
              "            + ' to learn more about interactive tables.';\n",
              "          element.innerHTML = '';\n",
              "          dataTable['output_type'] = 'display_data';\n",
              "          await google.colab.output.renderOutput(dataTable, element);\n",
              "          const docLink = document.createElement('div');\n",
              "          docLink.innerHTML = docLinkHtml;\n",
              "          element.appendChild(docLink);\n",
              "        }\n",
              "      </script>\n",
              "    </div>\n",
              "  </div>\n",
              "  "
            ]
          },
          "metadata": {},
          "execution_count": 113
        }
      ],
      "source": [
        "## Results calibration\n",
        "gm"
      ]
    },
    {
      "cell_type": "code",
      "execution_count": null,
      "metadata": {
        "id": "DCvIRNEHfLNY",
        "colab": {
          "base_uri": "https://localhost:8080/",
          "height": 143
        },
        "outputId": "2629e10e-80e8-4a7f-d1d8-1c453aeecfea"
      },
      "outputs": [
        {
          "output_type": "execute_result",
          "data": {
            "text/plain": [
              "  Approach Distance  Binning  ECE observed  ECE perfcect mean  \\\n",
              "0  Maximum       TV     Data      0.017210           0.014576   \n",
              "1  Maximum       TV  Uniform      0.017285           0.012333   \n",
              "2       CW        -  Uniform      0.019255           0.239282   \n",
              "\n",
              "   ECE perfcect std  ECE p-value  \n",
              "0          0.003261        0.206  \n",
              "1          0.003362        0.082  \n",
              "2          0.007614        1.000  "
            ],
            "text/html": [
              "\n",
              "  <div id=\"df-eeb099cc-6327-4eb1-b1c9-f4be32c337a3\">\n",
              "    <div class=\"colab-df-container\">\n",
              "      <div>\n",
              "<style scoped>\n",
              "    .dataframe tbody tr th:only-of-type {\n",
              "        vertical-align: middle;\n",
              "    }\n",
              "\n",
              "    .dataframe tbody tr th {\n",
              "        vertical-align: top;\n",
              "    }\n",
              "\n",
              "    .dataframe thead th {\n",
              "        text-align: right;\n",
              "    }\n",
              "</style>\n",
              "<table border=\"1\" class=\"dataframe\">\n",
              "  <thead>\n",
              "    <tr style=\"text-align: right;\">\n",
              "      <th></th>\n",
              "      <th>Approach</th>\n",
              "      <th>Distance</th>\n",
              "      <th>Binning</th>\n",
              "      <th>ECE observed</th>\n",
              "      <th>ECE perfcect mean</th>\n",
              "      <th>ECE perfcect std</th>\n",
              "      <th>ECE p-value</th>\n",
              "    </tr>\n",
              "  </thead>\n",
              "  <tbody>\n",
              "    <tr>\n",
              "      <th>0</th>\n",
              "      <td>Maximum</td>\n",
              "      <td>TV</td>\n",
              "      <td>Data</td>\n",
              "      <td>0.017210</td>\n",
              "      <td>0.014576</td>\n",
              "      <td>0.003261</td>\n",
              "      <td>0.206</td>\n",
              "    </tr>\n",
              "    <tr>\n",
              "      <th>1</th>\n",
              "      <td>Maximum</td>\n",
              "      <td>TV</td>\n",
              "      <td>Uniform</td>\n",
              "      <td>0.017285</td>\n",
              "      <td>0.012333</td>\n",
              "      <td>0.003362</td>\n",
              "      <td>0.082</td>\n",
              "    </tr>\n",
              "    <tr>\n",
              "      <th>2</th>\n",
              "      <td>CW</td>\n",
              "      <td>-</td>\n",
              "      <td>Uniform</td>\n",
              "      <td>0.019255</td>\n",
              "      <td>0.239282</td>\n",
              "      <td>0.007614</td>\n",
              "      <td>1.000</td>\n",
              "    </tr>\n",
              "  </tbody>\n",
              "</table>\n",
              "</div>\n",
              "      <button class=\"colab-df-convert\" onclick=\"convertToInteractive('df-eeb099cc-6327-4eb1-b1c9-f4be32c337a3')\"\n",
              "              title=\"Convert this dataframe to an interactive table.\"\n",
              "              style=\"display:none;\">\n",
              "        \n",
              "  <svg xmlns=\"http://www.w3.org/2000/svg\" height=\"24px\"viewBox=\"0 0 24 24\"\n",
              "       width=\"24px\">\n",
              "    <path d=\"M0 0h24v24H0V0z\" fill=\"none\"/>\n",
              "    <path d=\"M18.56 5.44l.94 2.06.94-2.06 2.06-.94-2.06-.94-.94-2.06-.94 2.06-2.06.94zm-11 1L8.5 8.5l.94-2.06 2.06-.94-2.06-.94L8.5 2.5l-.94 2.06-2.06.94zm10 10l.94 2.06.94-2.06 2.06-.94-2.06-.94-.94-2.06-.94 2.06-2.06.94z\"/><path d=\"M17.41 7.96l-1.37-1.37c-.4-.4-.92-.59-1.43-.59-.52 0-1.04.2-1.43.59L10.3 9.45l-7.72 7.72c-.78.78-.78 2.05 0 2.83L4 21.41c.39.39.9.59 1.41.59.51 0 1.02-.2 1.41-.59l7.78-7.78 2.81-2.81c.8-.78.8-2.07 0-2.86zM5.41 20L4 18.59l7.72-7.72 1.47 1.35L5.41 20z\"/>\n",
              "  </svg>\n",
              "      </button>\n",
              "      \n",
              "  <style>\n",
              "    .colab-df-container {\n",
              "      display:flex;\n",
              "      flex-wrap:wrap;\n",
              "      gap: 12px;\n",
              "    }\n",
              "\n",
              "    .colab-df-convert {\n",
              "      background-color: #E8F0FE;\n",
              "      border: none;\n",
              "      border-radius: 50%;\n",
              "      cursor: pointer;\n",
              "      display: none;\n",
              "      fill: #1967D2;\n",
              "      height: 32px;\n",
              "      padding: 0 0 0 0;\n",
              "      width: 32px;\n",
              "    }\n",
              "\n",
              "    .colab-df-convert:hover {\n",
              "      background-color: #E2EBFA;\n",
              "      box-shadow: 0px 1px 2px rgba(60, 64, 67, 0.3), 0px 1px 3px 1px rgba(60, 64, 67, 0.15);\n",
              "      fill: #174EA6;\n",
              "    }\n",
              "\n",
              "    [theme=dark] .colab-df-convert {\n",
              "      background-color: #3B4455;\n",
              "      fill: #D2E3FC;\n",
              "    }\n",
              "\n",
              "    [theme=dark] .colab-df-convert:hover {\n",
              "      background-color: #434B5C;\n",
              "      box-shadow: 0px 1px 3px 1px rgba(0, 0, 0, 0.15);\n",
              "      filter: drop-shadow(0px 1px 2px rgba(0, 0, 0, 0.3));\n",
              "      fill: #FFFFFF;\n",
              "    }\n",
              "  </style>\n",
              "\n",
              "      <script>\n",
              "        const buttonEl =\n",
              "          document.querySelector('#df-eeb099cc-6327-4eb1-b1c9-f4be32c337a3 button.colab-df-convert');\n",
              "        buttonEl.style.display =\n",
              "          google.colab.kernel.accessAllowed ? 'block' : 'none';\n",
              "\n",
              "        async function convertToInteractive(key) {\n",
              "          const element = document.querySelector('#df-eeb099cc-6327-4eb1-b1c9-f4be32c337a3');\n",
              "          const dataTable =\n",
              "            await google.colab.kernel.invokeFunction('convertToInteractive',\n",
              "                                                     [key], {});\n",
              "          if (!dataTable) return;\n",
              "\n",
              "          const docLinkHtml = 'Like what you see? Visit the ' +\n",
              "            '<a target=\"_blank\" href=https://colab.research.google.com/notebooks/data_table.ipynb>data table notebook</a>'\n",
              "            + ' to learn more about interactive tables.';\n",
              "          element.innerHTML = '';\n",
              "          dataTable['output_type'] = 'display_data';\n",
              "          await google.colab.output.renderOutput(dataTable, element);\n",
              "          const docLink = document.createElement('div');\n",
              "          docLink.innerHTML = docLinkHtml;\n",
              "          element.appendChild(docLink);\n",
              "        }\n",
              "      </script>\n",
              "    </div>\n",
              "  </div>\n",
              "  "
            ]
          },
          "metadata": {},
          "execution_count": 112
        }
      ],
      "source": [
        "## Results calibration\n",
        "gm_ece"
      ]
    },
    {
      "cell_type": "code",
      "execution_count": null,
      "metadata": {
        "id": "jrf_W_pffLNZ",
        "colab": {
          "base_uri": "https://localhost:8080/",
          "height": 299
        },
        "outputId": "d64666bc-cec3-4423-a931-faf5412b1315"
      },
      "outputs": [
        {
          "output_type": "display_data",
          "data": {
            "text/plain": [
              "<Figure size 432x288 with 1 Axes>"
            ],
            "image/png": "[encoded data removed]"
          },
          "metadata": {
            "needs_background": "light"
          }
        }
      ],
      "source": [
        "## Reliability plot for the most confident predictions\n",
        "ReliabilityDiagram(dmax, diagram = \"max\", nr_plt = 0, nc_plt = 0, w_plt = 6, h_plt = 4)"
      ]
    },
    {
      "cell_type": "code",
      "execution_count": null,
      "metadata": {
        "id": "aAoV5OobfLNZ",
        "colab": {
          "base_uri": "https://localhost:8080/",
          "height": 308
        },
        "outputId": "259007da-35d3-4581-880b-80effd651729"
      },
      "outputs": [
        {
          "output_type": "display_data",
          "data": {
            "text/plain": [
              "<Figure size 720x288 with 2 Axes>"
            ],
            "image/png": "[encoded data removed]"
          },
          "metadata": {
            "needs_background": "light"
          }
        }
      ],
      "source": [
        "## Reliability plot for each class\n",
        "ReliabilityDiagram(dcw, diagram = \"cw\", nr_plt = 1, nc_plt = 2, w_plt = 10, h_plt = 4)"
      ]
    },
    {
      "cell_type": "code",
      "execution_count": null,
      "metadata": {
        "id": "GF0pV2TefLNZ",
        "colab": {
          "base_uri": "https://localhost:8080/"
        },
        "outputId": "7c24c65d-64c0-4392-b326-128a02d022a7"
      },
      "outputs": [
        {
          "output_type": "stream",
          "name": "stdout",
          "text": [
            "/content/drive/MyDrive/Trabajo de Grado Maestría/Experimentos Finales/05_Baselines_NoRNA/Adult/MLP 1 Capa/\n"
          ]
        }
      ],
      "source": [
        "## Path to save results\n",
        "dir_out = dir + \"MLP 1 Capa/\"\n",
        "\n",
        "if(not os.path.exists(dir_out)):\n",
        "  os.mkdir(dir_out)\n",
        "\n",
        "print(dir_out)\n",
        "\n",
        "## Export results\n",
        "df_metrics.to_feather(dir_out + \"CVMetrics.feather\")\n",
        "gm.to_feather(dir_out + \"GM.feather\")\n",
        "gm_ece.to_feather(dir_out + \"GM_ECE.feather\")\n",
        "dmax.to_feather(dir_out + \"Diagram_Max.feather\")\n",
        "dcw.to_feather(dir_out + \"Diagram_CW.feather\")"
      ]
    },
    {
      "cell_type": "markdown",
      "metadata": {
        "id": "gOr4bwNmi6gq"
      },
      "source": [
        "### MLP 2 Layers"
      ]
    },
    {
      "cell_type": "code",
      "execution_count": null,
      "metadata": {
        "id": "NhZudG2Ji6gq"
      },
      "outputs": [],
      "source": [
        "#==============================================#\n",
        "#  Search best parameters for random forests   #\n",
        "#==============================================#\n",
        "parameters = {\"hidden_layer_sizes\" : [(16,16), \n",
        "                                      (32,16), \n",
        "                                      (64,32), (64,16),\n",
        "                                      (128,64), (128,32), (128,16), \n",
        "                                      (256,128), (256,64), (256,32), (256,16)], \"activation\" : [\"identity\",\"relu\"] }\n",
        "\n",
        "mlp = MLPClassifier(random_state = 2210, solver = \"adam\", learning_rate_init = 0.001, learning_rate = \"adaptive\")\n",
        "mlp_cv = model_selection.GridSearchCV(estimator = mlp, param_grid = parameters, scoring = \"accuracy\", cv = cv_par, return_train_score = True, n_jobs = -1 )\n",
        "#mlp_cv.fit(X_train, y_train.ravel())\n",
        "mlp_cv.fit(np.concatenate((X_train, X_val), axis = 0), np.concatenate((y_train.ravel(), y_val.ravel()), axis = 0))"
      ]
    },
    {
      "cell_type": "code",
      "execution_count": null,
      "metadata": {
        "id": "iFrknXLri6gq",
        "colab": {
          "base_uri": "https://localhost:8080/",
          "height": 206
        },
        "outputId": "2a208272-0557-45c3-d312-e140e593cfe8"
      },
      "outputs": [
        {
          "output_type": "execute_result",
          "data": {
            "text/plain": [
              "   activation hidden_layer_sizes  acc_train_mean  acc_train_std  acc_val_mean  \\\n",
              "14   identity           [64, 16]        0.852087       0.000570      0.851590   \n",
              "17   identity          [128, 16]        0.851875       0.000736      0.851556   \n",
              "15   identity          [128, 64]        0.852015       0.000969      0.850771   \n",
              "12   identity           [32, 16]        0.852034       0.000456      0.850634   \n",
              "18   identity         [256, 128]        0.851696       0.000773      0.850600   \n",
              "\n",
              "    acc_val_std  \n",
              "14     0.004886  \n",
              "17     0.004298  \n",
              "15     0.004804  \n",
              "12     0.004764  \n",
              "18     0.004545  "
            ],
            "text/html": [
              "\n",
              "  <div id=\"df-968eac86-d966-4c11-8266-4e0706102fc9\">\n",
              "    <div class=\"colab-df-container\">\n",
              "      <div>\n",
              "<style scoped>\n",
              "    .dataframe tbody tr th:only-of-type {\n",
              "        vertical-align: middle;\n",
              "    }\n",
              "\n",
              "    .dataframe tbody tr th {\n",
              "        vertical-align: top;\n",
              "    }\n",
              "\n",
              "    .dataframe thead th {\n",
              "        text-align: right;\n",
              "    }\n",
              "</style>\n",
              "<table border=\"1\" class=\"dataframe\">\n",
              "  <thead>\n",
              "    <tr style=\"text-align: right;\">\n",
              "      <th></th>\n",
              "      <th>activation</th>\n",
              "      <th>hidden_layer_sizes</th>\n",
              "      <th>acc_train_mean</th>\n",
              "      <th>acc_train_std</th>\n",
              "      <th>acc_val_mean</th>\n",
              "      <th>acc_val_std</th>\n",
              "    </tr>\n",
              "  </thead>\n",
              "  <tbody>\n",
              "    <tr>\n",
              "      <th>14</th>\n",
              "      <td>identity</td>\n",
              "      <td>[64, 16]</td>\n",
              "      <td>0.852087</td>\n",
              "      <td>0.000570</td>\n",
              "      <td>0.851590</td>\n",
              "      <td>0.004886</td>\n",
              "    </tr>\n",
              "    <tr>\n",
              "      <th>17</th>\n",
              "      <td>identity</td>\n",
              "      <td>[128, 16]</td>\n",
              "      <td>0.851875</td>\n",
              "      <td>0.000736</td>\n",
              "      <td>0.851556</td>\n",
              "      <td>0.004298</td>\n",
              "    </tr>\n",
              "    <tr>\n",
              "      <th>15</th>\n",
              "      <td>identity</td>\n",
              "      <td>[128, 64]</td>\n",
              "      <td>0.852015</td>\n",
              "      <td>0.000969</td>\n",
              "      <td>0.850771</td>\n",
              "      <td>0.004804</td>\n",
              "    </tr>\n",
              "    <tr>\n",
              "      <th>12</th>\n",
              "      <td>identity</td>\n",
              "      <td>[32, 16]</td>\n",
              "      <td>0.852034</td>\n",
              "      <td>0.000456</td>\n",
              "      <td>0.850634</td>\n",
              "      <td>0.004764</td>\n",
              "    </tr>\n",
              "    <tr>\n",
              "      <th>18</th>\n",
              "      <td>identity</td>\n",
              "      <td>[256, 128]</td>\n",
              "      <td>0.851696</td>\n",
              "      <td>0.000773</td>\n",
              "      <td>0.850600</td>\n",
              "      <td>0.004545</td>\n",
              "    </tr>\n",
              "  </tbody>\n",
              "</table>\n",
              "</div>\n",
              "      <button class=\"colab-df-convert\" onclick=\"convertToInteractive('df-968eac86-d966-4c11-8266-4e0706102fc9')\"\n",
              "              title=\"Convert this dataframe to an interactive table.\"\n",
              "              style=\"display:none;\">\n",
              "        \n",
              "  <svg xmlns=\"http://www.w3.org/2000/svg\" height=\"24px\"viewBox=\"0 0 24 24\"\n",
              "       width=\"24px\">\n",
              "    <path d=\"M0 0h24v24H0V0z\" fill=\"none\"/>\n",
              "    <path d=\"M18.56 5.44l.94 2.06.94-2.06 2.06-.94-2.06-.94-.94-2.06-.94 2.06-2.06.94zm-11 1L8.5 8.5l.94-2.06 2.06-.94-2.06-.94L8.5 2.5l-.94 2.06-2.06.94zm10 10l.94 2.06.94-2.06 2.06-.94-2.06-.94-.94-2.06-.94 2.06-2.06.94z\"/><path d=\"M17.41 7.96l-1.37-1.37c-.4-.4-.92-.59-1.43-.59-.52 0-1.04.2-1.43.59L10.3 9.45l-7.72 7.72c-.78.78-.78 2.05 0 2.83L4 21.41c.39.39.9.59 1.41.59.51 0 1.02-.2 1.41-.59l7.78-7.78 2.81-2.81c.8-.78.8-2.07 0-2.86zM5.41 20L4 18.59l7.72-7.72 1.47 1.35L5.41 20z\"/>\n",
              "  </svg>\n",
              "      </button>\n",
              "      \n",
              "  <style>\n",
              "    .colab-df-container {\n",
              "      display:flex;\n",
              "      flex-wrap:wrap;\n",
              "      gap: 12px;\n",
              "    }\n",
              "\n",
              "    .colab-df-convert {\n",
              "      background-color: #E8F0FE;\n",
              "      border: none;\n",
              "      border-radius: 50%;\n",
              "      cursor: pointer;\n",
              "      display: none;\n",
              "      fill: #1967D2;\n",
              "      height: 32px;\n",
              "      padding: 0 0 0 0;\n",
              "      width: 32px;\n",
              "    }\n",
              "\n",
              "    .colab-df-convert:hover {\n",
              "      background-color: #E2EBFA;\n",
              "      box-shadow: 0px 1px 2px rgba(60, 64, 67, 0.3), 0px 1px 3px 1px rgba(60, 64, 67, 0.15);\n",
              "      fill: #174EA6;\n",
              "    }\n",
              "\n",
              "    [theme=dark] .colab-df-convert {\n",
              "      background-color: #3B4455;\n",
              "      fill: #D2E3FC;\n",
              "    }\n",
              "\n",
              "    [theme=dark] .colab-df-convert:hover {\n",
              "      background-color: #434B5C;\n",
              "      box-shadow: 0px 1px 3px 1px rgba(0, 0, 0, 0.15);\n",
              "      filter: drop-shadow(0px 1px 2px rgba(0, 0, 0, 0.3));\n",
              "      fill: #FFFFFF;\n",
              "    }\n",
              "  </style>\n",
              "\n",
              "      <script>\n",
              "        const buttonEl =\n",
              "          document.querySelector('#df-968eac86-d966-4c11-8266-4e0706102fc9 button.colab-df-convert');\n",
              "        buttonEl.style.display =\n",
              "          google.colab.kernel.accessAllowed ? 'block' : 'none';\n",
              "\n",
              "        async function convertToInteractive(key) {\n",
              "          const element = document.querySelector('#df-968eac86-d966-4c11-8266-4e0706102fc9');\n",
              "          const dataTable =\n",
              "            await google.colab.kernel.invokeFunction('convertToInteractive',\n",
              "                                                     [key], {});\n",
              "          if (!dataTable) return;\n",
              "\n",
              "          const docLinkHtml = 'Like what you see? Visit the ' +\n",
              "            '<a target=\"_blank\" href=https://colab.research.google.com/notebooks/data_table.ipynb>data table notebook</a>'\n",
              "            + ' to learn more about interactive tables.';\n",
              "          element.innerHTML = '';\n",
              "          dataTable['output_type'] = 'display_data';\n",
              "          await google.colab.output.renderOutput(dataTable, element);\n",
              "          const docLink = document.createElement('div');\n",
              "          docLink.innerHTML = docLinkHtml;\n",
              "          element.appendChild(docLink);\n",
              "        }\n",
              "      </script>\n",
              "    </div>\n",
              "  </div>\n",
              "  "
            ]
          },
          "metadata": {},
          "execution_count": 16
        }
      ],
      "source": [
        "## Results from CV\n",
        "df_metrics = pd.DataFrame(mlp_cv.cv_results_[\"params\"])\n",
        "df_metrics[\"acc_train_mean\"] = mlp_cv.cv_results_['mean_train_score']\n",
        "df_metrics[\"acc_train_std\"] = mlp_cv.cv_results_['std_train_score']\n",
        "df_metrics[\"acc_val_mean\"] = mlp_cv.cv_results_['mean_test_score']\n",
        "df_metrics[\"acc_val_std\"] = mlp_cv.cv_results_['std_test_score']\n",
        "\n",
        "## Top 5 best results\n",
        "df_metrics.sort_values(by = \"acc_val_mean\", ascending = False).head(5)"
      ]
    },
    {
      "cell_type": "code",
      "execution_count": null,
      "metadata": {
        "id": "1ayVZ8lqi6gr"
      },
      "outputs": [],
      "source": [
        "## Metrics of calibration\n",
        "gm, gm_ece, dmax, dcw = resume_metrics(X_test = X_test, Y_test = y_test, T_test = pd.get_dummies(y_test[:,0]).values, model = mlp_cv, nbins = 15, p_value = True, proba = \"predict_proba\")\n",
        " \n",
        "## Accuracy metrics\n",
        "gm[\"acc_train\"] = metrics.accuracy_score(y_true = y_train, y_pred = mlp_cv.predict_proba(X_train).argmax(axis = 1))\n",
        "gm[\"acc_val\"] = metrics.accuracy_score(y_true = y_val, y_pred = mlp_cv.predict_proba(X_val).argmax(axis = 1))\n",
        "gm[\"acc_test\"] = metrics.accuracy_score(y_true = y_test, y_pred = mlp_cv.predict_proba(X_test).argmax(axis = 1))\n"
      ]
    },
    {
      "cell_type": "code",
      "execution_count": null,
      "metadata": {
        "id": "-IOr2tkRi6gr",
        "colab": {
          "base_uri": "https://localhost:8080/",
          "height": 81
        },
        "outputId": "4abf0cc4-71d0-4775-8a83-7c21eb399132"
      },
      "outputs": [
        {
          "output_type": "execute_result",
          "data": {
            "text/plain": [
              "   Brier_full  Brier_maximum  Log-loss_full  Log-loss_maximum  acc_train  \\\n",
              "0    0.196405       0.196405       0.307424          0.307424   0.851534   \n",
              "\n",
              "    acc_val  acc_test  \n",
              "0  0.858053  0.861222  "
            ],
            "text/html": [
              "\n",
              "  <div id=\"df-9e65655f-e21b-4858-afa8-d31540aef6fc\">\n",
              "    <div class=\"colab-df-container\">\n",
              "      <div>\n",
              "<style scoped>\n",
              "    .dataframe tbody tr th:only-of-type {\n",
              "        vertical-align: middle;\n",
              "    }\n",
              "\n",
              "    .dataframe tbody tr th {\n",
              "        vertical-align: top;\n",
              "    }\n",
              "\n",
              "    .dataframe thead th {\n",
              "        text-align: right;\n",
              "    }\n",
              "</style>\n",
              "<table border=\"1\" class=\"dataframe\">\n",
              "  <thead>\n",
              "    <tr style=\"text-align: right;\">\n",
              "      <th></th>\n",
              "      <th>Brier_full</th>\n",
              "      <th>Brier_maximum</th>\n",
              "      <th>Log-loss_full</th>\n",
              "      <th>Log-loss_maximum</th>\n",
              "      <th>acc_train</th>\n",
              "      <th>acc_val</th>\n",
              "      <th>acc_test</th>\n",
              "    </tr>\n",
              "  </thead>\n",
              "  <tbody>\n",
              "    <tr>\n",
              "      <th>0</th>\n",
              "      <td>0.196405</td>\n",
              "      <td>0.196405</td>\n",
              "      <td>0.307424</td>\n",
              "      <td>0.307424</td>\n",
              "      <td>0.851534</td>\n",
              "      <td>0.858053</td>\n",
              "      <td>0.861222</td>\n",
              "    </tr>\n",
              "  </tbody>\n",
              "</table>\n",
              "</div>\n",
              "      <button class=\"colab-df-convert\" onclick=\"convertToInteractive('df-9e65655f-e21b-4858-afa8-d31540aef6fc')\"\n",
              "              title=\"Convert this dataframe to an interactive table.\"\n",
              "              style=\"display:none;\">\n",
              "        \n",
              "  <svg xmlns=\"http://www.w3.org/2000/svg\" height=\"24px\"viewBox=\"0 0 24 24\"\n",
              "       width=\"24px\">\n",
              "    <path d=\"M0 0h24v24H0V0z\" fill=\"none\"/>\n",
              "    <path d=\"M18.56 5.44l.94 2.06.94-2.06 2.06-.94-2.06-.94-.94-2.06-.94 2.06-2.06.94zm-11 1L8.5 8.5l.94-2.06 2.06-.94-2.06-.94L8.5 2.5l-.94 2.06-2.06.94zm10 10l.94 2.06.94-2.06 2.06-.94-2.06-.94-.94-2.06-.94 2.06-2.06.94z\"/><path d=\"M17.41 7.96l-1.37-1.37c-.4-.4-.92-.59-1.43-.59-.52 0-1.04.2-1.43.59L10.3 9.45l-7.72 7.72c-.78.78-.78 2.05 0 2.83L4 21.41c.39.39.9.59 1.41.59.51 0 1.02-.2 1.41-.59l7.78-7.78 2.81-2.81c.8-.78.8-2.07 0-2.86zM5.41 20L4 18.59l7.72-7.72 1.47 1.35L5.41 20z\"/>\n",
              "  </svg>\n",
              "      </button>\n",
              "      \n",
              "  <style>\n",
              "    .colab-df-container {\n",
              "      display:flex;\n",
              "      flex-wrap:wrap;\n",
              "      gap: 12px;\n",
              "    }\n",
              "\n",
              "    .colab-df-convert {\n",
              "      background-color: #E8F0FE;\n",
              "      border: none;\n",
              "      border-radius: 50%;\n",
              "      cursor: pointer;\n",
              "      display: none;\n",
              "      fill: #1967D2;\n",
              "      height: 32px;\n",
              "      padding: 0 0 0 0;\n",
              "      width: 32px;\n",
              "    }\n",
              "\n",
              "    .colab-df-convert:hover {\n",
              "      background-color: #E2EBFA;\n",
              "      box-shadow: 0px 1px 2px rgba(60, 64, 67, 0.3), 0px 1px 3px 1px rgba(60, 64, 67, 0.15);\n",
              "      fill: #174EA6;\n",
              "    }\n",
              "\n",
              "    [theme=dark] .colab-df-convert {\n",
              "      background-color: #3B4455;\n",
              "      fill: #D2E3FC;\n",
              "    }\n",
              "\n",
              "    [theme=dark] .colab-df-convert:hover {\n",
              "      background-color: #434B5C;\n",
              "      box-shadow: 0px 1px 3px 1px rgba(0, 0, 0, 0.15);\n",
              "      filter: drop-shadow(0px 1px 2px rgba(0, 0, 0, 0.3));\n",
              "      fill: #FFFFFF;\n",
              "    }\n",
              "  </style>\n",
              "\n",
              "      <script>\n",
              "        const buttonEl =\n",
              "          document.querySelector('#df-9e65655f-e21b-4858-afa8-d31540aef6fc button.colab-df-convert');\n",
              "        buttonEl.style.display =\n",
              "          google.colab.kernel.accessAllowed ? 'block' : 'none';\n",
              "\n",
              "        async function convertToInteractive(key) {\n",
              "          const element = document.querySelector('#df-9e65655f-e21b-4858-afa8-d31540aef6fc');\n",
              "          const dataTable =\n",
              "            await google.colab.kernel.invokeFunction('convertToInteractive',\n",
              "                                                     [key], {});\n",
              "          if (!dataTable) return;\n",
              "\n",
              "          const docLinkHtml = 'Like what you see? Visit the ' +\n",
              "            '<a target=\"_blank\" href=https://colab.research.google.com/notebooks/data_table.ipynb>data table notebook</a>'\n",
              "            + ' to learn more about interactive tables.';\n",
              "          element.innerHTML = '';\n",
              "          dataTable['output_type'] = 'display_data';\n",
              "          await google.colab.output.renderOutput(dataTable, element);\n",
              "          const docLink = document.createElement('div');\n",
              "          docLink.innerHTML = docLinkHtml;\n",
              "          element.appendChild(docLink);\n",
              "        }\n",
              "      </script>\n",
              "    </div>\n",
              "  </div>\n",
              "  "
            ]
          },
          "metadata": {},
          "execution_count": 97
        }
      ],
      "source": [
        "## Results calibration\n",
        "gm"
      ]
    },
    {
      "cell_type": "code",
      "execution_count": null,
      "metadata": {
        "id": "II5gyWjsi6gr",
        "colab": {
          "base_uri": "https://localhost:8080/",
          "height": 143
        },
        "outputId": "bde7d34f-aa34-46c2-c20d-fe7872e13ce7"
      },
      "outputs": [
        {
          "output_type": "execute_result",
          "data": {
            "text/plain": [
              "  Approach Distance  Binning  ECE observed  ECE perfcect mean  \\\n",
              "0  Maximum       TV     Data      0.012750           0.014787   \n",
              "1  Maximum       TV  Uniform      0.012904           0.012540   \n",
              "2       CW        -  Uniform      0.016556           0.240047   \n",
              "\n",
              "   ECE perfcect std  ECE p-value  \n",
              "0          0.003480        0.714  \n",
              "1          0.003477        0.436  \n",
              "2          0.007633        1.000  "
            ],
            "text/html": [
              "\n",
              "  <div id=\"df-16a7ba83-92d8-4895-9ec4-c6cc93620897\">\n",
              "    <div class=\"colab-df-container\">\n",
              "      <div>\n",
              "<style scoped>\n",
              "    .dataframe tbody tr th:only-of-type {\n",
              "        vertical-align: middle;\n",
              "    }\n",
              "\n",
              "    .dataframe tbody tr th {\n",
              "        vertical-align: top;\n",
              "    }\n",
              "\n",
              "    .dataframe thead th {\n",
              "        text-align: right;\n",
              "    }\n",
              "</style>\n",
              "<table border=\"1\" class=\"dataframe\">\n",
              "  <thead>\n",
              "    <tr style=\"text-align: right;\">\n",
              "      <th></th>\n",
              "      <th>Approach</th>\n",
              "      <th>Distance</th>\n",
              "      <th>Binning</th>\n",
              "      <th>ECE observed</th>\n",
              "      <th>ECE perfcect mean</th>\n",
              "      <th>ECE perfcect std</th>\n",
              "      <th>ECE p-value</th>\n",
              "    </tr>\n",
              "  </thead>\n",
              "  <tbody>\n",
              "    <tr>\n",
              "      <th>0</th>\n",
              "      <td>Maximum</td>\n",
              "      <td>TV</td>\n",
              "      <td>Data</td>\n",
              "      <td>0.012750</td>\n",
              "      <td>0.014787</td>\n",
              "      <td>0.003480</td>\n",
              "      <td>0.714</td>\n",
              "    </tr>\n",
              "    <tr>\n",
              "      <th>1</th>\n",
              "      <td>Maximum</td>\n",
              "      <td>TV</td>\n",
              "      <td>Uniform</td>\n",
              "      <td>0.012904</td>\n",
              "      <td>0.012540</td>\n",
              "      <td>0.003477</td>\n",
              "      <td>0.436</td>\n",
              "    </tr>\n",
              "    <tr>\n",
              "      <th>2</th>\n",
              "      <td>CW</td>\n",
              "      <td>-</td>\n",
              "      <td>Uniform</td>\n",
              "      <td>0.016556</td>\n",
              "      <td>0.240047</td>\n",
              "      <td>0.007633</td>\n",
              "      <td>1.000</td>\n",
              "    </tr>\n",
              "  </tbody>\n",
              "</table>\n",
              "</div>\n",
              "      <button class=\"colab-df-convert\" onclick=\"convertToInteractive('df-16a7ba83-92d8-4895-9ec4-c6cc93620897')\"\n",
              "              title=\"Convert this dataframe to an interactive table.\"\n",
              "              style=\"display:none;\">\n",
              "        \n",
              "  <svg xmlns=\"http://www.w3.org/2000/svg\" height=\"24px\"viewBox=\"0 0 24 24\"\n",
              "       width=\"24px\">\n",
              "    <path d=\"M0 0h24v24H0V0z\" fill=\"none\"/>\n",
              "    <path d=\"M18.56 5.44l.94 2.06.94-2.06 2.06-.94-2.06-.94-.94-2.06-.94 2.06-2.06.94zm-11 1L8.5 8.5l.94-2.06 2.06-.94-2.06-.94L8.5 2.5l-.94 2.06-2.06.94zm10 10l.94 2.06.94-2.06 2.06-.94-2.06-.94-.94-2.06-.94 2.06-2.06.94z\"/><path d=\"M17.41 7.96l-1.37-1.37c-.4-.4-.92-.59-1.43-.59-.52 0-1.04.2-1.43.59L10.3 9.45l-7.72 7.72c-.78.78-.78 2.05 0 2.83L4 21.41c.39.39.9.59 1.41.59.51 0 1.02-.2 1.41-.59l7.78-7.78 2.81-2.81c.8-.78.8-2.07 0-2.86zM5.41 20L4 18.59l7.72-7.72 1.47 1.35L5.41 20z\"/>\n",
              "  </svg>\n",
              "      </button>\n",
              "      \n",
              "  <style>\n",
              "    .colab-df-container {\n",
              "      display:flex;\n",
              "      flex-wrap:wrap;\n",
              "      gap: 12px;\n",
              "    }\n",
              "\n",
              "    .colab-df-convert {\n",
              "      background-color: #E8F0FE;\n",
              "      border: none;\n",
              "      border-radius: 50%;\n",
              "      cursor: pointer;\n",
              "      display: none;\n",
              "      fill: #1967D2;\n",
              "      height: 32px;\n",
              "      padding: 0 0 0 0;\n",
              "      width: 32px;\n",
              "    }\n",
              "\n",
              "    .colab-df-convert:hover {\n",
              "      background-color: #E2EBFA;\n",
              "      box-shadow: 0px 1px 2px rgba(60, 64, 67, 0.3), 0px 1px 3px 1px rgba(60, 64, 67, 0.15);\n",
              "      fill: #174EA6;\n",
              "    }\n",
              "\n",
              "    [theme=dark] .colab-df-convert {\n",
              "      background-color: #3B4455;\n",
              "      fill: #D2E3FC;\n",
              "    }\n",
              "\n",
              "    [theme=dark] .colab-df-convert:hover {\n",
              "      background-color: #434B5C;\n",
              "      box-shadow: 0px 1px 3px 1px rgba(0, 0, 0, 0.15);\n",
              "      filter: drop-shadow(0px 1px 2px rgba(0, 0, 0, 0.3));\n",
              "      fill: #FFFFFF;\n",
              "    }\n",
              "  </style>\n",
              "\n",
              "      <script>\n",
              "        const buttonEl =\n",
              "          document.querySelector('#df-16a7ba83-92d8-4895-9ec4-c6cc93620897 button.colab-df-convert');\n",
              "        buttonEl.style.display =\n",
              "          google.colab.kernel.accessAllowed ? 'block' : 'none';\n",
              "\n",
              "        async function convertToInteractive(key) {\n",
              "          const element = document.querySelector('#df-16a7ba83-92d8-4895-9ec4-c6cc93620897');\n",
              "          const dataTable =\n",
              "            await google.colab.kernel.invokeFunction('convertToInteractive',\n",
              "                                                     [key], {});\n",
              "          if (!dataTable) return;\n",
              "\n",
              "          const docLinkHtml = 'Like what you see? Visit the ' +\n",
              "            '<a target=\"_blank\" href=https://colab.research.google.com/notebooks/data_table.ipynb>data table notebook</a>'\n",
              "            + ' to learn more about interactive tables.';\n",
              "          element.innerHTML = '';\n",
              "          dataTable['output_type'] = 'display_data';\n",
              "          await google.colab.output.renderOutput(dataTable, element);\n",
              "          const docLink = document.createElement('div');\n",
              "          docLink.innerHTML = docLinkHtml;\n",
              "          element.appendChild(docLink);\n",
              "        }\n",
              "      </script>\n",
              "    </div>\n",
              "  </div>\n",
              "  "
            ]
          },
          "metadata": {},
          "execution_count": 98
        }
      ],
      "source": [
        "## Results calibration\n",
        "gm_ece"
      ]
    },
    {
      "cell_type": "code",
      "execution_count": null,
      "metadata": {
        "id": "MZPhnrY2i6gr",
        "colab": {
          "base_uri": "https://localhost:8080/",
          "height": 299
        },
        "outputId": "664bf760-3568-4998-ad16-439cebf0cb16"
      },
      "outputs": [
        {
          "output_type": "display_data",
          "data": {
            "text/plain": [
              "<Figure size 432x288 with 1 Axes>"
            ],
            "image/png": "[encoded data removed]"
          },
          "metadata": {
            "needs_background": "light"
          }
        }
      ],
      "source": [
        "## Reliability plot for the most confident predictions\n",
        "ReliabilityDiagram(dmax, diagram = \"max\", nr_plt = 0, nc_plt = 0, w_plt = 6, h_plt = 4)"
      ]
    },
    {
      "cell_type": "code",
      "execution_count": null,
      "metadata": {
        "id": "zogGXSSvi6gs",
        "colab": {
          "base_uri": "https://localhost:8080/",
          "height": 308
        },
        "outputId": "3f153028-4eb0-41da-e2bc-42d73c6d414f"
      },
      "outputs": [
        {
          "output_type": "display_data",
          "data": {
            "text/plain": [
              "<Figure size 720x288 with 2 Axes>"
            ],
            "image/png": "[encoded data removed]"
          },
          "metadata": {
            "needs_background": "light"
          }
        }
      ],
      "source": [
        "## Reliability plot for each class\n",
        "ReliabilityDiagram(dcw, diagram = \"cw\", nr_plt = 1, nc_plt = 2, w_plt = 10, h_plt = 4)"
      ]
    },
    {
      "cell_type": "code",
      "execution_count": null,
      "metadata": {
        "id": "4doNHC5ii6gs",
        "colab": {
          "base_uri": "https://localhost:8080/"
        },
        "outputId": "2f7bf55c-8b22-493f-815f-6d6a11626154"
      },
      "outputs": [
        {
          "output_type": "stream",
          "name": "stdout",
          "text": [
            "/content/drive/MyDrive/Trabajo de Grado Maestría/Experimentos Finales/05_Baselines_NoRNA/Adult/MLP 2 Capa/\n"
          ]
        }
      ],
      "source": [
        "## Path to save results\n",
        "dir_out = dir + \"MLP 2 Capa/\"\n",
        "\n",
        "if(not os.path.exists(dir_out)):\n",
        "  os.mkdir(dir_out)\n",
        "\n",
        "print(dir_out)\n",
        "\n",
        "## Export results\n",
        "df_metrics.to_feather(dir_out + \"CVMetrics.feather\")\n",
        "gm.to_feather(dir_out + \"GM.feather\")\n",
        "gm_ece.to_feather(dir_out + \"GM_ECE.feather\")\n",
        "dmax.to_feather(dir_out + \"Diagram_Max.feather\")\n",
        "dcw.to_feather(dir_out + \"Diagram_CW.feather\")"
      ]
    },
    {
      "cell_type": "code",
      "source": [
        "## Path to save results\n",
        "dir_out = dir + \"MLP 2 Capa/\"\n",
        "df_metrics = pd.read_feather(dir_out + \"CVMetrics.feather\")"
      ],
      "metadata": {
        "id": "yz8JVnRM3bRi"
      },
      "execution_count": null,
      "outputs": []
    }
  ],
  "metadata": {
    "accelerator": "GPU",
    "colab": {
      "provenance": [],
      "toc_visible": true
    },
    "gpuClass": "standard",
    "kernelspec": {
      "display_name": "Python 3",
      "language": "python",
      "name": "python3"
    },
    "language_info": {
      "codemirror_mode": {
        "name": "ipython",
        "version": 3
      },
      "file_extension": ".py",
      "mimetype": "text/x-python",
      "name": "python",
      "nbconvert_exporter": "python",
      "pygments_lexer": "ipython3",
      "version": "3.7.6"
    },
    "metadata": {
      "interpreter": {
        "hash": "6f5c4f860b8b5392c9fe536844a7572c0d9b36e44085495c747ab5a91e5f3cc1"
      }
    }
  },
  "nbformat": 4,
  "nbformat_minor": 0
}